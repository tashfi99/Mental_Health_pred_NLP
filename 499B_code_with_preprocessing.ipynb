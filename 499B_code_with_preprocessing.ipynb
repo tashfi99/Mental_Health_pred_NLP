{
 "cells": [
  {
   "cell_type": "code",
   "execution_count": 4,
   "id": "60331d05",
   "metadata": {},
   "outputs": [],
   "source": [
    "import pandas as pd\n",
    "import nltk"
   ]
  },
  {
   "cell_type": "code",
   "execution_count": 5,
   "id": "dabbc14b",
   "metadata": {},
   "outputs": [],
   "source": [
    "#data_encoded=\"ISO-8859-1\"\n",
    "data = pd.read_csv('Downloads/Reddit-ADPS-Data_2.csv',encoding= 'unicode_escape')"
   ]
  },
  {
   "cell_type": "code",
   "execution_count": 6,
   "id": "d59c1434",
   "metadata": {},
   "outputs": [
    {
     "name": "stdout",
     "output_type": "stream",
     "text": [
      "<class 'pandas.core.frame.DataFrame'>\n",
      "RangeIndex: 8330 entries, 0 to 8329\n",
      "Data columns (total 4 columns):\n",
      " #   Column      Non-Null Count  Dtype  \n",
      "---  ------      --------------  -----  \n",
      " 0   post        8315 non-null   object \n",
      " 1   topics      8330 non-null   object \n",
      " 2   Unnamed: 2  0 non-null      float64\n",
      " 3   Unnamed: 3  4 non-null      object \n",
      "dtypes: float64(1), object(3)\n",
      "memory usage: 260.4+ KB\n"
     ]
    }
   ],
   "source": [
    "data.info()"
   ]
  },
  {
   "cell_type": "code",
   "execution_count": 7,
   "id": "c136459c",
   "metadata": {},
   "outputs": [
    {
     "data": {
      "text/plain": [
       "(8330, 4)"
      ]
     },
     "execution_count": 7,
     "metadata": {},
     "output_type": "execute_result"
    }
   ],
   "source": [
    "data.shape\n"
   ]
  },
  {
   "cell_type": "code",
   "execution_count": 8,
   "id": "42dfd04f",
   "metadata": {},
   "outputs": [
    {
     "data": {
      "text/html": [
       "<div>\n",
       "<style scoped>\n",
       "    .dataframe tbody tr th:only-of-type {\n",
       "        vertical-align: middle;\n",
       "    }\n",
       "\n",
       "    .dataframe tbody tr th {\n",
       "        vertical-align: top;\n",
       "    }\n",
       "\n",
       "    .dataframe thead th {\n",
       "        text-align: right;\n",
       "    }\n",
       "</style>\n",
       "<table border=\"1\" class=\"dataframe\">\n",
       "  <thead>\n",
       "    <tr style=\"text-align: right;\">\n",
       "      <th></th>\n",
       "      <th>post</th>\n",
       "      <th>topics</th>\n",
       "      <th>Unnamed: 2</th>\n",
       "      <th>Unnamed: 3</th>\n",
       "    </tr>\n",
       "  </thead>\n",
       "  <tbody>\n",
       "    <tr>\n",
       "      <th>0</th>\n",
       "      <td>Does anyone else get anxious with working? im ...</td>\n",
       "      <td>anxiety</td>\n",
       "      <td>NaN</td>\n",
       "      <td>NaN</td>\n",
       "    </tr>\n",
       "    <tr>\n",
       "      <th>1</th>\n",
       "      <td>Help with anxiety-inducing fears about school ...</td>\n",
       "      <td>anxiety</td>\n",
       "      <td>NaN</td>\n",
       "      <td>NaN</td>\n",
       "    </tr>\n",
       "    <tr>\n",
       "      <th>2</th>\n",
       "      <td>Use up what's left and throw the rest away I r...</td>\n",
       "      <td>anxiety</td>\n",
       "      <td>NaN</td>\n",
       "      <td>NaN</td>\n",
       "    </tr>\n",
       "    <tr>\n",
       "      <th>3</th>\n",
       "      <td>My brain is driving me crazy! Im a perfectioni...</td>\n",
       "      <td>anxiety</td>\n",
       "      <td>NaN</td>\n",
       "      <td>NaN</td>\n",
       "    </tr>\n",
       "    <tr>\n",
       "      <th>4</th>\n",
       "      <td>Does anyone else feel like the worst person ev...</td>\n",
       "      <td>anxiety</td>\n",
       "      <td>NaN</td>\n",
       "      <td>NaN</td>\n",
       "    </tr>\n",
       "  </tbody>\n",
       "</table>\n",
       "</div>"
      ],
      "text/plain": [
       "                                                post   topics  Unnamed: 2  \\\n",
       "0  Does anyone else get anxious with working? im ...  anxiety         NaN   \n",
       "1  Help with anxiety-inducing fears about school ...  anxiety         NaN   \n",
       "2  Use up what's left and throw the rest away I r...  anxiety         NaN   \n",
       "3  My brain is driving me crazy! Im a perfectioni...  anxiety         NaN   \n",
       "4  Does anyone else feel like the worst person ev...  anxiety         NaN   \n",
       "\n",
       "  Unnamed: 3  \n",
       "0        NaN  \n",
       "1        NaN  \n",
       "2        NaN  \n",
       "3        NaN  \n",
       "4        NaN  "
      ]
     },
     "execution_count": 8,
     "metadata": {},
     "output_type": "execute_result"
    }
   ],
   "source": [
    "data.head()"
   ]
  },
  {
   "cell_type": "code",
   "execution_count": 9,
   "id": "db71a71b",
   "metadata": {},
   "outputs": [
    {
     "data": {
      "text/plain": [
       "<bound method NDFrame._add_numeric_operations.<locals>.sum of        post  topics  Unnamed: 2  Unnamed: 3\n",
       "0     False   False        True        True\n",
       "1     False   False        True        True\n",
       "2     False   False        True        True\n",
       "3     False   False        True        True\n",
       "4     False   False        True        True\n",
       "...     ...     ...         ...         ...\n",
       "8325  False   False        True        True\n",
       "8326  False   False        True        True\n",
       "8327  False   False        True        True\n",
       "8328  False   False        True        True\n",
       "8329  False   False        True        True\n",
       "\n",
       "[8330 rows x 4 columns]>"
      ]
     },
     "execution_count": 9,
     "metadata": {},
     "output_type": "execute_result"
    }
   ],
   "source": [
    "data.isnull().sum"
   ]
  },
  {
   "cell_type": "code",
   "execution_count": 10,
   "id": "c3444d9e",
   "metadata": {},
   "outputs": [],
   "source": [
    "#REMOVING COLUMNS\n",
    "#data.drop(columns=['Unnamed: 2','Unnamed: 3'],inplace=True)"
   ]
  },
  {
   "cell_type": "code",
   "execution_count": 11,
   "id": "ea5f1a53",
   "metadata": {},
   "outputs": [
    {
     "data": {
      "text/html": [
       "<div>\n",
       "<style scoped>\n",
       "    .dataframe tbody tr th:only-of-type {\n",
       "        vertical-align: middle;\n",
       "    }\n",
       "\n",
       "    .dataframe tbody tr th {\n",
       "        vertical-align: top;\n",
       "    }\n",
       "\n",
       "    .dataframe thead th {\n",
       "        text-align: right;\n",
       "    }\n",
       "</style>\n",
       "<table border=\"1\" class=\"dataframe\">\n",
       "  <thead>\n",
       "    <tr style=\"text-align: right;\">\n",
       "      <th></th>\n",
       "      <th>post</th>\n",
       "      <th>topics</th>\n",
       "      <th>Unnamed: 2</th>\n",
       "      <th>Unnamed: 3</th>\n",
       "    </tr>\n",
       "  </thead>\n",
       "  <tbody>\n",
       "    <tr>\n",
       "      <th>0</th>\n",
       "      <td>Does anyone else get anxious with working? im ...</td>\n",
       "      <td>anxiety</td>\n",
       "      <td>NaN</td>\n",
       "      <td>NaN</td>\n",
       "    </tr>\n",
       "    <tr>\n",
       "      <th>1</th>\n",
       "      <td>Help with anxiety-inducing fears about school ...</td>\n",
       "      <td>anxiety</td>\n",
       "      <td>NaN</td>\n",
       "      <td>NaN</td>\n",
       "    </tr>\n",
       "    <tr>\n",
       "      <th>2</th>\n",
       "      <td>Use up what's left and throw the rest away I r...</td>\n",
       "      <td>anxiety</td>\n",
       "      <td>NaN</td>\n",
       "      <td>NaN</td>\n",
       "    </tr>\n",
       "    <tr>\n",
       "      <th>3</th>\n",
       "      <td>My brain is driving me crazy! Im a perfectioni...</td>\n",
       "      <td>anxiety</td>\n",
       "      <td>NaN</td>\n",
       "      <td>NaN</td>\n",
       "    </tr>\n",
       "    <tr>\n",
       "      <th>4</th>\n",
       "      <td>Does anyone else feel like the worst person ev...</td>\n",
       "      <td>anxiety</td>\n",
       "      <td>NaN</td>\n",
       "      <td>NaN</td>\n",
       "    </tr>\n",
       "  </tbody>\n",
       "</table>\n",
       "</div>"
      ],
      "text/plain": [
       "                                                post   topics  Unnamed: 2  \\\n",
       "0  Does anyone else get anxious with working? im ...  anxiety         NaN   \n",
       "1  Help with anxiety-inducing fears about school ...  anxiety         NaN   \n",
       "2  Use up what's left and throw the rest away I r...  anxiety         NaN   \n",
       "3  My brain is driving me crazy! Im a perfectioni...  anxiety         NaN   \n",
       "4  Does anyone else feel like the worst person ev...  anxiety         NaN   \n",
       "\n",
       "  Unnamed: 3  \n",
       "0        NaN  \n",
       "1        NaN  \n",
       "2        NaN  \n",
       "3        NaN  \n",
       "4        NaN  "
      ]
     },
     "execution_count": 11,
     "metadata": {},
     "output_type": "execute_result"
    }
   ],
   "source": [
    "data.head()"
   ]
  },
  {
   "cell_type": "code",
   "execution_count": 12,
   "id": "b25e7344",
   "metadata": {},
   "outputs": [
    {
     "name": "stderr",
     "output_type": "stream",
     "text": [
      "C:\\Users\\Dell\\AppData\\Local\\Temp\\ipykernel_2844\\384509375.py:2: FutureWarning: Passing a negative integer is deprecated in version 1.0 and will not be supported in future version. Instead, use None to not limit the column width.\n",
      "  pd.set_option('display.max_colwidth', -1)\n"
     ]
    },
    {
     "data": {
      "text/plain": [
       "\"No regrets or grudges/angry at things that have passed, and not worrying too much about the future, that's true serenity.\"                                                                                                                                                                                                                                                                                                                                                                                                                                                                                                                                                                                                                                                                5\n",
       "but my heart is still restless even though my mouth is talking                                                                                                                                                                                                                                                                                                                                                                                                                                                                                                                                                                                                                                                                                                                             4\n",
       "I want to exhale the restlessness in my chest with my breath                                                                                                                                                                                                                                                                                                                                                                                                                                                                                                                                                                                                                                                                                                                               3\n",
       "Restless and agitated                                                                                                                                                                                                                                                                                                                                                                                                                                                                                                                                                                                                                                                                                                                                                                      3\n",
       "#NAME?                                                                                                                                                                                                                                                                                                                                                                                                                                                                                                                                                                                                                                                                                                                                                                                     3\n",
       "                                                                                                                                                                                                                                                                                                                                                                                                                                                                                                                                                                                                                                                                                                                                                                                          ..\n",
       "It's been a few days when I sleep by default I'm afraid, restless, nervous, feel alone, sometimes my breath is really heavy.....why is that... like I'm afraid of being restless, oh my God                                                                                                                                                                                                                                                                                                                                                                                                                                                                                                                                                                                                1\n",
       "Some days, I don't think I'm doing well, so I feel like I'm really crying, scared, anxious, just sad. until I think of this when I cry, does my fast break or not?                                                                                                                                                                                                                                                                                                                                                                                                                                                                                                                                                                                                                         1\n",
       "In the evening, towards the morning. A little worried, a lot of longing                                                                                                                                                                                                                                                                                                                                                                                                                                                                                                                                                                                                                                                                                                                    1\n",
       "If you're nervous looking for the best position before going to sleep, it feels like someone's watching you                                                                                                                                                                                                                                                                                                                                                                                                                                                                                                                                                                                                                                                                              1\n",
       "Fuck I've been wanting to kill myself for about 20 years now.  Everything I do just makes me think about it more no matter how much I might be lying to myself about enjoying \"the moment\".  I trust no one when it comes to this as basically everyone I've ever opened up to about this has just called the police and the night ends w me naked in solitary confinement.  My plan has been for the last couple years to wait for my parents to die so they don't have to deal with it but I'm leaning closer and closer to saying fuck it to that.  I have a sister but she has a family and they would be essentially unaffected by my absence. I'm willing to hire someone to kill me at this point because I'm pretty sure I'm just too cowardly a piece of shit to do it myself.    1\n",
       "Name: post, Length: 8227, dtype: int64"
      ]
     },
     "execution_count": 12,
     "metadata": {},
     "output_type": "execute_result"
    }
   ],
   "source": [
    "#expanding the dispay of text sms column\n",
    "pd.set_option('display.max_colwidth', -1)\n",
    "#using only v1 and v2 column\n",
    "data= data [['post','topics']]\n",
    "#data.head()\n",
    "#checking the count of the dependent variable\n",
    "data['post'].value_counts()\n"
   ]
  },
  {
   "cell_type": "code",
   "execution_count": 13,
   "id": "ea09fbc2",
   "metadata": {},
   "outputs": [
    {
     "data": {
      "text/html": [
       "<div>\n",
       "<style scoped>\n",
       "    .dataframe tbody tr th:only-of-type {\n",
       "        vertical-align: middle;\n",
       "    }\n",
       "\n",
       "    .dataframe tbody tr th {\n",
       "        vertical-align: top;\n",
       "    }\n",
       "\n",
       "    .dataframe thead th {\n",
       "        text-align: right;\n",
       "    }\n",
       "</style>\n",
       "<table border=\"1\" class=\"dataframe\">\n",
       "  <thead>\n",
       "    <tr style=\"text-align: right;\">\n",
       "      <th></th>\n",
       "      <th>post</th>\n",
       "      <th>topics</th>\n",
       "    </tr>\n",
       "  </thead>\n",
       "  <tbody>\n",
       "    <tr>\n",
       "      <th>0</th>\n",
       "      <td>Does anyone else get anxious with working? im scared that im going to have to do repairs that cost of money.</td>\n",
       "      <td>anxiety</td>\n",
       "    </tr>\n",
       "    <tr>\n",
       "      <th>1</th>\n",
       "      <td>Help with anxiety-inducing fears about school caused by a health issue I'm 35 and planning to go back to grad school, but over the years I developed some eye floaters that I can mostly ignore. They are just out of my visible sight range when reading small books like novels, but I started studying for the GRE with a big textbook and realized how obvious these floaters were now, and they've left me with anxiety about how I'm going to cope with school if, on top of everything else like how I'm no longer used to student life, how grad school is likely the hardest form of school I've ever done etc, add to that this problem with distracting floaters in my eyes that distract and annoy me.\\n\\nI really don't know how to deal here. I am not confident in exposure therapy as I have had these floaters for a few years and really only learned to deal with them by changing my lifestyle such that I don't have to deal with them. It's not a big issue, and some junk in my eyes shouldn't be THAT much of a problem. But just now I just glanced at my book for a few minutes and now I'm dizzy with worry about it.\\n\\nWhat to do?</td>\n",
       "      <td>anxiety</td>\n",
       "    </tr>\n",
       "    <tr>\n",
       "      <th>2</th>\n",
       "      <td>Use up what's left and throw the rest away I recently returned from 6 years working overseas.\\n\\nUnfortunately in the last few years my drinking and stimulant became worse and was detrimental to my mental and physical health.\\n\\nI'm doing fine now as far as that is concerned. Attended therapy, clean and sober since November last year.\\n\\nWhen I came back I heard a few of my \"friends\" use the following phrase,\\n\\n\"we'll just use up what's left of him and then throw the rest away\"\\n\\nI've never heard this before. I've always been a people pleasing personality type and I'm struggling hard to determine how to interpret it.\\n\\nMaybe I just don't want to face facts that it means exactly what it says... That by hanging around with these people I put myself in a weak position and they aren't real friends at all.\\n\\nAny thoughts?</td>\n",
       "      <td>anxiety</td>\n",
       "    </tr>\n",
       "    <tr>\n",
       "      <th>3</th>\n",
       "      <td>My brain is driving me crazy! Im a perfectionist and think everyone hates me all the time. I literally always worried Ive done something wrong. \\n\\nIm at my first big professional conference in a major us city. I barely slept last night because of a backache and nerves. That and the jet lag is impairing  my functioning and I have blotchy skin and my dress is riding up on my legs and Ive had to pull it down. All I had to do today was register for the conference, but I was confused at every step and feel that everyone thinks Im stupid or hungover or unprofessional or something. Im walking around this city I do not know oblivious and feel embarrassed and stupid. My anxiety is killing me and men keep hitting on me. I havent been away from my husband since we moved in together and I feel so dumb and small. \\n\\nIm so scared for my presentation tomorrow. Can someone either console me or kindly put me out of my misery?</td>\n",
       "      <td>anxiety</td>\n",
       "    </tr>\n",
       "    <tr>\n",
       "      <th>4</th>\n",
       "      <td>Does anyone else feel like the worst person ever if they annoy a friend? Hey Reddit. Basically, I have mild anxiety. But something that really messes with my head is when I have a fall out or get a blunt text from a friend to say I annoyed them when I did something. My first response is always I'm sorry (and trying not to say it a million times over) but my mind then goes through this turmoil where I have all these esteem lowering thoughts along the lines of, they'll hate me forever now, or I'm such a horrible person, as well as being filled with guilt for upsetting the person.\\nIt always turns out that whatever I did wrong only annoyed them for a short period of time and before I knew it life is back to normal, I just wish I could control the horrible negative wave that comes over me</td>\n",
       "      <td>anxiety</td>\n",
       "    </tr>\n",
       "    <tr>\n",
       "      <th>...</th>\n",
       "      <td>...</td>\n",
       "      <td>...</td>\n",
       "    </tr>\n",
       "    <tr>\n",
       "      <th>8325</th>\n",
       "      <td>alone, useless and horribly guilty reaching out here because i have nothing else. no friends or family or anything. no money or hobbies or interests or a career or a future. not healthy in body or in the mind. i've been trying harder than i have ever tried and can't do it.</td>\n",
       "      <td>suicidewatch</td>\n",
       "    </tr>\n",
       "    <tr>\n",
       "      <th>8326</th>\n",
       "      <td>Am I not understanding/seeing something? This is not a cry for help, this is not me asking for prayers and sympathy, Id like this to be more of an intellectual discussion.\\n\\nWhat Im about to say is coming from a point of view that Im aware may be negative and skewed due to events/observations that conditioned my subconscious to think this way. \\n\\nAnyway, I genuinely just dont see the point of this life. To me, it seems very high pain-low/mediocre reward. \\n\\nIn just about every situation, there are 4 things that usually happen with experiences you have, goals you have and just life in general that I have a problem with. That being:\\n\\n1) The necessary hard-ships/lessons you endure in life.\\n\\n2) The reward you get out of it.\\n\\n3) Was the reward even worth it?\\n\\n4) Why any of it at all?\\n\\nNumber 4 falls into more if a philosophical discussion, but still contributes to why I have suicidal thoughts. I think the 4 above points apply to literally everything, but Ill throw out a couple of examples in the format of those points to help illustrate my issue.\\n\\n1) A young kid gets his/her heart crushed in high school by a girl/boy. (maybe more than once)\\n\\n2) Kid gains a new understanding of what love really is, or at least what it isnt and maybe gains a better idea of what they want in a partner.\\n\\n3) This may happen a few more times into adulthood, but theyÃ¢â¬â¢re finally at a point where they may have found someone they choose to settle with. Cool, but of course no matter what, issues still occur, and recurr with any relationship.\\n\\n4) Why any of this at all?\\n\\nA different example:\\n\\n1) Guy grows up in poverty\\n\\n2) All of those years in poverty gave him this crazy drive to make tons of money and live a life he never had.\\n\\n3) He finally has a big house, nice car, and things hes always wanted. And in my mind, Im like Ã¢â¬ÅOk.. I just went through absolute hell to have these things.. what now?Ã¢â¬Â. Which leads me to number 4..\\n\\n4) Why any if that at all?\\n\\n\\nThe way I break down these experiences in my little 1-4 format may be flawed, 3 and 4 to me are related and can overlap, but anyway..\\n\\n4 is the main one for me, its just kind of the classic Ã¢â¬Åwhy are we even here?Ã¢â¬Â question. Ok so you learn these lessons in life and eventually find happiness. Ok, for what? Like ultimately what are we even doing here? Are we here just to experience things in these little fleshy suits we have on? Why? How does what we experience in our lives here tie into any signifigance into anything at all?\\n\\nSo the combination of the sometimes unbearable pain it takes to finally experience happiness, and not seeing the point of any of it in the first place, makes me not want to live anymore.\\n\\nIm not the best at writing/typing, Im also not the best at explaining things, but I tried my best to get this off my chest. Thanks to any that took the time to read.</td>\n",
       "      <td>suicidewatch</td>\n",
       "    </tr>\n",
       "    <tr>\n",
       "      <th>8327</th>\n",
       "      <td>Just a bad day So today has been a stressful day, almost couldn't pay rent, found out my mother has tumors in her lungs and they might be cancerous, my significant other got extremely pissed off at me because I forgot today was our anniversary because of the other stuff that piled on, ended up breaking my phone and now being constantly told by my other half that life would be better without me in it since all I do is make them miserable. I just want to end it all but because I have kids I don't want them to live with it. I am just at a loss.\\n\\nEdit: forgot to add my spouse thinks I am cheating on them while I am just crying.</td>\n",
       "      <td>suicidewatch</td>\n",
       "    </tr>\n",
       "    <tr>\n",
       "      <th>8328</th>\n",
       "      <td>When Im dead maybe the suffering will all come to an end. Sorry for poor grammar. I have a plan this plan is to hang myself in my wooded area of my property. I dont feel safe not even at my school, my parents locked all of the knives away and that doesnt matter. I found a new way glass. It cuts much deeper and I bleed more. \\n      \\n        For more background information I live with my parents and two other siblings Im the youngest and am a freshmen in school. I have been sad since 6th grade and suicidal since 7th grade. Ive tried taking my life once by suffocation with an extension cord and I lived. Ever since my depression and suicidal thoughts have gotten worse. I now know how to kill myself and will do before Christmas. I havent set a date but the next day when I get too low my parents and siblings wont see me. When they go searching in the woods all theyÃ¢â¬â¢ll see is my body hanging from a tree. Im sorry Im too late to fix and Im sorry.</td>\n",
       "      <td>suicidewatch</td>\n",
       "    </tr>\n",
       "    <tr>\n",
       "      <th>8329</th>\n",
       "      <td>Fuck I've been wanting to kill myself for about 20 years now.  Everything I do just makes me think about it more no matter how much I might be lying to myself about enjoying \"the moment\".  I trust no one when it comes to this as basically everyone I've ever opened up to about this has just called the police and the night ends w me naked in solitary confinement.  My plan has been for the last couple years to wait for my parents to die so they don't have to deal with it but I'm leaning closer and closer to saying fuck it to that.  I have a sister but she has a family and they would be essentially unaffected by my absence. I'm willing to hire someone to kill me at this point because I'm pretty sure I'm just too cowardly a piece of shit to do it myself.</td>\n",
       "      <td>suicidewatch</td>\n",
       "    </tr>\n",
       "  </tbody>\n",
       "</table>\n",
       "<p>8330 rows × 2 columns</p>\n",
       "</div>"
      ],
      "text/plain": [
       "                                                                                                                                                                                                                                                                                                                                                                                                                                                                                                                                                                                                                                                                                                                                                                                                                                                                                                                                                                                                                                                                                                                                                                                                                                                                                                                                                                                                                                                                                                                                                                                                                                                                                                                                                                                                                                                                                                                                                                                                                                                                                                                                                                                                                                                                                                                                                                                                                                                                                                                                                                                                                                                                                                                                                                                                                                                                                                                                                                                                                                post  \\\n",
       "0     Does anyone else get anxious with working? im scared that im going to have to do repairs that cost of money.                                                                                                                                                                                                                                                                                                                                                                                                                                                                                                                                                                                                                                                                                                                                                                                                                                                                                                                                                                                                                                                                                                                                                                                                                                                                                                                                                                                                                                                                                                                                                                                                                                                                                                                                                                                                                                                                                                                                                                                                                                                                                                                                                                                                                                                                                                                                                                                                                                                                                                                                                                                                                                                                                                                                                                                                                                                                                                                     \n",
       "1     Help with anxiety-inducing fears about school caused by a health issue I'm 35 and planning to go back to grad school, but over the years I developed some eye floaters that I can mostly ignore. They are just out of my visible sight range when reading small books like novels, but I started studying for the GRE with a big textbook and realized how obvious these floaters were now, and they've left me with anxiety about how I'm going to cope with school if, on top of everything else like how I'm no longer used to student life, how grad school is likely the hardest form of school I've ever done etc, add to that this problem with distracting floaters in my eyes that distract and annoy me.\\n\\nI really don't know how to deal here. I am not confident in exposure therapy as I have had these floaters for a few years and really only learned to deal with them by changing my lifestyle such that I don't have to deal with them. It's not a big issue, and some junk in my eyes shouldn't be THAT much of a problem. But just now I just glanced at my book for a few minutes and now I'm dizzy with worry about it.\\n\\nWhat to do?                                                                                                                                                                                                                                                                                                                                                                                                                                                                                                                                                                                                                                                                                                                                                                                                                                                                                                                                                                                                                                                                                                                                                                                                                                                                                                                                                                                                                                                                                                                                                                                                                                                                                                                                                                                                                                                                  \n",
       "2     Use up what's left and throw the rest away I recently returned from 6 years working overseas.\\n\\nUnfortunately in the last few years my drinking and stimulant became worse and was detrimental to my mental and physical health.\\n\\nI'm doing fine now as far as that is concerned. Attended therapy, clean and sober since November last year.\\n\\nWhen I came back I heard a few of my \"friends\" use the following phrase,\\n\\n\"we'll just use up what's left of him and then throw the rest away\"\\n\\nI've never heard this before. I've always been a people pleasing personality type and I'm struggling hard to determine how to interpret it.\\n\\nMaybe I just don't want to face facts that it means exactly what it says... That by hanging around with these people I put myself in a weak position and they aren't real friends at all.\\n\\nAny thoughts?                                                                                                                                                                                                                                                                                                                                                                                                                                                                                                                                                                                                                                                                                                                                                                                                                                                                                                                                                                                                                                                                                                                                                                                                                                                                                                                                                                                                                                                                                                                                                                                                                                                                                                                                                                                                                                                                                                                                                                                                                                                                                                                                                                 \n",
       "3     My brain is driving me crazy! Im a perfectionist and think everyone hates me all the time. I literally always worried Ive done something wrong. \\n\\nIm at my first big professional conference in a major us city. I barely slept last night because of a backache and nerves. That and the jet lag is impairing  my functioning and I have blotchy skin and my dress is riding up on my legs and Ive had to pull it down. All I had to do today was register for the conference, but I was confused at every step and feel that everyone thinks Im stupid or hungover or unprofessional or something. Im walking around this city I do not know oblivious and feel embarrassed and stupid. My anxiety is killing me and men keep hitting on me. I havent been away from my husband since we moved in together and I feel so dumb and small. \\n\\nIm so scared for my presentation tomorrow. Can someone either console me or kindly put me out of my misery?                                                                                                                                                                                                                                                                                                                                                                                                                                                                                                                                                                                                                                                                                                                                                                                                                                                                                                                                                                                                                                                                                                                                                                                                                                                                                                                                                                                                                                                                                                                                                                                                                                                                                                                                                                                                                                                                                                                                                                                                                                                                     \n",
       "4     Does anyone else feel like the worst person ever if they annoy a friend? Hey Reddit. Basically, I have mild anxiety. But something that really messes with my head is when I have a fall out or get a blunt text from a friend to say I annoyed them when I did something. My first response is always I'm sorry (and trying not to say it a million times over) but my mind then goes through this turmoil where I have all these esteem lowering thoughts along the lines of, they'll hate me forever now, or I'm such a horrible person, as well as being filled with guilt for upsetting the person.\\nIt always turns out that whatever I did wrong only annoyed them for a short period of time and before I knew it life is back to normal, I just wish I could control the horrible negative wave that comes over me                                                                                                                                                                                                                                                                                                                                                                                                                                                                                                                                                                                                                                                                                                                                                                                                                                                                                                                                                                                                                                                                                                                                                                                                                                                                                                                                                                                                                                                                                                                                                                                                                                                                                                                                                                                                                                                                                                                                                                                                                                                                                                                                                                                                      \n",
       "...                                                                                                                                                                                                                                                                                                                                                                                                                                                                                                                                                                                                                                                                                                                                                                                                                           ...                                                                                                                                                                                                                                                                                                                                                                                                                                                                                                                                                                                                                                                                                                                                                                                                                                                                                                                                                                                                                                                                                                                                                                                                                                                                                                                                                                                                                                                                                                                                                                                                                                                                                                                                                                                                                                                                                                                                                                                                                                                                                                                                                                                                      \n",
       "8325  alone, useless and horribly guilty reaching out here because i have nothing else. no friends or family or anything. no money or hobbies or interests or a career or a future. not healthy in body or in the mind. i've been trying harder than i have ever tried and can't do it.                                                                                                                                                                                                                                                                                                                                                                                                                                                                                                                                                                                                                                                                                                                                                                                                                                                                                                                                                                                                                                                                                                                                                                                                                                                                                                                                                                                                                                                                                                                                                                                                                                                                                                                                                                                                                                                                                                                                                                                                                                                                                                                                                                                                                                                                                                                                                                                                                                                                                                                                                                                                                                                                                                                                                \n",
       "8326  Am I not understanding/seeing something? This is not a cry for help, this is not me asking for prayers and sympathy, Id like this to be more of an intellectual discussion.\\n\\nWhat Im about to say is coming from a point of view that Im aware may be negative and skewed due to events/observations that conditioned my subconscious to think this way. \\n\\nAnyway, I genuinely just dont see the point of this life. To me, it seems very high pain-low/mediocre reward. \\n\\nIn just about every situation, there are 4 things that usually happen with experiences you have, goals you have and just life in general that I have a problem with. That being:\\n\\n1) The necessary hard-ships/lessons you endure in life.\\n\\n2) The reward you get out of it.\\n\\n3) Was the reward even worth it?\\n\\n4) Why any of it at all?\\n\\nNumber 4 falls into more if a philosophical discussion, but still contributes to why I have suicidal thoughts. I think the 4 above points apply to literally everything, but Ill throw out a couple of examples in the format of those points to help illustrate my issue.\\n\\n1) A young kid gets his/her heart crushed in high school by a girl/boy. (maybe more than once)\\n\\n2) Kid gains a new understanding of what love really is, or at least what it isnt and maybe gains a better idea of what they want in a partner.\\n\\n3) This may happen a few more times into adulthood, but theyÃ¢â¬â¢re finally at a point where they may have found someone they choose to settle with. Cool, but of course no matter what, issues still occur, and recurr with any relationship.\\n\\n4) Why any of this at all?\\n\\nA different example:\\n\\n1) Guy grows up in poverty\\n\\n2) All of those years in poverty gave him this crazy drive to make tons of money and live a life he never had.\\n\\n3) He finally has a big house, nice car, and things hes always wanted. And in my mind, Im like Ã¢â¬ÅOk.. I just went through absolute hell to have these things.. what now?Ã¢â¬Â. Which leads me to number 4..\\n\\n4) Why any if that at all?\\n\\n\\nThe way I break down these experiences in my little 1-4 format may be flawed, 3 and 4 to me are related and can overlap, but anyway..\\n\\n4 is the main one for me, its just kind of the classic Ã¢â¬Åwhy are we even here?Ã¢â¬Â question. Ok so you learn these lessons in life and eventually find happiness. Ok, for what? Like ultimately what are we even doing here? Are we here just to experience things in these little fleshy suits we have on? Why? How does what we experience in our lives here tie into any signifigance into anything at all?\\n\\nSo the combination of the sometimes unbearable pain it takes to finally experience happiness, and not seeing the point of any of it in the first place, makes me not want to live anymore.\\n\\nIm not the best at writing/typing, Im also not the best at explaining things, but I tried my best to get this off my chest. Thanks to any that took the time to read.   \n",
       "8327  Just a bad day So today has been a stressful day, almost couldn't pay rent, found out my mother has tumors in her lungs and they might be cancerous, my significant other got extremely pissed off at me because I forgot today was our anniversary because of the other stuff that piled on, ended up breaking my phone and now being constantly told by my other half that life would be better without me in it since all I do is make them miserable. I just want to end it all but because I have kids I don't want them to live with it. I am just at a loss.\\n\\nEdit: forgot to add my spouse thinks I am cheating on them while I am just crying.                                                                                                                                                                                                                                                                                                                                                                                                                                                                                                                                                                                                                                                                                                                                                                                                                                                                                                                                                                                                                                                                                                                                                                                                                                                                                                                                                                                                                                                                                                                                                                                                                                                                                                                                                                                                                                                                                                                                                                                                                                                                                                                                                                                                                                                                                                                                                                        \n",
       "8328  When Im dead maybe the suffering will all come to an end. Sorry for poor grammar. I have a plan this plan is to hang myself in my wooded area of my property. I dont feel safe not even at my school, my parents locked all of the knives away and that doesnt matter. I found a new way glass. It cuts much deeper and I bleed more. \\n      \\n        For more background information I live with my parents and two other siblings Im the youngest and am a freshmen in school. I have been sad since 6th grade and suicidal since 7th grade. Ive tried taking my life once by suffocation with an extension cord and I lived. Ever since my depression and suicidal thoughts have gotten worse. I now know how to kill myself and will do before Christmas. I havent set a date but the next day when I get too low my parents and siblings wont see me. When they go searching in the woods all theyÃ¢â¬â¢ll see is my body hanging from a tree. Im sorry Im too late to fix and Im sorry.                                                                                                                                                                                                                                                                                                                                                                                                                                                                                                                                                                                                                                                                                                                                                                                                                                                                                                                                                                                                                                                                                                                                                                                                                                                                                                                                                                                                                                                                                                                                                                                                                                                                                                                                                                                                                                                                                                                                                                                                                                \n",
       "8329  Fuck I've been wanting to kill myself for about 20 years now.  Everything I do just makes me think about it more no matter how much I might be lying to myself about enjoying \"the moment\".  I trust no one when it comes to this as basically everyone I've ever opened up to about this has just called the police and the night ends w me naked in solitary confinement.  My plan has been for the last couple years to wait for my parents to die so they don't have to deal with it but I'm leaning closer and closer to saying fuck it to that.  I have a sister but she has a family and they would be essentially unaffected by my absence. I'm willing to hire someone to kill me at this point because I'm pretty sure I'm just too cowardly a piece of shit to do it myself.                                                                                                                                                                                                                                                                                                                                                                                                                                                                                                                                                                                                                                                                                                                                                                                                                                                                                                                                                                                                                                                                                                                                                                                                                                                                                                                                                                                                                                                                                                                                                                                                                                                                                                                                                                                                                                                                                                                                                                                                                                                                                                                                                                                                                                          \n",
       "\n",
       "            topics  \n",
       "0     anxiety       \n",
       "1     anxiety       \n",
       "2     anxiety       \n",
       "3     anxiety       \n",
       "4     anxiety       \n",
       "...       ...       \n",
       "8325  suicidewatch  \n",
       "8326  suicidewatch  \n",
       "8327  suicidewatch  \n",
       "8328  suicidewatch  \n",
       "8329  suicidewatch  \n",
       "\n",
       "[8330 rows x 2 columns]"
      ]
     },
     "metadata": {},
     "output_type": "display_data"
    }
   ],
   "source": [
    "display(data)"
   ]
  },
  {
   "cell_type": "code",
   "execution_count": 14,
   "id": "bf0486b4",
   "metadata": {},
   "outputs": [
    {
     "data": {
      "text/plain": [
       "post      15\n",
       "topics    0 \n",
       "dtype: int64"
      ]
     },
     "execution_count": 14,
     "metadata": {},
     "output_type": "execute_result"
    }
   ],
   "source": [
    "data.isnull().sum()"
   ]
  },
  {
   "cell_type": "code",
   "execution_count": 15,
   "id": "e6a82b48",
   "metadata": {},
   "outputs": [],
   "source": [
    "data=data.dropna()"
   ]
  },
  {
   "cell_type": "code",
   "execution_count": 16,
   "id": "49c7972b",
   "metadata": {},
   "outputs": [
    {
     "data": {
      "text/plain": [
       "post      0\n",
       "topics    0\n",
       "dtype: int64"
      ]
     },
     "execution_count": 16,
     "metadata": {},
     "output_type": "execute_result"
    }
   ],
   "source": [
    "data.isnull().sum()"
   ]
  },
  {
   "cell_type": "code",
   "execution_count": 17,
   "id": "4bf32f32",
   "metadata": {},
   "outputs": [
    {
     "data": {
      "text/plain": [
       "'!\"#$%&\\'()*+,-./:;<=>?@[\\\\]^_`{|}~'"
      ]
     },
     "execution_count": 17,
     "metadata": {},
     "output_type": "execute_result"
    }
   ],
   "source": [
    "#library that contains punctuation\n",
    "import string\n",
    "string.punctuation"
   ]
  },
  {
   "cell_type": "code",
   "execution_count": 18,
   "id": "b4feca6c",
   "metadata": {},
   "outputs": [
    {
     "data": {
      "text/html": [
       "<div>\n",
       "<style scoped>\n",
       "    .dataframe tbody tr th:only-of-type {\n",
       "        vertical-align: middle;\n",
       "    }\n",
       "\n",
       "    .dataframe tbody tr th {\n",
       "        vertical-align: top;\n",
       "    }\n",
       "\n",
       "    .dataframe thead th {\n",
       "        text-align: right;\n",
       "    }\n",
       "</style>\n",
       "<table border=\"1\" class=\"dataframe\">\n",
       "  <thead>\n",
       "    <tr style=\"text-align: right;\">\n",
       "      <th></th>\n",
       "      <th>post</th>\n",
       "      <th>topics</th>\n",
       "      <th>clean_text</th>\n",
       "    </tr>\n",
       "  </thead>\n",
       "  <tbody>\n",
       "    <tr>\n",
       "      <th>0</th>\n",
       "      <td>Does anyone else get anxious with working? im scared that im going to have to do repairs that cost of money.</td>\n",
       "      <td>anxiety</td>\n",
       "      <td>Does anyone else get anxious with working im scared that im going to have to do repairs that cost of money</td>\n",
       "    </tr>\n",
       "    <tr>\n",
       "      <th>1</th>\n",
       "      <td>Help with anxiety-inducing fears about school caused by a health issue I'm 35 and planning to go back to grad school, but over the years I developed some eye floaters that I can mostly ignore. They are just out of my visible sight range when reading small books like novels, but I started studying for the GRE with a big textbook and realized how obvious these floaters were now, and they've left me with anxiety about how I'm going to cope with school if, on top of everything else like how I'm no longer used to student life, how grad school is likely the hardest form of school I've ever done etc, add to that this problem with distracting floaters in my eyes that distract and annoy me.\\n\\nI really don't know how to deal here. I am not confident in exposure therapy as I have had these floaters for a few years and really only learned to deal with them by changing my lifestyle such that I don't have to deal with them. It's not a big issue, and some junk in my eyes shouldn't be THAT much of a problem. But just now I just glanced at my book for a few minutes and now I'm dizzy with worry about it.\\n\\nWhat to do?</td>\n",
       "      <td>anxiety</td>\n",
       "      <td>Help with anxietyinducing fears about school caused by a health issue Im 35 and planning to go back to grad school but over the years I developed some eye floaters that I can mostly ignore They are just out of my visible sight range when reading small books like novels but I started studying for the GRE with a big textbook and realized how obvious these floaters were now and theyve left me with anxiety about how Im going to cope with school if on top of everything else like how Im no longer used to student life how grad school is likely the hardest form of school Ive ever done etc add to that this problem with distracting floaters in my eyes that distract and annoy me\\n\\nI really dont know how to deal here I am not confident in exposure therapy as I have had these floaters for a few years and really only learned to deal with them by changing my lifestyle such that I dont have to deal with them Its not a big issue and some junk in my eyes shouldnt be THAT much of a problem But just now I just glanced at my book for a few minutes and now Im dizzy with worry about it\\n\\nWhat to do</td>\n",
       "    </tr>\n",
       "    <tr>\n",
       "      <th>2</th>\n",
       "      <td>Use up what's left and throw the rest away I recently returned from 6 years working overseas.\\n\\nUnfortunately in the last few years my drinking and stimulant became worse and was detrimental to my mental and physical health.\\n\\nI'm doing fine now as far as that is concerned. Attended therapy, clean and sober since November last year.\\n\\nWhen I came back I heard a few of my \"friends\" use the following phrase,\\n\\n\"we'll just use up what's left of him and then throw the rest away\"\\n\\nI've never heard this before. I've always been a people pleasing personality type and I'm struggling hard to determine how to interpret it.\\n\\nMaybe I just don't want to face facts that it means exactly what it says... That by hanging around with these people I put myself in a weak position and they aren't real friends at all.\\n\\nAny thoughts?</td>\n",
       "      <td>anxiety</td>\n",
       "      <td>Use up whats left and throw the rest away I recently returned from 6 years working overseas\\n\\nUnfortunately in the last few years my drinking and stimulant became worse and was detrimental to my mental and physical health\\n\\nIm doing fine now as far as that is concerned Attended therapy clean and sober since November last year\\n\\nWhen I came back I heard a few of my friends use the following phrase\\n\\nwell just use up whats left of him and then throw the rest away\\n\\nIve never heard this before Ive always been a people pleasing personality type and Im struggling hard to determine how to interpret it\\n\\nMaybe I just dont want to face facts that it means exactly what it says That by hanging around with these people I put myself in a weak position and they arent real friends at all\\n\\nAny thoughts</td>\n",
       "    </tr>\n",
       "    <tr>\n",
       "      <th>3</th>\n",
       "      <td>My brain is driving me crazy! Im a perfectionist and think everyone hates me all the time. I literally always worried Ive done something wrong. \\n\\nIm at my first big professional conference in a major us city. I barely slept last night because of a backache and nerves. That and the jet lag is impairing  my functioning and I have blotchy skin and my dress is riding up on my legs and Ive had to pull it down. All I had to do today was register for the conference, but I was confused at every step and feel that everyone thinks Im stupid or hungover or unprofessional or something. Im walking around this city I do not know oblivious and feel embarrassed and stupid. My anxiety is killing me and men keep hitting on me. I havent been away from my husband since we moved in together and I feel so dumb and small. \\n\\nIm so scared for my presentation tomorrow. Can someone either console me or kindly put me out of my misery?</td>\n",
       "      <td>anxiety</td>\n",
       "      <td>My brain is driving me crazy Im a perfectionist and think everyone hates me all the time I literally always worried Ive done something wrong \\n\\nIm at my first big professional conference in a major us city I barely slept last night because of a backache and nerves That and the jet lag is impairing  my functioning and I have blotchy skin and my dress is riding up on my legs and Ive had to pull it down All I had to do today was register for the conference but I was confused at every step and feel that everyone thinks Im stupid or hungover or unprofessional or something Im walking around this city I do not know oblivious and feel embarrassed and stupid My anxiety is killing me and men keep hitting on me I havent been away from my husband since we moved in together and I feel so dumb and small \\n\\nIm so scared for my presentation tomorrow Can someone either console me or kindly put me out of my misery</td>\n",
       "    </tr>\n",
       "    <tr>\n",
       "      <th>4</th>\n",
       "      <td>Does anyone else feel like the worst person ever if they annoy a friend? Hey Reddit. Basically, I have mild anxiety. But something that really messes with my head is when I have a fall out or get a blunt text from a friend to say I annoyed them when I did something. My first response is always I'm sorry (and trying not to say it a million times over) but my mind then goes through this turmoil where I have all these esteem lowering thoughts along the lines of, they'll hate me forever now, or I'm such a horrible person, as well as being filled with guilt for upsetting the person.\\nIt always turns out that whatever I did wrong only annoyed them for a short period of time and before I knew it life is back to normal, I just wish I could control the horrible negative wave that comes over me</td>\n",
       "      <td>anxiety</td>\n",
       "      <td>Does anyone else feel like the worst person ever if they annoy a friend Hey Reddit Basically I have mild anxiety But something that really messes with my head is when I have a fall out or get a blunt text from a friend to say I annoyed them when I did something My first response is always Im sorry and trying not to say it a million times over but my mind then goes through this turmoil where I have all these esteem lowering thoughts along the lines of theyll hate me forever now or Im such a horrible person as well as being filled with guilt for upsetting the person\\nIt always turns out that whatever I did wrong only annoyed them for a short period of time and before I knew it life is back to normal I just wish I could control the horrible negative wave that comes over me</td>\n",
       "    </tr>\n",
       "  </tbody>\n",
       "</table>\n",
       "</div>"
      ],
      "text/plain": [
       "                                                                                                                                                                                                                                                                                                                                                                                                                                                                                                                                                                                                                                                                                                                                                                                                                                                                                                                                                                                                                                                                                                                                                              post  \\\n",
       "0  Does anyone else get anxious with working? im scared that im going to have to do repairs that cost of money.                                                                                                                                                                                                                                                                                                                                                                                                                                                                                                                                                                                                                                                                                                                                                                                                                                                                                                                                                                                                                                                      \n",
       "1  Help with anxiety-inducing fears about school caused by a health issue I'm 35 and planning to go back to grad school, but over the years I developed some eye floaters that I can mostly ignore. They are just out of my visible sight range when reading small books like novels, but I started studying for the GRE with a big textbook and realized how obvious these floaters were now, and they've left me with anxiety about how I'm going to cope with school if, on top of everything else like how I'm no longer used to student life, how grad school is likely the hardest form of school I've ever done etc, add to that this problem with distracting floaters in my eyes that distract and annoy me.\\n\\nI really don't know how to deal here. I am not confident in exposure therapy as I have had these floaters for a few years and really only learned to deal with them by changing my lifestyle such that I don't have to deal with them. It's not a big issue, and some junk in my eyes shouldn't be THAT much of a problem. But just now I just glanced at my book for a few minutes and now I'm dizzy with worry about it.\\n\\nWhat to do?   \n",
       "2  Use up what's left and throw the rest away I recently returned from 6 years working overseas.\\n\\nUnfortunately in the last few years my drinking and stimulant became worse and was detrimental to my mental and physical health.\\n\\nI'm doing fine now as far as that is concerned. Attended therapy, clean and sober since November last year.\\n\\nWhen I came back I heard a few of my \"friends\" use the following phrase,\\n\\n\"we'll just use up what's left of him and then throw the rest away\"\\n\\nI've never heard this before. I've always been a people pleasing personality type and I'm struggling hard to determine how to interpret it.\\n\\nMaybe I just don't want to face facts that it means exactly what it says... That by hanging around with these people I put myself in a weak position and they aren't real friends at all.\\n\\nAny thoughts?                                                                                                                                                                                                                                                                                                  \n",
       "3  My brain is driving me crazy! Im a perfectionist and think everyone hates me all the time. I literally always worried Ive done something wrong. \\n\\nIm at my first big professional conference in a major us city. I barely slept last night because of a backache and nerves. That and the jet lag is impairing  my functioning and I have blotchy skin and my dress is riding up on my legs and Ive had to pull it down. All I had to do today was register for the conference, but I was confused at every step and feel that everyone thinks Im stupid or hungover or unprofessional or something. Im walking around this city I do not know oblivious and feel embarrassed and stupid. My anxiety is killing me and men keep hitting on me. I havent been away from my husband since we moved in together and I feel so dumb and small. \\n\\nIm so scared for my presentation tomorrow. Can someone either console me or kindly put me out of my misery?                                                                                                                                                                                                      \n",
       "4  Does anyone else feel like the worst person ever if they annoy a friend? Hey Reddit. Basically, I have mild anxiety. But something that really messes with my head is when I have a fall out or get a blunt text from a friend to say I annoyed them when I did something. My first response is always I'm sorry (and trying not to say it a million times over) but my mind then goes through this turmoil where I have all these esteem lowering thoughts along the lines of, they'll hate me forever now, or I'm such a horrible person, as well as being filled with guilt for upsetting the person.\\nIt always turns out that whatever I did wrong only annoyed them for a short period of time and before I knew it life is back to normal, I just wish I could control the horrible negative wave that comes over me                                                                                                                                                                                                                                                                                                                                       \n",
       "\n",
       "    topics  \\\n",
       "0  anxiety   \n",
       "1  anxiety   \n",
       "2  anxiety   \n",
       "3  anxiety   \n",
       "4  anxiety   \n",
       "\n",
       "                                                                                                                                                                                                                                                                                                                                                                                                                                                                                                                                                                                                                                                                                                                                                                                                                                                                                                                                                                                                                                                                                                                               clean_text  \n",
       "0  Does anyone else get anxious with working im scared that im going to have to do repairs that cost of money                                                                                                                                                                                                                                                                                                                                                                                                                                                                                                                                                                                                                                                                                                                                                                                                                                                                                                                                                                                                                              \n",
       "1  Help with anxietyinducing fears about school caused by a health issue Im 35 and planning to go back to grad school but over the years I developed some eye floaters that I can mostly ignore They are just out of my visible sight range when reading small books like novels but I started studying for the GRE with a big textbook and realized how obvious these floaters were now and theyve left me with anxiety about how Im going to cope with school if on top of everything else like how Im no longer used to student life how grad school is likely the hardest form of school Ive ever done etc add to that this problem with distracting floaters in my eyes that distract and annoy me\\n\\nI really dont know how to deal here I am not confident in exposure therapy as I have had these floaters for a few years and really only learned to deal with them by changing my lifestyle such that I dont have to deal with them Its not a big issue and some junk in my eyes shouldnt be THAT much of a problem But just now I just glanced at my book for a few minutes and now Im dizzy with worry about it\\n\\nWhat to do  \n",
       "2  Use up whats left and throw the rest away I recently returned from 6 years working overseas\\n\\nUnfortunately in the last few years my drinking and stimulant became worse and was detrimental to my mental and physical health\\n\\nIm doing fine now as far as that is concerned Attended therapy clean and sober since November last year\\n\\nWhen I came back I heard a few of my friends use the following phrase\\n\\nwell just use up whats left of him and then throw the rest away\\n\\nIve never heard this before Ive always been a people pleasing personality type and Im struggling hard to determine how to interpret it\\n\\nMaybe I just dont want to face facts that it means exactly what it says That by hanging around with these people I put myself in a weak position and they arent real friends at all\\n\\nAny thoughts                                                                                                                                                                                                                                                                                                  \n",
       "3  My brain is driving me crazy Im a perfectionist and think everyone hates me all the time I literally always worried Ive done something wrong \\n\\nIm at my first big professional conference in a major us city I barely slept last night because of a backache and nerves That and the jet lag is impairing  my functioning and I have blotchy skin and my dress is riding up on my legs and Ive had to pull it down All I had to do today was register for the conference but I was confused at every step and feel that everyone thinks Im stupid or hungover or unprofessional or something Im walking around this city I do not know oblivious and feel embarrassed and stupid My anxiety is killing me and men keep hitting on me I havent been away from my husband since we moved in together and I feel so dumb and small \\n\\nIm so scared for my presentation tomorrow Can someone either console me or kindly put me out of my misery                                                                                                                                                                                         \n",
       "4  Does anyone else feel like the worst person ever if they annoy a friend Hey Reddit Basically I have mild anxiety But something that really messes with my head is when I have a fall out or get a blunt text from a friend to say I annoyed them when I did something My first response is always Im sorry and trying not to say it a million times over but my mind then goes through this turmoil where I have all these esteem lowering thoughts along the lines of theyll hate me forever now or Im such a horrible person as well as being filled with guilt for upsetting the person\\nIt always turns out that whatever I did wrong only annoyed them for a short period of time and before I knew it life is back to normal I just wish I could control the horrible negative wave that comes over me                                                                                                                                                                                                                                                                                                                            "
      ]
     },
     "execution_count": 18,
     "metadata": {},
     "output_type": "execute_result"
    }
   ],
   "source": [
    "#defining the function to remove punctuation\n",
    "def remove_punctuation(post):\n",
    "    text_nopunc=[c for c in post if c not in string.punctuation]\n",
    "    punc=''.join(text_nopunc)\n",
    "    return punc\n",
    "data['clean_text'] = data['post'].apply(lambda x:remove_punctuation(x))\n",
    "data.head()"
   ]
  },
  {
   "cell_type": "code",
   "execution_count": 19,
   "id": "489d2115",
   "metadata": {},
   "outputs": [
    {
     "name": "stderr",
     "output_type": "stream",
     "text": [
      "C:\\Users\\Dell\\AppData\\Local\\Temp\\ipykernel_2844\\3971192541.py:8: FutureWarning: The default value of regex will change from True to False in a future version.\n",
      "  data['clean_text']=data['clean_text'].str.replace(r\"http\\S+\",\" \")\n"
     ]
    }
   ],
   "source": [
    "#Removing URL\n",
    "#The http characters in the regex match the literal characters.\n",
    "#\\S matches any character that is not a whitespace character\n",
    "#The question mark ? causes the regular expression to match 0 or 1 repetitions of the preceding character\n",
    "#We then have the colon and two forward slashes :// to complete the protocol.\n",
    "#data['clean_text']=data['clean_text'].str.replace(\"http\\S+\",\" \")\n",
    "import re\n",
    "data['clean_text']=data['clean_text'].str.replace(r\"http\\S+\",\" \")\n",
    "data['clean_text']=data['clean_text'].str.replace(\"\\n\",\"  \")\n",
    "data['clean_text']=data['clean_text'].str.replace(\"â€™\",\"  \")\n",
    "data['clean_text']=data['clean_text'].str.replace(\"Ã¢â¬Å\",\"  \")\n",
    "#data['clean_text']=data['clean_text'].str.replace(\"ã¢â¬â\",\"  \")\n",
    "#data['clean_text']=data['clean_text'].str.replace(\"Ã¢â¬â¢\",\"  \") "
   ]
  },
  {
   "cell_type": "code",
   "execution_count": 20,
   "id": "186242a1",
   "metadata": {},
   "outputs": [
    {
     "data": {
      "text/html": [
       "<div>\n",
       "<style scoped>\n",
       "    .dataframe tbody tr th:only-of-type {\n",
       "        vertical-align: middle;\n",
       "    }\n",
       "\n",
       "    .dataframe tbody tr th {\n",
       "        vertical-align: top;\n",
       "    }\n",
       "\n",
       "    .dataframe thead th {\n",
       "        text-align: right;\n",
       "    }\n",
       "</style>\n",
       "<table border=\"1\" class=\"dataframe\">\n",
       "  <thead>\n",
       "    <tr style=\"text-align: right;\">\n",
       "      <th></th>\n",
       "      <th>post</th>\n",
       "      <th>topics</th>\n",
       "      <th>clean_text</th>\n",
       "    </tr>\n",
       "  </thead>\n",
       "  <tbody>\n",
       "    <tr>\n",
       "      <th>0</th>\n",
       "      <td>Does anyone else get anxious with working? im scared that im going to have to do repairs that cost of money.</td>\n",
       "      <td>anxiety</td>\n",
       "      <td>Does anyone else get anxious with working im scared that im going to have to do repairs that cost of money</td>\n",
       "    </tr>\n",
       "    <tr>\n",
       "      <th>1</th>\n",
       "      <td>Help with anxiety-inducing fears about school caused by a health issue I'm 35 and planning to go back to grad school, but over the years I developed some eye floaters that I can mostly ignore. They are just out of my visible sight range when reading small books like novels, but I started studying for the GRE with a big textbook and realized how obvious these floaters were now, and they've left me with anxiety about how I'm going to cope with school if, on top of everything else like how I'm no longer used to student life, how grad school is likely the hardest form of school I've ever done etc, add to that this problem with distracting floaters in my eyes that distract and annoy me.\\n\\nI really don't know how to deal here. I am not confident in exposure therapy as I have had these floaters for a few years and really only learned to deal with them by changing my lifestyle such that I don't have to deal with them. It's not a big issue, and some junk in my eyes shouldn't be THAT much of a problem. But just now I just glanced at my book for a few minutes and now I'm dizzy with worry about it.\\n\\nWhat to do?</td>\n",
       "      <td>anxiety</td>\n",
       "      <td>Help with anxietyinducing fears about school caused by a health issue Im 35 and planning to go back to grad school but over the years I developed some eye floaters that I can mostly ignore They are just out of my visible sight range when reading small books like novels but I started studying for the GRE with a big textbook and realized how obvious these floaters were now and theyve left me with anxiety about how Im going to cope with school if on top of everything else like how Im no longer used to student life how grad school is likely the hardest form of school Ive ever done etc add to that this problem with distracting floaters in my eyes that distract and annoy me    I really dont know how to deal here I am not confident in exposure therapy as I have had these floaters for a few years and really only learned to deal with them by changing my lifestyle such that I dont have to deal with them Its not a big issue and some junk in my eyes shouldnt be THAT much of a problem But just now I just glanced at my book for a few minutes and now Im dizzy with worry about it    What to do</td>\n",
       "    </tr>\n",
       "    <tr>\n",
       "      <th>2</th>\n",
       "      <td>Use up what's left and throw the rest away I recently returned from 6 years working overseas.\\n\\nUnfortunately in the last few years my drinking and stimulant became worse and was detrimental to my mental and physical health.\\n\\nI'm doing fine now as far as that is concerned. Attended therapy, clean and sober since November last year.\\n\\nWhen I came back I heard a few of my \"friends\" use the following phrase,\\n\\n\"we'll just use up what's left of him and then throw the rest away\"\\n\\nI've never heard this before. I've always been a people pleasing personality type and I'm struggling hard to determine how to interpret it.\\n\\nMaybe I just don't want to face facts that it means exactly what it says... That by hanging around with these people I put myself in a weak position and they aren't real friends at all.\\n\\nAny thoughts?</td>\n",
       "      <td>anxiety</td>\n",
       "      <td>Use up whats left and throw the rest away I recently returned from 6 years working overseas    Unfortunately in the last few years my drinking and stimulant became worse and was detrimental to my mental and physical health    Im doing fine now as far as that is concerned Attended therapy clean and sober since November last year    When I came back I heard a few of my friends use the following phrase    well just use up whats left of him and then throw the rest away    Ive never heard this before Ive always been a people pleasing personality type and Im struggling hard to determine how to interpret it    Maybe I just dont want to face facts that it means exactly what it says That by hanging around with these people I put myself in a weak position and they arent real friends at all    Any thoughts</td>\n",
       "    </tr>\n",
       "    <tr>\n",
       "      <th>3</th>\n",
       "      <td>My brain is driving me crazy! Im a perfectionist and think everyone hates me all the time. I literally always worried Ive done something wrong. \\n\\nIm at my first big professional conference in a major us city. I barely slept last night because of a backache and nerves. That and the jet lag is impairing  my functioning and I have blotchy skin and my dress is riding up on my legs and Ive had to pull it down. All I had to do today was register for the conference, but I was confused at every step and feel that everyone thinks Im stupid or hungover or unprofessional or something. Im walking around this city I do not know oblivious and feel embarrassed and stupid. My anxiety is killing me and men keep hitting on me. I havent been away from my husband since we moved in together and I feel so dumb and small. \\n\\nIm so scared for my presentation tomorrow. Can someone either console me or kindly put me out of my misery?</td>\n",
       "      <td>anxiety</td>\n",
       "      <td>My brain is driving me crazy Im a perfectionist and think everyone hates me all the time I literally always worried Ive done something wrong     Im at my first big professional conference in a major us city I barely slept last night because of a backache and nerves That and the jet lag is impairing  my functioning and I have blotchy skin and my dress is riding up on my legs and Ive had to pull it down All I had to do today was register for the conference but I was confused at every step and feel that everyone thinks Im stupid or hungover or unprofessional or something Im walking around this city I do not know oblivious and feel embarrassed and stupid My anxiety is killing me and men keep hitting on me I havent been away from my husband since we moved in together and I feel so dumb and small     Im so scared for my presentation tomorrow Can someone either console me or kindly put me out of my misery</td>\n",
       "    </tr>\n",
       "    <tr>\n",
       "      <th>4</th>\n",
       "      <td>Does anyone else feel like the worst person ever if they annoy a friend? Hey Reddit. Basically, I have mild anxiety. But something that really messes with my head is when I have a fall out or get a blunt text from a friend to say I annoyed them when I did something. My first response is always I'm sorry (and trying not to say it a million times over) but my mind then goes through this turmoil where I have all these esteem lowering thoughts along the lines of, they'll hate me forever now, or I'm such a horrible person, as well as being filled with guilt for upsetting the person.\\nIt always turns out that whatever I did wrong only annoyed them for a short period of time and before I knew it life is back to normal, I just wish I could control the horrible negative wave that comes over me</td>\n",
       "      <td>anxiety</td>\n",
       "      <td>Does anyone else feel like the worst person ever if they annoy a friend Hey Reddit Basically I have mild anxiety But something that really messes with my head is when I have a fall out or get a blunt text from a friend to say I annoyed them when I did something My first response is always Im sorry and trying not to say it a million times over but my mind then goes through this turmoil where I have all these esteem lowering thoughts along the lines of theyll hate me forever now or Im such a horrible person as well as being filled with guilt for upsetting the person  It always turns out that whatever I did wrong only annoyed them for a short period of time and before I knew it life is back to normal I just wish I could control the horrible negative wave that comes over me</td>\n",
       "    </tr>\n",
       "    <tr>\n",
       "      <th>...</th>\n",
       "      <td>...</td>\n",
       "      <td>...</td>\n",
       "      <td>...</td>\n",
       "    </tr>\n",
       "    <tr>\n",
       "      <th>8325</th>\n",
       "      <td>alone, useless and horribly guilty reaching out here because i have nothing else. no friends or family or anything. no money or hobbies or interests or a career or a future. not healthy in body or in the mind. i've been trying harder than i have ever tried and can't do it.</td>\n",
       "      <td>suicidewatch</td>\n",
       "      <td>alone useless and horribly guilty reaching out here because i have nothing else no friends or family or anything no money or hobbies or interests or a career or a future not healthy in body or in the mind ive been trying harder than i have ever tried and cant do it</td>\n",
       "    </tr>\n",
       "    <tr>\n",
       "      <th>8326</th>\n",
       "      <td>Am I not understanding/seeing something? This is not a cry for help, this is not me asking for prayers and sympathy, Id like this to be more of an intellectual discussion.\\n\\nWhat Im about to say is coming from a point of view that Im aware may be negative and skewed due to events/observations that conditioned my subconscious to think this way. \\n\\nAnyway, I genuinely just dont see the point of this life. To me, it seems very high pain-low/mediocre reward. \\n\\nIn just about every situation, there are 4 things that usually happen with experiences you have, goals you have and just life in general that I have a problem with. That being:\\n\\n1) The necessary hard-ships/lessons you endure in life.\\n\\n2) The reward you get out of it.\\n\\n3) Was the reward even worth it?\\n\\n4) Why any of it at all?\\n\\nNumber 4 falls into more if a philosophical discussion, but still contributes to why I have suicidal thoughts. I think the 4 above points apply to literally everything, but Ill throw out a couple of examples in the format of those points to help illustrate my issue.\\n\\n1) A young kid gets his/her heart crushed in high school by a girl/boy. (maybe more than once)\\n\\n2) Kid gains a new understanding of what love really is, or at least what it isnt and maybe gains a better idea of what they want in a partner.\\n\\n3) This may happen a few more times into adulthood, but theyÃ¢â¬â¢re finally at a point where they may have found someone they choose to settle with. Cool, but of course no matter what, issues still occur, and recurr with any relationship.\\n\\n4) Why any of this at all?\\n\\nA different example:\\n\\n1) Guy grows up in poverty\\n\\n2) All of those years in poverty gave him this crazy drive to make tons of money and live a life he never had.\\n\\n3) He finally has a big house, nice car, and things hes always wanted. And in my mind, Im like Ã¢â¬ÅOk.. I just went through absolute hell to have these things.. what now?Ã¢â¬Â. Which leads me to number 4..\\n\\n4) Why any if that at all?\\n\\n\\nThe way I break down these experiences in my little 1-4 format may be flawed, 3 and 4 to me are related and can overlap, but anyway..\\n\\n4 is the main one for me, its just kind of the classic Ã¢â¬Åwhy are we even here?Ã¢â¬Â question. Ok so you learn these lessons in life and eventually find happiness. Ok, for what? Like ultimately what are we even doing here? Are we here just to experience things in these little fleshy suits we have on? Why? How does what we experience in our lives here tie into any signifigance into anything at all?\\n\\nSo the combination of the sometimes unbearable pain it takes to finally experience happiness, and not seeing the point of any of it in the first place, makes me not want to live anymore.\\n\\nIm not the best at writing/typing, Im also not the best at explaining things, but I tried my best to get this off my chest. Thanks to any that took the time to read.</td>\n",
       "      <td>suicidewatch</td>\n",
       "      <td>Am I not understandingseeing something This is not a cry for help this is not me asking for prayers and sympathy Id like this to be more of an intellectual discussion    What Im about to say is coming from a point of view that Im aware may be negative and skewed due to eventsobservations that conditioned my subconscious to think this way     Anyway I genuinely just dont see the point of this life To me it seems very high painlowmediocre reward     In just about every situation there are 4 things that usually happen with experiences you have goals you have and just life in general that I have a problem with That being    1 The necessary hardshipslessons you endure in life    2 The reward you get out of it    3 Was the reward even worth it    4 Why any of it at all    Number 4 falls into more if a philosophical discussion but still contributes to why I have suicidal thoughts I think the 4 above points apply to literally everything but Ill throw out a couple of examples in the format of those points to help illustrate my issue    1 A young kid gets hisher heart crushed in high school by a girlboy maybe more than once    2 Kid gains a new understanding of what love really is or at least what it isnt and maybe gains a better idea of what they want in a partner    3 This may happen a few more times into adulthood but theyÃ¢â¬â¢re finally at a point where they may have found someone they choose to settle with Cool but of course no matter what issues still occur and recurr with any relationship    4 Why any of this at all    A different example    1 Guy grows up in poverty    2 All of those years in poverty gave him this crazy drive to make tons of money and live a life he never had    3 He finally has a big house nice car and things hes always wanted And in my mind Im like   Ok I just went through absolute hell to have these things what nowÃ¢â¬Â Which leads me to number 4    4 Why any if that at all      The way I break down these experiences in my little 14 format may be flawed 3 and 4 to me are related and can overlap but anyway    4 is the main one for me its just kind of the classic   why are we even hereÃ¢â¬Â question Ok so you learn these lessons in life and eventually find happiness Ok for what Like ultimately what are we even doing here Are we here just to experience things in these little fleshy suits we have on Why How does what we experience in our lives here tie into any signifigance into anything at all    So the combination of the sometimes unbearable pain it takes to finally experience happiness and not seeing the point of any of it in the first place makes me not want to live anymore    Im not the best at writingtyping Im also not the best at explaining things but I tried my best to get this off my chest Thanks to any that took the time to read</td>\n",
       "    </tr>\n",
       "    <tr>\n",
       "      <th>8327</th>\n",
       "      <td>Just a bad day So today has been a stressful day, almost couldn't pay rent, found out my mother has tumors in her lungs and they might be cancerous, my significant other got extremely pissed off at me because I forgot today was our anniversary because of the other stuff that piled on, ended up breaking my phone and now being constantly told by my other half that life would be better without me in it since all I do is make them miserable. I just want to end it all but because I have kids I don't want them to live with it. I am just at a loss.\\n\\nEdit: forgot to add my spouse thinks I am cheating on them while I am just crying.</td>\n",
       "      <td>suicidewatch</td>\n",
       "      <td>Just a bad day So today has been a stressful day almost couldnt pay rent found out my mother has tumors in her lungs and they might be cancerous my significant other got extremely pissed off at me because I forgot today was our anniversary because of the other stuff that piled on ended up breaking my phone and now being constantly told by my other half that life would be better without me in it since all I do is make them miserable I just want to end it all but because I have kids I dont want them to live with it I am just at a loss    Edit forgot to add my spouse thinks I am cheating on them while I am just crying</td>\n",
       "    </tr>\n",
       "    <tr>\n",
       "      <th>8328</th>\n",
       "      <td>When Im dead maybe the suffering will all come to an end. Sorry for poor grammar. I have a plan this plan is to hang myself in my wooded area of my property. I dont feel safe not even at my school, my parents locked all of the knives away and that doesnt matter. I found a new way glass. It cuts much deeper and I bleed more. \\n      \\n        For more background information I live with my parents and two other siblings Im the youngest and am a freshmen in school. I have been sad since 6th grade and suicidal since 7th grade. Ive tried taking my life once by suffocation with an extension cord and I lived. Ever since my depression and suicidal thoughts have gotten worse. I now know how to kill myself and will do before Christmas. I havent set a date but the next day when I get too low my parents and siblings wont see me. When they go searching in the woods all theyÃ¢â¬â¢ll see is my body hanging from a tree. Im sorry Im too late to fix and Im sorry.</td>\n",
       "      <td>suicidewatch</td>\n",
       "      <td>When Im dead maybe the suffering will all come to an end Sorry for poor grammar I have a plan this plan is to hang myself in my wooded area of my property I dont feel safe not even at my school my parents locked all of the knives away and that doesnt matter I found a new way glass It cuts much deeper and I bleed more                   For more background information I live with my parents and two other siblings Im the youngest and am a freshmen in school I have been sad since 6th grade and suicidal since 7th grade Ive tried taking my life once by suffocation with an extension cord and I lived Ever since my depression and suicidal thoughts have gotten worse I now know how to kill myself and will do before Christmas I havent set a date but the next day when I get too low my parents and siblings wont see me When they go searching in the woods all theyÃ¢â¬â¢ll see is my body hanging from a tree Im sorry Im too late to fix and Im sorry</td>\n",
       "    </tr>\n",
       "    <tr>\n",
       "      <th>8329</th>\n",
       "      <td>Fuck I've been wanting to kill myself for about 20 years now.  Everything I do just makes me think about it more no matter how much I might be lying to myself about enjoying \"the moment\".  I trust no one when it comes to this as basically everyone I've ever opened up to about this has just called the police and the night ends w me naked in solitary confinement.  My plan has been for the last couple years to wait for my parents to die so they don't have to deal with it but I'm leaning closer and closer to saying fuck it to that.  I have a sister but she has a family and they would be essentially unaffected by my absence. I'm willing to hire someone to kill me at this point because I'm pretty sure I'm just too cowardly a piece of shit to do it myself.</td>\n",
       "      <td>suicidewatch</td>\n",
       "      <td>Fuck Ive been wanting to kill myself for about 20 years now  Everything I do just makes me think about it more no matter how much I might be lying to myself about enjoying the moment  I trust no one when it comes to this as basically everyone Ive ever opened up to about this has just called the police and the night ends w me naked in solitary confinement  My plan has been for the last couple years to wait for my parents to die so they dont have to deal with it but Im leaning closer and closer to saying fuck it to that  I have a sister but she has a family and they would be essentially unaffected by my absence Im willing to hire someone to kill me at this point because Im pretty sure Im just too cowardly a piece of shit to do it myself</td>\n",
       "    </tr>\n",
       "  </tbody>\n",
       "</table>\n",
       "<p>8315 rows × 3 columns</p>\n",
       "</div>"
      ],
      "text/plain": [
       "                                                                                                                                                                                                                                                                                                                                                                                                                                                                                                                                                                                                                                                                                                                                                                                                                                                                                                                                                                                                                                                                                                                                                                                                                                                                                                                                                                                                                                                                                                                                                                                                                                                                                                                                                                                                                                                                                                                                                                                                                                                                                                                                                                                                                                                                                                                                                                                                                                                                                                                                                                                                                                                                                                                                                                                                                                                                                                                                                                                                                                post  \\\n",
       "0     Does anyone else get anxious with working? im scared that im going to have to do repairs that cost of money.                                                                                                                                                                                                                                                                                                                                                                                                                                                                                                                                                                                                                                                                                                                                                                                                                                                                                                                                                                                                                                                                                                                                                                                                                                                                                                                                                                                                                                                                                                                                                                                                                                                                                                                                                                                                                                                                                                                                                                                                                                                                                                                                                                                                                                                                                                                                                                                                                                                                                                                                                                                                                                                                                                                                                                                                                                                                                                                     \n",
       "1     Help with anxiety-inducing fears about school caused by a health issue I'm 35 and planning to go back to grad school, but over the years I developed some eye floaters that I can mostly ignore. They are just out of my visible sight range when reading small books like novels, but I started studying for the GRE with a big textbook and realized how obvious these floaters were now, and they've left me with anxiety about how I'm going to cope with school if, on top of everything else like how I'm no longer used to student life, how grad school is likely the hardest form of school I've ever done etc, add to that this problem with distracting floaters in my eyes that distract and annoy me.\\n\\nI really don't know how to deal here. I am not confident in exposure therapy as I have had these floaters for a few years and really only learned to deal with them by changing my lifestyle such that I don't have to deal with them. It's not a big issue, and some junk in my eyes shouldn't be THAT much of a problem. But just now I just glanced at my book for a few minutes and now I'm dizzy with worry about it.\\n\\nWhat to do?                                                                                                                                                                                                                                                                                                                                                                                                                                                                                                                                                                                                                                                                                                                                                                                                                                                                                                                                                                                                                                                                                                                                                                                                                                                                                                                                                                                                                                                                                                                                                                                                                                                                                                                                                                                                                                                                  \n",
       "2     Use up what's left and throw the rest away I recently returned from 6 years working overseas.\\n\\nUnfortunately in the last few years my drinking and stimulant became worse and was detrimental to my mental and physical health.\\n\\nI'm doing fine now as far as that is concerned. Attended therapy, clean and sober since November last year.\\n\\nWhen I came back I heard a few of my \"friends\" use the following phrase,\\n\\n\"we'll just use up what's left of him and then throw the rest away\"\\n\\nI've never heard this before. I've always been a people pleasing personality type and I'm struggling hard to determine how to interpret it.\\n\\nMaybe I just don't want to face facts that it means exactly what it says... That by hanging around with these people I put myself in a weak position and they aren't real friends at all.\\n\\nAny thoughts?                                                                                                                                                                                                                                                                                                                                                                                                                                                                                                                                                                                                                                                                                                                                                                                                                                                                                                                                                                                                                                                                                                                                                                                                                                                                                                                                                                                                                                                                                                                                                                                                                                                                                                                                                                                                                                                                                                                                                                                                                                                                                                                                                                 \n",
       "3     My brain is driving me crazy! Im a perfectionist and think everyone hates me all the time. I literally always worried Ive done something wrong. \\n\\nIm at my first big professional conference in a major us city. I barely slept last night because of a backache and nerves. That and the jet lag is impairing  my functioning and I have blotchy skin and my dress is riding up on my legs and Ive had to pull it down. All I had to do today was register for the conference, but I was confused at every step and feel that everyone thinks Im stupid or hungover or unprofessional or something. Im walking around this city I do not know oblivious and feel embarrassed and stupid. My anxiety is killing me and men keep hitting on me. I havent been away from my husband since we moved in together and I feel so dumb and small. \\n\\nIm so scared for my presentation tomorrow. Can someone either console me or kindly put me out of my misery?                                                                                                                                                                                                                                                                                                                                                                                                                                                                                                                                                                                                                                                                                                                                                                                                                                                                                                                                                                                                                                                                                                                                                                                                                                                                                                                                                                                                                                                                                                                                                                                                                                                                                                                                                                                                                                                                                                                                                                                                                                                                     \n",
       "4     Does anyone else feel like the worst person ever if they annoy a friend? Hey Reddit. Basically, I have mild anxiety. But something that really messes with my head is when I have a fall out or get a blunt text from a friend to say I annoyed them when I did something. My first response is always I'm sorry (and trying not to say it a million times over) but my mind then goes through this turmoil where I have all these esteem lowering thoughts along the lines of, they'll hate me forever now, or I'm such a horrible person, as well as being filled with guilt for upsetting the person.\\nIt always turns out that whatever I did wrong only annoyed them for a short period of time and before I knew it life is back to normal, I just wish I could control the horrible negative wave that comes over me                                                                                                                                                                                                                                                                                                                                                                                                                                                                                                                                                                                                                                                                                                                                                                                                                                                                                                                                                                                                                                                                                                                                                                                                                                                                                                                                                                                                                                                                                                                                                                                                                                                                                                                                                                                                                                                                                                                                                                                                                                                                                                                                                                                                      \n",
       "...                                                                                                                                                                                                                                                                                                                                                                                                                                                                                                                                                                                                                                                                                                                                                                                                                           ...                                                                                                                                                                                                                                                                                                                                                                                                                                                                                                                                                                                                                                                                                                                                                                                                                                                                                                                                                                                                                                                                                                                                                                                                                                                                                                                                                                                                                                                                                                                                                                                                                                                                                                                                                                                                                                                                                                                                                                                                                                                                                                                                                                                                      \n",
       "8325  alone, useless and horribly guilty reaching out here because i have nothing else. no friends or family or anything. no money or hobbies or interests or a career or a future. not healthy in body or in the mind. i've been trying harder than i have ever tried and can't do it.                                                                                                                                                                                                                                                                                                                                                                                                                                                                                                                                                                                                                                                                                                                                                                                                                                                                                                                                                                                                                                                                                                                                                                                                                                                                                                                                                                                                                                                                                                                                                                                                                                                                                                                                                                                                                                                                                                                                                                                                                                                                                                                                                                                                                                                                                                                                                                                                                                                                                                                                                                                                                                                                                                                                                \n",
       "8326  Am I not understanding/seeing something? This is not a cry for help, this is not me asking for prayers and sympathy, Id like this to be more of an intellectual discussion.\\n\\nWhat Im about to say is coming from a point of view that Im aware may be negative and skewed due to events/observations that conditioned my subconscious to think this way. \\n\\nAnyway, I genuinely just dont see the point of this life. To me, it seems very high pain-low/mediocre reward. \\n\\nIn just about every situation, there are 4 things that usually happen with experiences you have, goals you have and just life in general that I have a problem with. That being:\\n\\n1) The necessary hard-ships/lessons you endure in life.\\n\\n2) The reward you get out of it.\\n\\n3) Was the reward even worth it?\\n\\n4) Why any of it at all?\\n\\nNumber 4 falls into more if a philosophical discussion, but still contributes to why I have suicidal thoughts. I think the 4 above points apply to literally everything, but Ill throw out a couple of examples in the format of those points to help illustrate my issue.\\n\\n1) A young kid gets his/her heart crushed in high school by a girl/boy. (maybe more than once)\\n\\n2) Kid gains a new understanding of what love really is, or at least what it isnt and maybe gains a better idea of what they want in a partner.\\n\\n3) This may happen a few more times into adulthood, but theyÃ¢â¬â¢re finally at a point where they may have found someone they choose to settle with. Cool, but of course no matter what, issues still occur, and recurr with any relationship.\\n\\n4) Why any of this at all?\\n\\nA different example:\\n\\n1) Guy grows up in poverty\\n\\n2) All of those years in poverty gave him this crazy drive to make tons of money and live a life he never had.\\n\\n3) He finally has a big house, nice car, and things hes always wanted. And in my mind, Im like Ã¢â¬ÅOk.. I just went through absolute hell to have these things.. what now?Ã¢â¬Â. Which leads me to number 4..\\n\\n4) Why any if that at all?\\n\\n\\nThe way I break down these experiences in my little 1-4 format may be flawed, 3 and 4 to me are related and can overlap, but anyway..\\n\\n4 is the main one for me, its just kind of the classic Ã¢â¬Åwhy are we even here?Ã¢â¬Â question. Ok so you learn these lessons in life and eventually find happiness. Ok, for what? Like ultimately what are we even doing here? Are we here just to experience things in these little fleshy suits we have on? Why? How does what we experience in our lives here tie into any signifigance into anything at all?\\n\\nSo the combination of the sometimes unbearable pain it takes to finally experience happiness, and not seeing the point of any of it in the first place, makes me not want to live anymore.\\n\\nIm not the best at writing/typing, Im also not the best at explaining things, but I tried my best to get this off my chest. Thanks to any that took the time to read.   \n",
       "8327  Just a bad day So today has been a stressful day, almost couldn't pay rent, found out my mother has tumors in her lungs and they might be cancerous, my significant other got extremely pissed off at me because I forgot today was our anniversary because of the other stuff that piled on, ended up breaking my phone and now being constantly told by my other half that life would be better without me in it since all I do is make them miserable. I just want to end it all but because I have kids I don't want them to live with it. I am just at a loss.\\n\\nEdit: forgot to add my spouse thinks I am cheating on them while I am just crying.                                                                                                                                                                                                                                                                                                                                                                                                                                                                                                                                                                                                                                                                                                                                                                                                                                                                                                                                                                                                                                                                                                                                                                                                                                                                                                                                                                                                                                                                                                                                                                                                                                                                                                                                                                                                                                                                                                                                                                                                                                                                                                                                                                                                                                                                                                                                                                        \n",
       "8328  When Im dead maybe the suffering will all come to an end. Sorry for poor grammar. I have a plan this plan is to hang myself in my wooded area of my property. I dont feel safe not even at my school, my parents locked all of the knives away and that doesnt matter. I found a new way glass. It cuts much deeper and I bleed more. \\n      \\n        For more background information I live with my parents and two other siblings Im the youngest and am a freshmen in school. I have been sad since 6th grade and suicidal since 7th grade. Ive tried taking my life once by suffocation with an extension cord and I lived. Ever since my depression and suicidal thoughts have gotten worse. I now know how to kill myself and will do before Christmas. I havent set a date but the next day when I get too low my parents and siblings wont see me. When they go searching in the woods all theyÃ¢â¬â¢ll see is my body hanging from a tree. Im sorry Im too late to fix and Im sorry.                                                                                                                                                                                                                                                                                                                                                                                                                                                                                                                                                                                                                                                                                                                                                                                                                                                                                                                                                                                                                                                                                                                                                                                                                                                                                                                                                                                                                                                                                                                                                                                                                                                                                                                                                                                                                                                                                                                                                                                                                                \n",
       "8329  Fuck I've been wanting to kill myself for about 20 years now.  Everything I do just makes me think about it more no matter how much I might be lying to myself about enjoying \"the moment\".  I trust no one when it comes to this as basically everyone I've ever opened up to about this has just called the police and the night ends w me naked in solitary confinement.  My plan has been for the last couple years to wait for my parents to die so they don't have to deal with it but I'm leaning closer and closer to saying fuck it to that.  I have a sister but she has a family and they would be essentially unaffected by my absence. I'm willing to hire someone to kill me at this point because I'm pretty sure I'm just too cowardly a piece of shit to do it myself.                                                                                                                                                                                                                                                                                                                                                                                                                                                                                                                                                                                                                                                                                                                                                                                                                                                                                                                                                                                                                                                                                                                                                                                                                                                                                                                                                                                                                                                                                                                                                                                                                                                                                                                                                                                                                                                                                                                                                                                                                                                                                                                                                                                                                                          \n",
       "\n",
       "            topics  \\\n",
       "0     anxiety        \n",
       "1     anxiety        \n",
       "2     anxiety        \n",
       "3     anxiety        \n",
       "4     anxiety        \n",
       "...       ...        \n",
       "8325  suicidewatch   \n",
       "8326  suicidewatch   \n",
       "8327  suicidewatch   \n",
       "8328  suicidewatch   \n",
       "8329  suicidewatch   \n",
       "\n",
       "                                                                                                                                                                                                                                                                                                                                                                                                                                                                                                                                                                                                                                                                                                                                                                                                                                                                                                                                                                                                                                                                                                                                                                                                                                                                                                                                                                                                                                                                                                                                                                                                                                                                                                                                                                                                                                                                                                                                                                                                                                                                                                                                                                                                                                                                                                                                                                                                                                                                                                                                                                                                                                                                                                                                                                                                                                                                                                                     clean_text  \n",
       "0     Does anyone else get anxious with working im scared that im going to have to do repairs that cost of money                                                                                                                                                                                                                                                                                                                                                                                                                                                                                                                                                                                                                                                                                                                                                                                                                                                                                                                                                                                                                                                                                                                                                                                                                                                                                                                                                                                                                                                                                                                                                                                                                                                                                                                                                                                                                                                                                                                                                                                                                                                                                                                                                                                                                                                                                                                                                                                                                                                                                                                                                                                                                                                                                                                                                                                                                 \n",
       "1     Help with anxietyinducing fears about school caused by a health issue Im 35 and planning to go back to grad school but over the years I developed some eye floaters that I can mostly ignore They are just out of my visible sight range when reading small books like novels but I started studying for the GRE with a big textbook and realized how obvious these floaters were now and theyve left me with anxiety about how Im going to cope with school if on top of everything else like how Im no longer used to student life how grad school is likely the hardest form of school Ive ever done etc add to that this problem with distracting floaters in my eyes that distract and annoy me    I really dont know how to deal here I am not confident in exposure therapy as I have had these floaters for a few years and really only learned to deal with them by changing my lifestyle such that I dont have to deal with them Its not a big issue and some junk in my eyes shouldnt be THAT much of a problem But just now I just glanced at my book for a few minutes and now Im dizzy with worry about it    What to do                                                                                                                                                                                                                                                                                                                                                                                                                                                                                                                                                                                                                                                                                                                                                                                                                                                                                                                                                                                                                                                                                                                                                                                                                                                                                                                                                                                                                                                                                                                                                                                                                                                                                                                                                                                     \n",
       "2     Use up whats left and throw the rest away I recently returned from 6 years working overseas    Unfortunately in the last few years my drinking and stimulant became worse and was detrimental to my mental and physical health    Im doing fine now as far as that is concerned Attended therapy clean and sober since November last year    When I came back I heard a few of my friends use the following phrase    well just use up whats left of him and then throw the rest away    Ive never heard this before Ive always been a people pleasing personality type and Im struggling hard to determine how to interpret it    Maybe I just dont want to face facts that it means exactly what it says That by hanging around with these people I put myself in a weak position and they arent real friends at all    Any thoughts                                                                                                                                                                                                                                                                                                                                                                                                                                                                                                                                                                                                                                                                                                                                                                                                                                                                                                                                                                                                                                                                                                                                                                                                                                                                                                                                                                                                                                                                                                                                                                                                                                                                                                                                                                                                                                                                                                                                                                                                                                                                                     \n",
       "3     My brain is driving me crazy Im a perfectionist and think everyone hates me all the time I literally always worried Ive done something wrong     Im at my first big professional conference in a major us city I barely slept last night because of a backache and nerves That and the jet lag is impairing  my functioning and I have blotchy skin and my dress is riding up on my legs and Ive had to pull it down All I had to do today was register for the conference but I was confused at every step and feel that everyone thinks Im stupid or hungover or unprofessional or something Im walking around this city I do not know oblivious and feel embarrassed and stupid My anxiety is killing me and men keep hitting on me I havent been away from my husband since we moved in together and I feel so dumb and small     Im so scared for my presentation tomorrow Can someone either console me or kindly put me out of my misery                                                                                                                                                                                                                                                                                                                                                                                                                                                                                                                                                                                                                                                                                                                                                                                                                                                                                                                                                                                                                                                                                                                                                                                                                                                                                                                                                                                                                                                                                                                                                                                                                                                                                                                                                                                                                                                                                                                                                                            \n",
       "4     Does anyone else feel like the worst person ever if they annoy a friend Hey Reddit Basically I have mild anxiety But something that really messes with my head is when I have a fall out or get a blunt text from a friend to say I annoyed them when I did something My first response is always Im sorry and trying not to say it a million times over but my mind then goes through this turmoil where I have all these esteem lowering thoughts along the lines of theyll hate me forever now or Im such a horrible person as well as being filled with guilt for upsetting the person  It always turns out that whatever I did wrong only annoyed them for a short period of time and before I knew it life is back to normal I just wish I could control the horrible negative wave that comes over me                                                                                                                                                                                                                                                                                                                                                                                                                                                                                                                                                                                                                                                                                                                                                                                                                                                                                                                                                                                                                                                                                                                                                                                                                                                                                                                                                                                                                                                                                                                                                                                                                                                                                                                                                                                                                                                                                                                                                                                                                                                                                                               \n",
       "...                                                                                                                                                                                                                                                                                                                                                                                                                                                                                                                                                                                                                                                                                                                                                                                                            ...                                                                                                                                                                                                                                                                                                                                                                                                                                                                                                                                                                                                                                                                                                                                                                                                                                                                                                                                                                                                                                                                                                                                                                                                                                                                                                                                                                                                                                                                                                                                                                                                                                                                                                                                                                                                                                                                                                                                                                                                                                                                                                               \n",
       "8325  alone useless and horribly guilty reaching out here because i have nothing else no friends or family or anything no money or hobbies or interests or a career or a future not healthy in body or in the mind ive been trying harder than i have ever tried and cant do it                                                                                                                                                                                                                                                                                                                                                                                                                                                                                                                                                                                                                                                                                                                                                                                                                                                                                                                                                                                                                                                                                                                                                                                                                                                                                                                                                                                                                                                                                                                                                                                                                                                                                                                                                                                                                                                                                                                                                                                                                                                                                                                                                                                                                                                                                                                                                                                                                                                                                                                                                                                                                                                  \n",
       "8326  Am I not understandingseeing something This is not a cry for help this is not me asking for prayers and sympathy Id like this to be more of an intellectual discussion    What Im about to say is coming from a point of view that Im aware may be negative and skewed due to eventsobservations that conditioned my subconscious to think this way     Anyway I genuinely just dont see the point of this life To me it seems very high painlowmediocre reward     In just about every situation there are 4 things that usually happen with experiences you have goals you have and just life in general that I have a problem with That being    1 The necessary hardshipslessons you endure in life    2 The reward you get out of it    3 Was the reward even worth it    4 Why any of it at all    Number 4 falls into more if a philosophical discussion but still contributes to why I have suicidal thoughts I think the 4 above points apply to literally everything but Ill throw out a couple of examples in the format of those points to help illustrate my issue    1 A young kid gets hisher heart crushed in high school by a girlboy maybe more than once    2 Kid gains a new understanding of what love really is or at least what it isnt and maybe gains a better idea of what they want in a partner    3 This may happen a few more times into adulthood but theyÃ¢â¬â¢re finally at a point where they may have found someone they choose to settle with Cool but of course no matter what issues still occur and recurr with any relationship    4 Why any of this at all    A different example    1 Guy grows up in poverty    2 All of those years in poverty gave him this crazy drive to make tons of money and live a life he never had    3 He finally has a big house nice car and things hes always wanted And in my mind Im like   Ok I just went through absolute hell to have these things what nowÃ¢â¬Â Which leads me to number 4    4 Why any if that at all      The way I break down these experiences in my little 14 format may be flawed 3 and 4 to me are related and can overlap but anyway    4 is the main one for me its just kind of the classic   why are we even hereÃ¢â¬Â question Ok so you learn these lessons in life and eventually find happiness Ok for what Like ultimately what are we even doing here Are we here just to experience things in these little fleshy suits we have on Why How does what we experience in our lives here tie into any signifigance into anything at all    So the combination of the sometimes unbearable pain it takes to finally experience happiness and not seeing the point of any of it in the first place makes me not want to live anymore    Im not the best at writingtyping Im also not the best at explaining things but I tried my best to get this off my chest Thanks to any that took the time to read  \n",
       "8327  Just a bad day So today has been a stressful day almost couldnt pay rent found out my mother has tumors in her lungs and they might be cancerous my significant other got extremely pissed off at me because I forgot today was our anniversary because of the other stuff that piled on ended up breaking my phone and now being constantly told by my other half that life would be better without me in it since all I do is make them miserable I just want to end it all but because I have kids I dont want them to live with it I am just at a loss    Edit forgot to add my spouse thinks I am cheating on them while I am just crying                                                                                                                                                                                                                                                                                                                                                                                                                                                                                                                                                                                                                                                                                                                                                                                                                                                                                                                                                                                                                                                                                                                                                                                                                                                                                                                                                                                                                                                                                                                                                                                                                                                                                                                                                                                                                                                                                                                                                                                                                                                                                                                                                                                                                                                                             \n",
       "8328  When Im dead maybe the suffering will all come to an end Sorry for poor grammar I have a plan this plan is to hang myself in my wooded area of my property I dont feel safe not even at my school my parents locked all of the knives away and that doesnt matter I found a new way glass It cuts much deeper and I bleed more                   For more background information I live with my parents and two other siblings Im the youngest and am a freshmen in school I have been sad since 6th grade and suicidal since 7th grade Ive tried taking my life once by suffocation with an extension cord and I lived Ever since my depression and suicidal thoughts have gotten worse I now know how to kill myself and will do before Christmas I havent set a date but the next day when I get too low my parents and siblings wont see me When they go searching in the woods all theyÃ¢â¬â¢ll see is my body hanging from a tree Im sorry Im too late to fix and Im sorry                                                                                                                                                                                                                                                                                                                                                                                                                                                                                                                                                                                                                                                                                                                                                                                                                                                                                                                                                                                                                                                                                                                                                                                                                                                                                                                                                                                                                                                                                                                                                                                                                                                                                                                                                                                                                                                                                                                                         \n",
       "8329  Fuck Ive been wanting to kill myself for about 20 years now  Everything I do just makes me think about it more no matter how much I might be lying to myself about enjoying the moment  I trust no one when it comes to this as basically everyone Ive ever opened up to about this has just called the police and the night ends w me naked in solitary confinement  My plan has been for the last couple years to wait for my parents to die so they dont have to deal with it but Im leaning closer and closer to saying fuck it to that  I have a sister but she has a family and they would be essentially unaffected by my absence Im willing to hire someone to kill me at this point because Im pretty sure Im just too cowardly a piece of shit to do it myself                                                                                                                                                                                                                                                                                                                                                                                                                                                                                                                                                                                                                                                                                                                                                                                                                                                                                                                                                                                                                                                                                                                                                                                                                                                                                                                                                                                                                                                                                                                                                                                                                                                                                                                                                                                                                                                                                                                                                                                                                                                                                                                                                   \n",
       "\n",
       "[8315 rows x 3 columns]"
      ]
     },
     "metadata": {},
     "output_type": "display_data"
    }
   ],
   "source": [
    "display(data)"
   ]
  },
  {
   "cell_type": "code",
   "execution_count": 21,
   "id": "a58897ab",
   "metadata": {},
   "outputs": [
    {
     "data": {
      "text/html": [
       "<div>\n",
       "<style scoped>\n",
       "    .dataframe tbody tr th:only-of-type {\n",
       "        vertical-align: middle;\n",
       "    }\n",
       "\n",
       "    .dataframe tbody tr th {\n",
       "        vertical-align: top;\n",
       "    }\n",
       "\n",
       "    .dataframe thead th {\n",
       "        text-align: right;\n",
       "    }\n",
       "</style>\n",
       "<table border=\"1\" class=\"dataframe\">\n",
       "  <thead>\n",
       "    <tr style=\"text-align: right;\">\n",
       "      <th></th>\n",
       "      <th>post</th>\n",
       "      <th>topics</th>\n",
       "      <th>clean_text</th>\n",
       "    </tr>\n",
       "  </thead>\n",
       "  <tbody>\n",
       "    <tr>\n",
       "      <th>0</th>\n",
       "      <td>Does anyone else get anxious with working? im scared that im going to have to do repairs that cost of money.</td>\n",
       "      <td>anxiety</td>\n",
       "      <td>Does anyone else get anxious with working im scared that im going to have to do repairs that cost of money</td>\n",
       "    </tr>\n",
       "    <tr>\n",
       "      <th>1</th>\n",
       "      <td>Help with anxiety-inducing fears about school caused by a health issue I'm 35 and planning to go back to grad school, but over the years I developed some eye floaters that I can mostly ignore. They are just out of my visible sight range when reading small books like novels, but I started studying for the GRE with a big textbook and realized how obvious these floaters were now, and they've left me with anxiety about how I'm going to cope with school if, on top of everything else like how I'm no longer used to student life, how grad school is likely the hardest form of school I've ever done etc, add to that this problem with distracting floaters in my eyes that distract and annoy me.\\n\\nI really don't know how to deal here. I am not confident in exposure therapy as I have had these floaters for a few years and really only learned to deal with them by changing my lifestyle such that I don't have to deal with them. It's not a big issue, and some junk in my eyes shouldn't be THAT much of a problem. But just now I just glanced at my book for a few minutes and now I'm dizzy with worry about it.\\n\\nWhat to do?</td>\n",
       "      <td>anxiety</td>\n",
       "      <td>Help with anxietyinducing fears about school caused by a health issue Im 35 and planning to go back to grad school but over the years I developed some eye floaters that I can mostly ignore They are just out of my visible sight range when reading small books like novels but I started studying for the GRE with a big textbook and realized how obvious these floaters were now and theyve left me with anxiety about how Im going to cope with school if on top of everything else like how Im no longer used to student life how grad school is likely the hardest form of school Ive ever done etc add to that this problem with distracting floaters in my eyes that distract and annoy me    I really dont know how to deal here I am not confident in exposure therapy as I have had these floaters for a few years and really only learned to deal with them by changing my lifestyle such that I dont have to deal with them Its not a big issue and some junk in my eyes shouldnt be THAT much of a problem But just now I just glanced at my book for a few minutes and now Im dizzy with worry about it    What to do</td>\n",
       "    </tr>\n",
       "    <tr>\n",
       "      <th>2</th>\n",
       "      <td>Use up what's left and throw the rest away I recently returned from 6 years working overseas.\\n\\nUnfortunately in the last few years my drinking and stimulant became worse and was detrimental to my mental and physical health.\\n\\nI'm doing fine now as far as that is concerned. Attended therapy, clean and sober since November last year.\\n\\nWhen I came back I heard a few of my \"friends\" use the following phrase,\\n\\n\"we'll just use up what's left of him and then throw the rest away\"\\n\\nI've never heard this before. I've always been a people pleasing personality type and I'm struggling hard to determine how to interpret it.\\n\\nMaybe I just don't want to face facts that it means exactly what it says... That by hanging around with these people I put myself in a weak position and they aren't real friends at all.\\n\\nAny thoughts?</td>\n",
       "      <td>anxiety</td>\n",
       "      <td>Use up whats left and throw the rest away I recently returned from 6 years working overseas    Unfortunately in the last few years my drinking and stimulant became worse and was detrimental to my mental and physical health    Im doing fine now as far as that is concerned Attended therapy clean and sober since November last year    When I came back I heard a few of my friends use the following phrase    well just use up whats left of him and then throw the rest away    Ive never heard this before Ive always been a people pleasing personality type and Im struggling hard to determine how to interpret it    Maybe I just dont want to face facts that it means exactly what it says That by hanging around with these people I put myself in a weak position and they arent real friends at all    Any thoughts</td>\n",
       "    </tr>\n",
       "    <tr>\n",
       "      <th>3</th>\n",
       "      <td>My brain is driving me crazy! Im a perfectionist and think everyone hates me all the time. I literally always worried Ive done something wrong. \\n\\nIm at my first big professional conference in a major us city. I barely slept last night because of a backache and nerves. That and the jet lag is impairing  my functioning and I have blotchy skin and my dress is riding up on my legs and Ive had to pull it down. All I had to do today was register for the conference, but I was confused at every step and feel that everyone thinks Im stupid or hungover or unprofessional or something. Im walking around this city I do not know oblivious and feel embarrassed and stupid. My anxiety is killing me and men keep hitting on me. I havent been away from my husband since we moved in together and I feel so dumb and small. \\n\\nIm so scared for my presentation tomorrow. Can someone either console me or kindly put me out of my misery?</td>\n",
       "      <td>anxiety</td>\n",
       "      <td>My brain is driving me crazy Im a perfectionist and think everyone hates me all the time I literally always worried Ive done something wrong     Im at my first big professional conference in a major us city I barely slept last night because of a backache and nerves That and the jet lag is impairing  my functioning and I have blotchy skin and my dress is riding up on my legs and Ive had to pull it down All I had to do today was register for the conference but I was confused at every step and feel that everyone thinks Im stupid or hungover or unprofessional or something Im walking around this city I do not know oblivious and feel embarrassed and stupid My anxiety is killing me and men keep hitting on me I havent been away from my husband since we moved in together and I feel so dumb and small     Im so scared for my presentation tomorrow Can someone either console me or kindly put me out of my misery</td>\n",
       "    </tr>\n",
       "    <tr>\n",
       "      <th>4</th>\n",
       "      <td>Does anyone else feel like the worst person ever if they annoy a friend? Hey Reddit. Basically, I have mild anxiety. But something that really messes with my head is when I have a fall out or get a blunt text from a friend to say I annoyed them when I did something. My first response is always I'm sorry (and trying not to say it a million times over) but my mind then goes through this turmoil where I have all these esteem lowering thoughts along the lines of, they'll hate me forever now, or I'm such a horrible person, as well as being filled with guilt for upsetting the person.\\nIt always turns out that whatever I did wrong only annoyed them for a short period of time and before I knew it life is back to normal, I just wish I could control the horrible negative wave that comes over me</td>\n",
       "      <td>anxiety</td>\n",
       "      <td>Does anyone else feel like the worst person ever if they annoy a friend Hey Reddit Basically I have mild anxiety But something that really messes with my head is when I have a fall out or get a blunt text from a friend to say I annoyed them when I did something My first response is always Im sorry and trying not to say it a million times over but my mind then goes through this turmoil where I have all these esteem lowering thoughts along the lines of theyll hate me forever now or Im such a horrible person as well as being filled with guilt for upsetting the person  It always turns out that whatever I did wrong only annoyed them for a short period of time and before I knew it life is back to normal I just wish I could control the horrible negative wave that comes over me</td>\n",
       "    </tr>\n",
       "    <tr>\n",
       "      <th>...</th>\n",
       "      <td>...</td>\n",
       "      <td>...</td>\n",
       "      <td>...</td>\n",
       "    </tr>\n",
       "    <tr>\n",
       "      <th>8325</th>\n",
       "      <td>alone, useless and horribly guilty reaching out here because i have nothing else. no friends or family or anything. no money or hobbies or interests or a career or a future. not healthy in body or in the mind. i've been trying harder than i have ever tried and can't do it.</td>\n",
       "      <td>suicidewatch</td>\n",
       "      <td>alone useless and horribly guilty reaching out here because i have nothing else no friends or family or anything no money or hobbies or interests or a career or a future not healthy in body or in the mind ive been trying harder than i have ever tried and cant do it</td>\n",
       "    </tr>\n",
       "    <tr>\n",
       "      <th>8326</th>\n",
       "      <td>Am I not understanding/seeing something? This is not a cry for help, this is not me asking for prayers and sympathy, Id like this to be more of an intellectual discussion.\\n\\nWhat Im about to say is coming from a point of view that Im aware may be negative and skewed due to events/observations that conditioned my subconscious to think this way. \\n\\nAnyway, I genuinely just dont see the point of this life. To me, it seems very high pain-low/mediocre reward. \\n\\nIn just about every situation, there are 4 things that usually happen with experiences you have, goals you have and just life in general that I have a problem with. That being:\\n\\n1) The necessary hard-ships/lessons you endure in life.\\n\\n2) The reward you get out of it.\\n\\n3) Was the reward even worth it?\\n\\n4) Why any of it at all?\\n\\nNumber 4 falls into more if a philosophical discussion, but still contributes to why I have suicidal thoughts. I think the 4 above points apply to literally everything, but Ill throw out a couple of examples in the format of those points to help illustrate my issue.\\n\\n1) A young kid gets his/her heart crushed in high school by a girl/boy. (maybe more than once)\\n\\n2) Kid gains a new understanding of what love really is, or at least what it isnt and maybe gains a better idea of what they want in a partner.\\n\\n3) This may happen a few more times into adulthood, but theyÃ¢â¬â¢re finally at a point where they may have found someone they choose to settle with. Cool, but of course no matter what, issues still occur, and recurr with any relationship.\\n\\n4) Why any of this at all?\\n\\nA different example:\\n\\n1) Guy grows up in poverty\\n\\n2) All of those years in poverty gave him this crazy drive to make tons of money and live a life he never had.\\n\\n3) He finally has a big house, nice car, and things hes always wanted. And in my mind, Im like Ã¢â¬ÅOk.. I just went through absolute hell to have these things.. what now?Ã¢â¬Â. Which leads me to number 4..\\n\\n4) Why any if that at all?\\n\\n\\nThe way I break down these experiences in my little 1-4 format may be flawed, 3 and 4 to me are related and can overlap, but anyway..\\n\\n4 is the main one for me, its just kind of the classic Ã¢â¬Åwhy are we even here?Ã¢â¬Â question. Ok so you learn these lessons in life and eventually find happiness. Ok, for what? Like ultimately what are we even doing here? Are we here just to experience things in these little fleshy suits we have on? Why? How does what we experience in our lives here tie into any signifigance into anything at all?\\n\\nSo the combination of the sometimes unbearable pain it takes to finally experience happiness, and not seeing the point of any of it in the first place, makes me not want to live anymore.\\n\\nIm not the best at writing/typing, Im also not the best at explaining things, but I tried my best to get this off my chest. Thanks to any that took the time to read.</td>\n",
       "      <td>suicidewatch</td>\n",
       "      <td>Am I not understandingseeing something This is not a cry for help this is not me asking for prayers and sympathy Id like this to be more of an intellectual discussion    What Im about to say is coming from a point of view that Im aware may be negative and skewed due to eventsobservations that conditioned my subconscious to think this way     Anyway I genuinely just dont see the point of this life To me it seems very high painlowmediocre reward     In just about every situation there are 4 things that usually happen with experiences you have goals you have and just life in general that I have a problem with That being    1 The necessary hardshipslessons you endure in life    2 The reward you get out of it    3 Was the reward even worth it    4 Why any of it at all    Number 4 falls into more if a philosophical discussion but still contributes to why I have suicidal thoughts I think the 4 above points apply to literally everything but Ill throw out a couple of examples in the format of those points to help illustrate my issue    1 A young kid gets hisher heart crushed in high school by a girlboy maybe more than once    2 Kid gains a new understanding of what love really is or at least what it isnt and maybe gains a better idea of what they want in a partner    3 This may happen a few more times into adulthood but theyre finally at a point where they may have found someone they choose to settle with Cool but of course no matter what issues still occur and recurr with any relationship    4 Why any of this at all    A different example    1 Guy grows up in poverty    2 All of those years in poverty gave him this crazy drive to make tons of money and live a life he never had    3 He finally has a big house nice car and things hes always wanted And in my mind Im like   Ok I just went through absolute hell to have these things what now Which leads me to number 4    4 Why any if that at all      The way I break down these experiences in my little 14 format may be flawed 3 and 4 to me are related and can overlap but anyway    4 is the main one for me its just kind of the classic   why are we even here question Ok so you learn these lessons in life and eventually find happiness Ok for what Like ultimately what are we even doing here Are we here just to experience things in these little fleshy suits we have on Why How does what we experience in our lives here tie into any signifigance into anything at all    So the combination of the sometimes unbearable pain it takes to finally experience happiness and not seeing the point of any of it in the first place makes me not want to live anymore    Im not the best at writingtyping Im also not the best at explaining things but I tried my best to get this off my chest Thanks to any that took the time to read</td>\n",
       "    </tr>\n",
       "    <tr>\n",
       "      <th>8327</th>\n",
       "      <td>Just a bad day So today has been a stressful day, almost couldn't pay rent, found out my mother has tumors in her lungs and they might be cancerous, my significant other got extremely pissed off at me because I forgot today was our anniversary because of the other stuff that piled on, ended up breaking my phone and now being constantly told by my other half that life would be better without me in it since all I do is make them miserable. I just want to end it all but because I have kids I don't want them to live with it. I am just at a loss.\\n\\nEdit: forgot to add my spouse thinks I am cheating on them while I am just crying.</td>\n",
       "      <td>suicidewatch</td>\n",
       "      <td>Just a bad day So today has been a stressful day almost couldnt pay rent found out my mother has tumors in her lungs and they might be cancerous my significant other got extremely pissed off at me because I forgot today was our anniversary because of the other stuff that piled on ended up breaking my phone and now being constantly told by my other half that life would be better without me in it since all I do is make them miserable I just want to end it all but because I have kids I dont want them to live with it I am just at a loss    Edit forgot to add my spouse thinks I am cheating on them while I am just crying</td>\n",
       "    </tr>\n",
       "    <tr>\n",
       "      <th>8328</th>\n",
       "      <td>When Im dead maybe the suffering will all come to an end. Sorry for poor grammar. I have a plan this plan is to hang myself in my wooded area of my property. I dont feel safe not even at my school, my parents locked all of the knives away and that doesnt matter. I found a new way glass. It cuts much deeper and I bleed more. \\n      \\n        For more background information I live with my parents and two other siblings Im the youngest and am a freshmen in school. I have been sad since 6th grade and suicidal since 7th grade. Ive tried taking my life once by suffocation with an extension cord and I lived. Ever since my depression and suicidal thoughts have gotten worse. I now know how to kill myself and will do before Christmas. I havent set a date but the next day when I get too low my parents and siblings wont see me. When they go searching in the woods all theyÃ¢â¬â¢ll see is my body hanging from a tree. Im sorry Im too late to fix and Im sorry.</td>\n",
       "      <td>suicidewatch</td>\n",
       "      <td>When Im dead maybe the suffering will all come to an end Sorry for poor grammar I have a plan this plan is to hang myself in my wooded area of my property I dont feel safe not even at my school my parents locked all of the knives away and that doesnt matter I found a new way glass It cuts much deeper and I bleed more                   For more background information I live with my parents and two other siblings Im the youngest and am a freshmen in school I have been sad since 6th grade and suicidal since 7th grade Ive tried taking my life once by suffocation with an extension cord and I lived Ever since my depression and suicidal thoughts have gotten worse I now know how to kill myself and will do before Christmas I havent set a date but the next day when I get too low my parents and siblings wont see me When they go searching in the woods all theyll see is my body hanging from a tree Im sorry Im too late to fix and Im sorry</td>\n",
       "    </tr>\n",
       "    <tr>\n",
       "      <th>8329</th>\n",
       "      <td>Fuck I've been wanting to kill myself for about 20 years now.  Everything I do just makes me think about it more no matter how much I might be lying to myself about enjoying \"the moment\".  I trust no one when it comes to this as basically everyone I've ever opened up to about this has just called the police and the night ends w me naked in solitary confinement.  My plan has been for the last couple years to wait for my parents to die so they don't have to deal with it but I'm leaning closer and closer to saying fuck it to that.  I have a sister but she has a family and they would be essentially unaffected by my absence. I'm willing to hire someone to kill me at this point because I'm pretty sure I'm just too cowardly a piece of shit to do it myself.</td>\n",
       "      <td>suicidewatch</td>\n",
       "      <td>Fuck Ive been wanting to kill myself for about 20 years now  Everything I do just makes me think about it more no matter how much I might be lying to myself about enjoying the moment  I trust no one when it comes to this as basically everyone Ive ever opened up to about this has just called the police and the night ends w me naked in solitary confinement  My plan has been for the last couple years to wait for my parents to die so they dont have to deal with it but Im leaning closer and closer to saying fuck it to that  I have a sister but she has a family and they would be essentially unaffected by my absence Im willing to hire someone to kill me at this point because Im pretty sure Im just too cowardly a piece of shit to do it myself</td>\n",
       "    </tr>\n",
       "  </tbody>\n",
       "</table>\n",
       "<p>8315 rows × 3 columns</p>\n",
       "</div>"
      ],
      "text/plain": [
       "                                                                                                                                                                                                                                                                                                                                                                                                                                                                                                                                                                                                                                                                                                                                                                                                                                                                                                                                                                                                                                                                                                                                                                                                                                                                                                                                                                                                                                                                                                                                                                                                                                                                                                                                                                                                                                                                                                                                                                                                                                                                                                                                                                                                                                                                                                                                                                                                                                                                                                                                                                                                                                                                                                                                                                                                                                                                                                                                                                                                                                post  \\\n",
       "0     Does anyone else get anxious with working? im scared that im going to have to do repairs that cost of money.                                                                                                                                                                                                                                                                                                                                                                                                                                                                                                                                                                                                                                                                                                                                                                                                                                                                                                                                                                                                                                                                                                                                                                                                                                                                                                                                                                                                                                                                                                                                                                                                                                                                                                                                                                                                                                                                                                                                                                                                                                                                                                                                                                                                                                                                                                                                                                                                                                                                                                                                                                                                                                                                                                                                                                                                                                                                                                                     \n",
       "1     Help with anxiety-inducing fears about school caused by a health issue I'm 35 and planning to go back to grad school, but over the years I developed some eye floaters that I can mostly ignore. They are just out of my visible sight range when reading small books like novels, but I started studying for the GRE with a big textbook and realized how obvious these floaters were now, and they've left me with anxiety about how I'm going to cope with school if, on top of everything else like how I'm no longer used to student life, how grad school is likely the hardest form of school I've ever done etc, add to that this problem with distracting floaters in my eyes that distract and annoy me.\\n\\nI really don't know how to deal here. I am not confident in exposure therapy as I have had these floaters for a few years and really only learned to deal with them by changing my lifestyle such that I don't have to deal with them. It's not a big issue, and some junk in my eyes shouldn't be THAT much of a problem. But just now I just glanced at my book for a few minutes and now I'm dizzy with worry about it.\\n\\nWhat to do?                                                                                                                                                                                                                                                                                                                                                                                                                                                                                                                                                                                                                                                                                                                                                                                                                                                                                                                                                                                                                                                                                                                                                                                                                                                                                                                                                                                                                                                                                                                                                                                                                                                                                                                                                                                                                                                                  \n",
       "2     Use up what's left and throw the rest away I recently returned from 6 years working overseas.\\n\\nUnfortunately in the last few years my drinking and stimulant became worse and was detrimental to my mental and physical health.\\n\\nI'm doing fine now as far as that is concerned. Attended therapy, clean and sober since November last year.\\n\\nWhen I came back I heard a few of my \"friends\" use the following phrase,\\n\\n\"we'll just use up what's left of him and then throw the rest away\"\\n\\nI've never heard this before. I've always been a people pleasing personality type and I'm struggling hard to determine how to interpret it.\\n\\nMaybe I just don't want to face facts that it means exactly what it says... That by hanging around with these people I put myself in a weak position and they aren't real friends at all.\\n\\nAny thoughts?                                                                                                                                                                                                                                                                                                                                                                                                                                                                                                                                                                                                                                                                                                                                                                                                                                                                                                                                                                                                                                                                                                                                                                                                                                                                                                                                                                                                                                                                                                                                                                                                                                                                                                                                                                                                                                                                                                                                                                                                                                                                                                                                                                 \n",
       "3     My brain is driving me crazy! Im a perfectionist and think everyone hates me all the time. I literally always worried Ive done something wrong. \\n\\nIm at my first big professional conference in a major us city. I barely slept last night because of a backache and nerves. That and the jet lag is impairing  my functioning and I have blotchy skin and my dress is riding up on my legs and Ive had to pull it down. All I had to do today was register for the conference, but I was confused at every step and feel that everyone thinks Im stupid or hungover or unprofessional or something. Im walking around this city I do not know oblivious and feel embarrassed and stupid. My anxiety is killing me and men keep hitting on me. I havent been away from my husband since we moved in together and I feel so dumb and small. \\n\\nIm so scared for my presentation tomorrow. Can someone either console me or kindly put me out of my misery?                                                                                                                                                                                                                                                                                                                                                                                                                                                                                                                                                                                                                                                                                                                                                                                                                                                                                                                                                                                                                                                                                                                                                                                                                                                                                                                                                                                                                                                                                                                                                                                                                                                                                                                                                                                                                                                                                                                                                                                                                                                                     \n",
       "4     Does anyone else feel like the worst person ever if they annoy a friend? Hey Reddit. Basically, I have mild anxiety. But something that really messes with my head is when I have a fall out or get a blunt text from a friend to say I annoyed them when I did something. My first response is always I'm sorry (and trying not to say it a million times over) but my mind then goes through this turmoil where I have all these esteem lowering thoughts along the lines of, they'll hate me forever now, or I'm such a horrible person, as well as being filled with guilt for upsetting the person.\\nIt always turns out that whatever I did wrong only annoyed them for a short period of time and before I knew it life is back to normal, I just wish I could control the horrible negative wave that comes over me                                                                                                                                                                                                                                                                                                                                                                                                                                                                                                                                                                                                                                                                                                                                                                                                                                                                                                                                                                                                                                                                                                                                                                                                                                                                                                                                                                                                                                                                                                                                                                                                                                                                                                                                                                                                                                                                                                                                                                                                                                                                                                                                                                                                      \n",
       "...                                                                                                                                                                                                                                                                                                                                                                                                                                                                                                                                                                                                                                                                                                                                                                                                                           ...                                                                                                                                                                                                                                                                                                                                                                                                                                                                                                                                                                                                                                                                                                                                                                                                                                                                                                                                                                                                                                                                                                                                                                                                                                                                                                                                                                                                                                                                                                                                                                                                                                                                                                                                                                                                                                                                                                                                                                                                                                                                                                                                                                                                      \n",
       "8325  alone, useless and horribly guilty reaching out here because i have nothing else. no friends or family or anything. no money or hobbies or interests or a career or a future. not healthy in body or in the mind. i've been trying harder than i have ever tried and can't do it.                                                                                                                                                                                                                                                                                                                                                                                                                                                                                                                                                                                                                                                                                                                                                                                                                                                                                                                                                                                                                                                                                                                                                                                                                                                                                                                                                                                                                                                                                                                                                                                                                                                                                                                                                                                                                                                                                                                                                                                                                                                                                                                                                                                                                                                                                                                                                                                                                                                                                                                                                                                                                                                                                                                                                \n",
       "8326  Am I not understanding/seeing something? This is not a cry for help, this is not me asking for prayers and sympathy, Id like this to be more of an intellectual discussion.\\n\\nWhat Im about to say is coming from a point of view that Im aware may be negative and skewed due to events/observations that conditioned my subconscious to think this way. \\n\\nAnyway, I genuinely just dont see the point of this life. To me, it seems very high pain-low/mediocre reward. \\n\\nIn just about every situation, there are 4 things that usually happen with experiences you have, goals you have and just life in general that I have a problem with. That being:\\n\\n1) The necessary hard-ships/lessons you endure in life.\\n\\n2) The reward you get out of it.\\n\\n3) Was the reward even worth it?\\n\\n4) Why any of it at all?\\n\\nNumber 4 falls into more if a philosophical discussion, but still contributes to why I have suicidal thoughts. I think the 4 above points apply to literally everything, but Ill throw out a couple of examples in the format of those points to help illustrate my issue.\\n\\n1) A young kid gets his/her heart crushed in high school by a girl/boy. (maybe more than once)\\n\\n2) Kid gains a new understanding of what love really is, or at least what it isnt and maybe gains a better idea of what they want in a partner.\\n\\n3) This may happen a few more times into adulthood, but theyÃ¢â¬â¢re finally at a point where they may have found someone they choose to settle with. Cool, but of course no matter what, issues still occur, and recurr with any relationship.\\n\\n4) Why any of this at all?\\n\\nA different example:\\n\\n1) Guy grows up in poverty\\n\\n2) All of those years in poverty gave him this crazy drive to make tons of money and live a life he never had.\\n\\n3) He finally has a big house, nice car, and things hes always wanted. And in my mind, Im like Ã¢â¬ÅOk.. I just went through absolute hell to have these things.. what now?Ã¢â¬Â. Which leads me to number 4..\\n\\n4) Why any if that at all?\\n\\n\\nThe way I break down these experiences in my little 1-4 format may be flawed, 3 and 4 to me are related and can overlap, but anyway..\\n\\n4 is the main one for me, its just kind of the classic Ã¢â¬Åwhy are we even here?Ã¢â¬Â question. Ok so you learn these lessons in life and eventually find happiness. Ok, for what? Like ultimately what are we even doing here? Are we here just to experience things in these little fleshy suits we have on? Why? How does what we experience in our lives here tie into any signifigance into anything at all?\\n\\nSo the combination of the sometimes unbearable pain it takes to finally experience happiness, and not seeing the point of any of it in the first place, makes me not want to live anymore.\\n\\nIm not the best at writing/typing, Im also not the best at explaining things, but I tried my best to get this off my chest. Thanks to any that took the time to read.   \n",
       "8327  Just a bad day So today has been a stressful day, almost couldn't pay rent, found out my mother has tumors in her lungs and they might be cancerous, my significant other got extremely pissed off at me because I forgot today was our anniversary because of the other stuff that piled on, ended up breaking my phone and now being constantly told by my other half that life would be better without me in it since all I do is make them miserable. I just want to end it all but because I have kids I don't want them to live with it. I am just at a loss.\\n\\nEdit: forgot to add my spouse thinks I am cheating on them while I am just crying.                                                                                                                                                                                                                                                                                                                                                                                                                                                                                                                                                                                                                                                                                                                                                                                                                                                                                                                                                                                                                                                                                                                                                                                                                                                                                                                                                                                                                                                                                                                                                                                                                                                                                                                                                                                                                                                                                                                                                                                                                                                                                                                                                                                                                                                                                                                                                                        \n",
       "8328  When Im dead maybe the suffering will all come to an end. Sorry for poor grammar. I have a plan this plan is to hang myself in my wooded area of my property. I dont feel safe not even at my school, my parents locked all of the knives away and that doesnt matter. I found a new way glass. It cuts much deeper and I bleed more. \\n      \\n        For more background information I live with my parents and two other siblings Im the youngest and am a freshmen in school. I have been sad since 6th grade and suicidal since 7th grade. Ive tried taking my life once by suffocation with an extension cord and I lived. Ever since my depression and suicidal thoughts have gotten worse. I now know how to kill myself and will do before Christmas. I havent set a date but the next day when I get too low my parents and siblings wont see me. When they go searching in the woods all theyÃ¢â¬â¢ll see is my body hanging from a tree. Im sorry Im too late to fix and Im sorry.                                                                                                                                                                                                                                                                                                                                                                                                                                                                                                                                                                                                                                                                                                                                                                                                                                                                                                                                                                                                                                                                                                                                                                                                                                                                                                                                                                                                                                                                                                                                                                                                                                                                                                                                                                                                                                                                                                                                                                                                                                \n",
       "8329  Fuck I've been wanting to kill myself for about 20 years now.  Everything I do just makes me think about it more no matter how much I might be lying to myself about enjoying \"the moment\".  I trust no one when it comes to this as basically everyone I've ever opened up to about this has just called the police and the night ends w me naked in solitary confinement.  My plan has been for the last couple years to wait for my parents to die so they don't have to deal with it but I'm leaning closer and closer to saying fuck it to that.  I have a sister but she has a family and they would be essentially unaffected by my absence. I'm willing to hire someone to kill me at this point because I'm pretty sure I'm just too cowardly a piece of shit to do it myself.                                                                                                                                                                                                                                                                                                                                                                                                                                                                                                                                                                                                                                                                                                                                                                                                                                                                                                                                                                                                                                                                                                                                                                                                                                                                                                                                                                                                                                                                                                                                                                                                                                                                                                                                                                                                                                                                                                                                                                                                                                                                                                                                                                                                                                          \n",
       "\n",
       "            topics  \\\n",
       "0     anxiety        \n",
       "1     anxiety        \n",
       "2     anxiety        \n",
       "3     anxiety        \n",
       "4     anxiety        \n",
       "...       ...        \n",
       "8325  suicidewatch   \n",
       "8326  suicidewatch   \n",
       "8327  suicidewatch   \n",
       "8328  suicidewatch   \n",
       "8329  suicidewatch   \n",
       "\n",
       "                                                                                                                                                                                                                                                                                                                                                                                                                                                                                                                                                                                                                                                                                                                                                                                                                                                                                                                                                                                                                                                                                                                                                                                                                                                                                                                                                                                                                                                                                                                                                                                                                                                                                                                                                                                                                                                                                                                                                                                                                                                                                                                                                                                                                                                                                                                                                                                                                                                                                                                                                                                                                                                                                                                                                                                                                                                                                               clean_text  \n",
       "0     Does anyone else get anxious with working im scared that im going to have to do repairs that cost of money                                                                                                                                                                                                                                                                                                                                                                                                                                                                                                                                                                                                                                                                                                                                                                                                                                                                                                                                                                                                                                                                                                                                                                                                                                                                                                                                                                                                                                                                                                                                                                                                                                                                                                                                                                                                                                                                                                                                                                                                                                                                                                                                                                                                                                                                                                                                                                                                                                                                                                                                                                                                                                                                                                                                                                                           \n",
       "1     Help with anxietyinducing fears about school caused by a health issue Im 35 and planning to go back to grad school but over the years I developed some eye floaters that I can mostly ignore They are just out of my visible sight range when reading small books like novels but I started studying for the GRE with a big textbook and realized how obvious these floaters were now and theyve left me with anxiety about how Im going to cope with school if on top of everything else like how Im no longer used to student life how grad school is likely the hardest form of school Ive ever done etc add to that this problem with distracting floaters in my eyes that distract and annoy me    I really dont know how to deal here I am not confident in exposure therapy as I have had these floaters for a few years and really only learned to deal with them by changing my lifestyle such that I dont have to deal with them Its not a big issue and some junk in my eyes shouldnt be THAT much of a problem But just now I just glanced at my book for a few minutes and now Im dizzy with worry about it    What to do                                                                                                                                                                                                                                                                                                                                                                                                                                                                                                                                                                                                                                                                                                                                                                                                                                                                                                                                                                                                                                                                                                                                                                                                                                                                                                                                                                                                                                                                                                                                                                                                                                                                                                                                                               \n",
       "2     Use up whats left and throw the rest away I recently returned from 6 years working overseas    Unfortunately in the last few years my drinking and stimulant became worse and was detrimental to my mental and physical health    Im doing fine now as far as that is concerned Attended therapy clean and sober since November last year    When I came back I heard a few of my friends use the following phrase    well just use up whats left of him and then throw the rest away    Ive never heard this before Ive always been a people pleasing personality type and Im struggling hard to determine how to interpret it    Maybe I just dont want to face facts that it means exactly what it says That by hanging around with these people I put myself in a weak position and they arent real friends at all    Any thoughts                                                                                                                                                                                                                                                                                                                                                                                                                                                                                                                                                                                                                                                                                                                                                                                                                                                                                                                                                                                                                                                                                                                                                                                                                                                                                                                                                                                                                                                                                                                                                                                                                                                                                                                                                                                                                                                                                                                                                                                                                                                               \n",
       "3     My brain is driving me crazy Im a perfectionist and think everyone hates me all the time I literally always worried Ive done something wrong     Im at my first big professional conference in a major us city I barely slept last night because of a backache and nerves That and the jet lag is impairing  my functioning and I have blotchy skin and my dress is riding up on my legs and Ive had to pull it down All I had to do today was register for the conference but I was confused at every step and feel that everyone thinks Im stupid or hungover or unprofessional or something Im walking around this city I do not know oblivious and feel embarrassed and stupid My anxiety is killing me and men keep hitting on me I havent been away from my husband since we moved in together and I feel so dumb and small     Im so scared for my presentation tomorrow Can someone either console me or kindly put me out of my misery                                                                                                                                                                                                                                                                                                                                                                                                                                                                                                                                                                                                                                                                                                                                                                                                                                                                                                                                                                                                                                                                                                                                                                                                                                                                                                                                                                                                                                                                                                                                                                                                                                                                                                                                                                                                                                                                                                                                                      \n",
       "4     Does anyone else feel like the worst person ever if they annoy a friend Hey Reddit Basically I have mild anxiety But something that really messes with my head is when I have a fall out or get a blunt text from a friend to say I annoyed them when I did something My first response is always Im sorry and trying not to say it a million times over but my mind then goes through this turmoil where I have all these esteem lowering thoughts along the lines of theyll hate me forever now or Im such a horrible person as well as being filled with guilt for upsetting the person  It always turns out that whatever I did wrong only annoyed them for a short period of time and before I knew it life is back to normal I just wish I could control the horrible negative wave that comes over me                                                                                                                                                                                                                                                                                                                                                                                                                                                                                                                                                                                                                                                                                                                                                                                                                                                                                                                                                                                                                                                                                                                                                                                                                                                                                                                                                                                                                                                                                                                                                                                                                                                                                                                                                                                                                                                                                                                                                                                                                                                                                         \n",
       "...                                                                                                                                                                                                                                                                                                                                                                                                                                                                                                                                                                                                                                                                                                                                                                                                            ...                                                                                                                                                                                                                                                                                                                                                                                                                                                                                                                                                                                                                                                                                                                                                                                                                                                                                                                                                                                                                                                                                                                                                                                                                                                                                                                                                                                                                                                                                                                                                                                                                                                                                                                                                                                                                                                                                                                                                                                                                                                                                         \n",
       "8325  alone useless and horribly guilty reaching out here because i have nothing else no friends or family or anything no money or hobbies or interests or a career or a future not healthy in body or in the mind ive been trying harder than i have ever tried and cant do it                                                                                                                                                                                                                                                                                                                                                                                                                                                                                                                                                                                                                                                                                                                                                                                                                                                                                                                                                                                                                                                                                                                                                                                                                                                                                                                                                                                                                                                                                                                                                                                                                                                                                                                                                                                                                                                                                                                                                                                                                                                                                                                                                                                                                                                                                                                                                                                                                                                                                                                                                                                                                            \n",
       "8326  Am I not understandingseeing something This is not a cry for help this is not me asking for prayers and sympathy Id like this to be more of an intellectual discussion    What Im about to say is coming from a point of view that Im aware may be negative and skewed due to eventsobservations that conditioned my subconscious to think this way     Anyway I genuinely just dont see the point of this life To me it seems very high painlowmediocre reward     In just about every situation there are 4 things that usually happen with experiences you have goals you have and just life in general that I have a problem with That being    1 The necessary hardshipslessons you endure in life    2 The reward you get out of it    3 Was the reward even worth it    4 Why any of it at all    Number 4 falls into more if a philosophical discussion but still contributes to why I have suicidal thoughts I think the 4 above points apply to literally everything but Ill throw out a couple of examples in the format of those points to help illustrate my issue    1 A young kid gets hisher heart crushed in high school by a girlboy maybe more than once    2 Kid gains a new understanding of what love really is or at least what it isnt and maybe gains a better idea of what they want in a partner    3 This may happen a few more times into adulthood but theyre finally at a point where they may have found someone they choose to settle with Cool but of course no matter what issues still occur and recurr with any relationship    4 Why any of this at all    A different example    1 Guy grows up in poverty    2 All of those years in poverty gave him this crazy drive to make tons of money and live a life he never had    3 He finally has a big house nice car and things hes always wanted And in my mind Im like   Ok I just went through absolute hell to have these things what now Which leads me to number 4    4 Why any if that at all      The way I break down these experiences in my little 14 format may be flawed 3 and 4 to me are related and can overlap but anyway    4 is the main one for me its just kind of the classic   why are we even here question Ok so you learn these lessons in life and eventually find happiness Ok for what Like ultimately what are we even doing here Are we here just to experience things in these little fleshy suits we have on Why How does what we experience in our lives here tie into any signifigance into anything at all    So the combination of the sometimes unbearable pain it takes to finally experience happiness and not seeing the point of any of it in the first place makes me not want to live anymore    Im not the best at writingtyping Im also not the best at explaining things but I tried my best to get this off my chest Thanks to any that took the time to read  \n",
       "8327  Just a bad day So today has been a stressful day almost couldnt pay rent found out my mother has tumors in her lungs and they might be cancerous my significant other got extremely pissed off at me because I forgot today was our anniversary because of the other stuff that piled on ended up breaking my phone and now being constantly told by my other half that life would be better without me in it since all I do is make them miserable I just want to end it all but because I have kids I dont want them to live with it I am just at a loss    Edit forgot to add my spouse thinks I am cheating on them while I am just crying                                                                                                                                                                                                                                                                                                                                                                                                                                                                                                                                                                                                                                                                                                                                                                                                                                                                                                                                                                                                                                                                                                                                                                                                                                                                                                                                                                                                                                                                                                                                                                                                                                                                                                                                                                                                                                                                                                                                                                                                                                                                                                                                                                                                                                                       \n",
       "8328  When Im dead maybe the suffering will all come to an end Sorry for poor grammar I have a plan this plan is to hang myself in my wooded area of my property I dont feel safe not even at my school my parents locked all of the knives away and that doesnt matter I found a new way glass It cuts much deeper and I bleed more                   For more background information I live with my parents and two other siblings Im the youngest and am a freshmen in school I have been sad since 6th grade and suicidal since 7th grade Ive tried taking my life once by suffocation with an extension cord and I lived Ever since my depression and suicidal thoughts have gotten worse I now know how to kill myself and will do before Christmas I havent set a date but the next day when I get too low my parents and siblings wont see me When they go searching in the woods all theyll see is my body hanging from a tree Im sorry Im too late to fix and Im sorry                                                                                                                                                                                                                                                                                                                                                                                                                                                                                                                                                                                                                                                                                                                                                                                                                                                                                                                                                                                                                                                                                                                                                                                                                                                                                                                                                                                                                                                                                                                                                                                                                                                                                                                                                                                                                                                                                                                           \n",
       "8329  Fuck Ive been wanting to kill myself for about 20 years now  Everything I do just makes me think about it more no matter how much I might be lying to myself about enjoying the moment  I trust no one when it comes to this as basically everyone Ive ever opened up to about this has just called the police and the night ends w me naked in solitary confinement  My plan has been for the last couple years to wait for my parents to die so they dont have to deal with it but Im leaning closer and closer to saying fuck it to that  I have a sister but she has a family and they would be essentially unaffected by my absence Im willing to hire someone to kill me at this point because Im pretty sure Im just too cowardly a piece of shit to do it myself                                                                                                                                                                                                                                                                                                                                                                                                                                                                                                                                                                                                                                                                                                                                                                                                                                                                                                                                                                                                                                                                                                                                                                                                                                                                                                                                                                                                                                                                                                                                                                                                                                                                                                                                                                                                                                                                                                                                                                                                                                                                                                                             \n",
       "\n",
       "[8315 rows x 3 columns]"
      ]
     },
     "metadata": {},
     "output_type": "display_data"
    }
   ],
   "source": [
    "#to remove non-ascii characters, using str.encode with errors='ignore':\n",
    "data['clean_text'] = data['clean_text'].str.encode('ascii', 'ignore').str.decode('ascii')\n",
    "display(data)"
   ]
  },
  {
   "cell_type": "code",
   "execution_count": 22,
   "id": "9e320a4a",
   "metadata": {},
   "outputs": [],
   "source": [
    "#Emoji removal\n",
    "import cleantext\n",
    "#pip install clean-text"
   ]
  },
  {
   "cell_type": "code",
   "execution_count": 23,
   "id": "c7d9e335",
   "metadata": {},
   "outputs": [
    {
     "data": {
      "text/plain": [
       "'0 does anyone else get anxious with working im scared that im going to have to do repairs that cost of money\\n1 help with anxietyinducing fears about school caused by a health issue im 35 and planning to go back to grad school but over the years i developed some eye floaters that i can mostly ignore they are just out of my visible sight range when reading small books like novels but i started studying for the gre with a big textbook and realized how obvious these floaters were now and theyve left me with anxiety about how im going to cope with school if on top of everything else like how im no longer used to student life how grad school is likely the hardest form of school ive ever done etc add to that this problem with distracting floaters in my eyes that distract and annoy me i really dont know how to deal here i am not confident in exposure therapy as i have had these floaters for a few years and really only learned to deal with them by changing my lifestyle such that i dont have to deal with them its not a big issue and some junk in my eyes shouldnt be that much of a problem but just now i just glanced at my book for a few minutes and now im dizzy with worry about it what to do\\n2 use up whats left and throw the rest away i recently returned from 6 years working overseas unfortunately in the last few years my drinking and stimulant became worse and was detrimental to my mental and physical health im doing fine now as far as that is concerned attended therapy clean and sober since november last year when i came back i heard a few of my friends use the following phrase well just use up whats left of him and then throw the rest away ive never heard this before ive always been a people pleasing personality type and im struggling hard to determine how to interpret it maybe i just dont want to face facts that it means exactly what it says that by hanging around with these people i put myself in a weak position and they arent real friends at all any thoughts\\n3 my brain is driving me crazy im a perfectionist and think everyone hates me all the time i literally always worried ive done something wrong im at my first big professional conference in a major us city i barely slept last night because of a backache and nerves that and the jet lag is impairing my functioning and i have blotchy skin and my dress is riding up on my legs and ive had to pull it down all i had to do today was register for the conference but i was confused at every step and feel that everyone thinks im stupid or hungover or unprofessional or something im walking around this city i do not know oblivious and feel embarrassed and stupid my anxiety is killing me and men keep hitting on me i havent been away from my husband since we moved in together and i feel so dumb and small im so scared for my presentation tomorrow can someone either console me or kindly put me out of my misery\\n4 does anyone else feel like the worst person ever if they annoy a friend hey reddit basically i have mild anxiety but something that really messes with my head is when i have a fall out or get a blunt text from a friend to say i annoyed them when i did something my first response is always im sorry and trying not to say it a million times over but my mind then goes through this turmoil where i have all these esteem lowering thoughts along the lines of theyll hate me forever now or im such a horrible person as well as being filled with guilt for upsetting the person it always turns out that whatever i did wrong only annoyed them for a short period of time and before i knew it life is back to normal i just wish i could control the horrible negative wave that comes over me\\n...\\n8325 alone useless and horribly guilty reaching out here because i have nothing else no friends or family or anything no money or hobbies or interests or a career or a future not healthy in body or in the mind ive been trying harder than i have ever tried and cant do it\\n8326 am i not understandingseeing something this is not a cry for help this is not me asking for prayers and sympathy id like this to be more of an intellectual discussion what im about to say is coming from a point of view that im aware may be negative and skewed due to eventsobservations that conditioned my subconscious to think this way anyway i genuinely just dont see the point of this life to me it seems very high painlowmediocre reward in just about every situation there are 4 things that usually happen with experiences you have goals you have and just life in general that i have a problem with that being 1 the necessary hardshipslessons you endure in life 2 the reward you get out of it 3 was the reward even worth it 4 why any of it at all number 4 falls into more if a philosophical discussion but still contributes to why i have suicidal thoughts i think the 4 above points apply to literally everything but ill throw out a couple of examples in the format of those points to help illustrate my issue 1 a young kid gets hisher heart crushed in high school by a girlboy maybe more than once 2 kid gains a new understanding of what love really is or at least what it isnt and maybe gains a better idea of what they want in a partner 3 this may happen a few more times into adulthood but theyre finally at a point where they may have found someone they choose to settle with cool but of course no matter what issues still occur and recurr with any relationship 4 why any of this at all a different example 1 guy grows up in poverty 2 all of those years in poverty gave him this crazy drive to make tons of money and live a life he never had 3 he finally has a big house nice car and things hes always wanted and in my mind im like ok i just went through absolute hell to have these things what now which leads me to number 4 4 why any if that at all the way i break down these experiences in my little 14 format may be flawed 3 and 4 to me are related and can overlap but anyway 4 is the main one for me its just kind of the classic why are we even here question ok so you learn these lessons in life and eventually find happiness ok for what like ultimately what are we even doing here are we here just to experience things in these little fleshy suits we have on why how does what we experience in our lives here tie into any signifigance into anything at all so the combination of the sometimes unbearable pain it takes to finally experience happiness and not seeing the point of any of it in the first place makes me not want to live anymore im not the best at writingtyping im also not the best at explaining things but i tried my best to get this off my chest thanks to any that took the time to read\\n8327 just a bad day so today has been a stressful day almost couldnt pay rent found out my mother has tumors in her lungs and they might be cancerous my significant other got extremely pissed off at me because i forgot today was our anniversary because of the other stuff that piled on ended up breaking my phone and now being constantly told by my other half that life would be better without me in it since all i do is make them miserable i just want to end it all but because i have kids i dont want them to live with it i am just at a loss edit forgot to add my spouse thinks i am cheating on them while i am just crying\\n8328 when im dead maybe the suffering will all come to an end sorry for poor grammar i have a plan this plan is to hang myself in my wooded area of my property i dont feel safe not even at my school my parents locked all of the knives away and that doesnt matter i found a new way glass it cuts much deeper and i bleed more for more background information i live with my parents and two other siblings im the youngest and am a freshmen in school i have been sad since 6th grade and suicidal since 7th grade ive tried taking my life once by suffocation with an extension cord and i lived ever since my depression and suicidal thoughts have gotten worse i now know how to kill myself and will do before christmas i havent set a date but the next day when i get too low my parents and siblings wont see me when they go searching in the woods all theyll see is my body hanging from a tree im sorry im too late to fix and im sorry\\n8329 fuck ive been wanting to kill myself for about 20 years now everything i do just makes me think about it more no matter how much i might be lying to myself about enjoying the moment i trust no one when it comes to this as basically everyone ive ever opened up to about this has just called the police and the night ends w me naked in solitary confinement my plan has been for the last couple years to wait for my parents to die so they dont have to deal with it but im leaning closer and closer to saying fuck it to that i have a sister but she has a family and they would be essentially unaffected by my absence im willing to hire someone to kill me at this point because im pretty sure im just too cowardly a piece of shit to do it myself\\nname: clean_text, length: 8315, dtype: object'"
      ]
     },
     "execution_count": 23,
     "metadata": {},
     "output_type": "execute_result"
    }
   ],
   "source": [
    "#clean is the function provided by the cleantext library.\n",
    "from cleantext import clean\n",
    "clean(data['clean_text'], no_emoji=True)\n",
    "#display(data)"
   ]
  },
  {
   "cell_type": "code",
   "execution_count": 24,
   "id": "f09b5c45",
   "metadata": {},
   "outputs": [
    {
     "data": {
      "text/html": [
       "<div>\n",
       "<style scoped>\n",
       "    .dataframe tbody tr th:only-of-type {\n",
       "        vertical-align: middle;\n",
       "    }\n",
       "\n",
       "    .dataframe tbody tr th {\n",
       "        vertical-align: top;\n",
       "    }\n",
       "\n",
       "    .dataframe thead th {\n",
       "        text-align: right;\n",
       "    }\n",
       "</style>\n",
       "<table border=\"1\" class=\"dataframe\">\n",
       "  <thead>\n",
       "    <tr style=\"text-align: right;\">\n",
       "      <th></th>\n",
       "      <th>post</th>\n",
       "      <th>topics</th>\n",
       "      <th>clean_text</th>\n",
       "    </tr>\n",
       "  </thead>\n",
       "  <tbody>\n",
       "    <tr>\n",
       "      <th>0</th>\n",
       "      <td>Does anyone else get anxious with working? im scared that im going to have to do repairs that cost of money.</td>\n",
       "      <td>anxiety</td>\n",
       "      <td>does anyone else get anxious with working im scared that im going to have to do repairs that cost of money</td>\n",
       "    </tr>\n",
       "    <tr>\n",
       "      <th>1</th>\n",
       "      <td>Help with anxiety-inducing fears about school caused by a health issue I'm 35 and planning to go back to grad school, but over the years I developed some eye floaters that I can mostly ignore. They are just out of my visible sight range when reading small books like novels, but I started studying for the GRE with a big textbook and realized how obvious these floaters were now, and they've left me with anxiety about how I'm going to cope with school if, on top of everything else like how I'm no longer used to student life, how grad school is likely the hardest form of school I've ever done etc, add to that this problem with distracting floaters in my eyes that distract and annoy me.\\n\\nI really don't know how to deal here. I am not confident in exposure therapy as I have had these floaters for a few years and really only learned to deal with them by changing my lifestyle such that I don't have to deal with them. It's not a big issue, and some junk in my eyes shouldn't be THAT much of a problem. But just now I just glanced at my book for a few minutes and now I'm dizzy with worry about it.\\n\\nWhat to do?</td>\n",
       "      <td>anxiety</td>\n",
       "      <td>help with anxietyinducing fears about school caused by a health issue im 35 and planning to go back to grad school but over the years i developed some eye floaters that i can mostly ignore they are just out of my visible sight range when reading small books like novels but i started studying for the gre with a big textbook and realized how obvious these floaters were now and theyve left me with anxiety about how im going to cope with school if on top of everything else like how im no longer used to student life how grad school is likely the hardest form of school ive ever done etc add to that this problem with distracting floaters in my eyes that distract and annoy me    i really dont know how to deal here i am not confident in exposure therapy as i have had these floaters for a few years and really only learned to deal with them by changing my lifestyle such that i dont have to deal with them its not a big issue and some junk in my eyes shouldnt be that much of a problem but just now i just glanced at my book for a few minutes and now im dizzy with worry about it    what to do</td>\n",
       "    </tr>\n",
       "    <tr>\n",
       "      <th>2</th>\n",
       "      <td>Use up what's left and throw the rest away I recently returned from 6 years working overseas.\\n\\nUnfortunately in the last few years my drinking and stimulant became worse and was detrimental to my mental and physical health.\\n\\nI'm doing fine now as far as that is concerned. Attended therapy, clean and sober since November last year.\\n\\nWhen I came back I heard a few of my \"friends\" use the following phrase,\\n\\n\"we'll just use up what's left of him and then throw the rest away\"\\n\\nI've never heard this before. I've always been a people pleasing personality type and I'm struggling hard to determine how to interpret it.\\n\\nMaybe I just don't want to face facts that it means exactly what it says... That by hanging around with these people I put myself in a weak position and they aren't real friends at all.\\n\\nAny thoughts?</td>\n",
       "      <td>anxiety</td>\n",
       "      <td>use up whats left and throw the rest away i recently returned from 6 years working overseas    unfortunately in the last few years my drinking and stimulant became worse and was detrimental to my mental and physical health    im doing fine now as far as that is concerned attended therapy clean and sober since november last year    when i came back i heard a few of my friends use the following phrase    well just use up whats left of him and then throw the rest away    ive never heard this before ive always been a people pleasing personality type and im struggling hard to determine how to interpret it    maybe i just dont want to face facts that it means exactly what it says that by hanging around with these people i put myself in a weak position and they arent real friends at all    any thoughts</td>\n",
       "    </tr>\n",
       "    <tr>\n",
       "      <th>3</th>\n",
       "      <td>My brain is driving me crazy! Im a perfectionist and think everyone hates me all the time. I literally always worried Ive done something wrong. \\n\\nIm at my first big professional conference in a major us city. I barely slept last night because of a backache and nerves. That and the jet lag is impairing  my functioning and I have blotchy skin and my dress is riding up on my legs and Ive had to pull it down. All I had to do today was register for the conference, but I was confused at every step and feel that everyone thinks Im stupid or hungover or unprofessional or something. Im walking around this city I do not know oblivious and feel embarrassed and stupid. My anxiety is killing me and men keep hitting on me. I havent been away from my husband since we moved in together and I feel so dumb and small. \\n\\nIm so scared for my presentation tomorrow. Can someone either console me or kindly put me out of my misery?</td>\n",
       "      <td>anxiety</td>\n",
       "      <td>my brain is driving me crazy im a perfectionist and think everyone hates me all the time i literally always worried ive done something wrong     im at my first big professional conference in a major us city i barely slept last night because of a backache and nerves that and the jet lag is impairing  my functioning and i have blotchy skin and my dress is riding up on my legs and ive had to pull it down all i had to do today was register for the conference but i was confused at every step and feel that everyone thinks im stupid or hungover or unprofessional or something im walking around this city i do not know oblivious and feel embarrassed and stupid my anxiety is killing me and men keep hitting on me i havent been away from my husband since we moved in together and i feel so dumb and small     im so scared for my presentation tomorrow can someone either console me or kindly put me out of my misery</td>\n",
       "    </tr>\n",
       "    <tr>\n",
       "      <th>4</th>\n",
       "      <td>Does anyone else feel like the worst person ever if they annoy a friend? Hey Reddit. Basically, I have mild anxiety. But something that really messes with my head is when I have a fall out or get a blunt text from a friend to say I annoyed them when I did something. My first response is always I'm sorry (and trying not to say it a million times over) but my mind then goes through this turmoil where I have all these esteem lowering thoughts along the lines of, they'll hate me forever now, or I'm such a horrible person, as well as being filled with guilt for upsetting the person.\\nIt always turns out that whatever I did wrong only annoyed them for a short period of time and before I knew it life is back to normal, I just wish I could control the horrible negative wave that comes over me</td>\n",
       "      <td>anxiety</td>\n",
       "      <td>does anyone else feel like the worst person ever if they annoy a friend hey reddit basically i have mild anxiety but something that really messes with my head is when i have a fall out or get a blunt text from a friend to say i annoyed them when i did something my first response is always im sorry and trying not to say it a million times over but my mind then goes through this turmoil where i have all these esteem lowering thoughts along the lines of theyll hate me forever now or im such a horrible person as well as being filled with guilt for upsetting the person  it always turns out that whatever i did wrong only annoyed them for a short period of time and before i knew it life is back to normal i just wish i could control the horrible negative wave that comes over me</td>\n",
       "    </tr>\n",
       "    <tr>\n",
       "      <th>...</th>\n",
       "      <td>...</td>\n",
       "      <td>...</td>\n",
       "      <td>...</td>\n",
       "    </tr>\n",
       "    <tr>\n",
       "      <th>8325</th>\n",
       "      <td>alone, useless and horribly guilty reaching out here because i have nothing else. no friends or family or anything. no money or hobbies or interests or a career or a future. not healthy in body or in the mind. i've been trying harder than i have ever tried and can't do it.</td>\n",
       "      <td>suicidewatch</td>\n",
       "      <td>alone useless and horribly guilty reaching out here because i have nothing else no friends or family or anything no money or hobbies or interests or a career or a future not healthy in body or in the mind ive been trying harder than i have ever tried and cant do it</td>\n",
       "    </tr>\n",
       "    <tr>\n",
       "      <th>8326</th>\n",
       "      <td>Am I not understanding/seeing something? This is not a cry for help, this is not me asking for prayers and sympathy, Id like this to be more of an intellectual discussion.\\n\\nWhat Im about to say is coming from a point of view that Im aware may be negative and skewed due to events/observations that conditioned my subconscious to think this way. \\n\\nAnyway, I genuinely just dont see the point of this life. To me, it seems very high pain-low/mediocre reward. \\n\\nIn just about every situation, there are 4 things that usually happen with experiences you have, goals you have and just life in general that I have a problem with. That being:\\n\\n1) The necessary hard-ships/lessons you endure in life.\\n\\n2) The reward you get out of it.\\n\\n3) Was the reward even worth it?\\n\\n4) Why any of it at all?\\n\\nNumber 4 falls into more if a philosophical discussion, but still contributes to why I have suicidal thoughts. I think the 4 above points apply to literally everything, but Ill throw out a couple of examples in the format of those points to help illustrate my issue.\\n\\n1) A young kid gets his/her heart crushed in high school by a girl/boy. (maybe more than once)\\n\\n2) Kid gains a new understanding of what love really is, or at least what it isnt and maybe gains a better idea of what they want in a partner.\\n\\n3) This may happen a few more times into adulthood, but theyÃ¢â¬â¢re finally at a point where they may have found someone they choose to settle with. Cool, but of course no matter what, issues still occur, and recurr with any relationship.\\n\\n4) Why any of this at all?\\n\\nA different example:\\n\\n1) Guy grows up in poverty\\n\\n2) All of those years in poverty gave him this crazy drive to make tons of money and live a life he never had.\\n\\n3) He finally has a big house, nice car, and things hes always wanted. And in my mind, Im like Ã¢â¬ÅOk.. I just went through absolute hell to have these things.. what now?Ã¢â¬Â. Which leads me to number 4..\\n\\n4) Why any if that at all?\\n\\n\\nThe way I break down these experiences in my little 1-4 format may be flawed, 3 and 4 to me are related and can overlap, but anyway..\\n\\n4 is the main one for me, its just kind of the classic Ã¢â¬Åwhy are we even here?Ã¢â¬Â question. Ok so you learn these lessons in life and eventually find happiness. Ok, for what? Like ultimately what are we even doing here? Are we here just to experience things in these little fleshy suits we have on? Why? How does what we experience in our lives here tie into any signifigance into anything at all?\\n\\nSo the combination of the sometimes unbearable pain it takes to finally experience happiness, and not seeing the point of any of it in the first place, makes me not want to live anymore.\\n\\nIm not the best at writing/typing, Im also not the best at explaining things, but I tried my best to get this off my chest. Thanks to any that took the time to read.</td>\n",
       "      <td>suicidewatch</td>\n",
       "      <td>am i not understandingseeing something this is not a cry for help this is not me asking for prayers and sympathy id like this to be more of an intellectual discussion    what im about to say is coming from a point of view that im aware may be negative and skewed due to eventsobservations that conditioned my subconscious to think this way     anyway i genuinely just dont see the point of this life to me it seems very high painlowmediocre reward     in just about every situation there are 4 things that usually happen with experiences you have goals you have and just life in general that i have a problem with that being    1 the necessary hardshipslessons you endure in life    2 the reward you get out of it    3 was the reward even worth it    4 why any of it at all    number 4 falls into more if a philosophical discussion but still contributes to why i have suicidal thoughts i think the 4 above points apply to literally everything but ill throw out a couple of examples in the format of those points to help illustrate my issue    1 a young kid gets hisher heart crushed in high school by a girlboy maybe more than once    2 kid gains a new understanding of what love really is or at least what it isnt and maybe gains a better idea of what they want in a partner    3 this may happen a few more times into adulthood but theyre finally at a point where they may have found someone they choose to settle with cool but of course no matter what issues still occur and recurr with any relationship    4 why any of this at all    a different example    1 guy grows up in poverty    2 all of those years in poverty gave him this crazy drive to make tons of money and live a life he never had    3 he finally has a big house nice car and things hes always wanted and in my mind im like   ok i just went through absolute hell to have these things what now which leads me to number 4    4 why any if that at all      the way i break down these experiences in my little 14 format may be flawed 3 and 4 to me are related and can overlap but anyway    4 is the main one for me its just kind of the classic   why are we even here question ok so you learn these lessons in life and eventually find happiness ok for what like ultimately what are we even doing here are we here just to experience things in these little fleshy suits we have on why how does what we experience in our lives here tie into any signifigance into anything at all    so the combination of the sometimes unbearable pain it takes to finally experience happiness and not seeing the point of any of it in the first place makes me not want to live anymore    im not the best at writingtyping im also not the best at explaining things but i tried my best to get this off my chest thanks to any that took the time to read</td>\n",
       "    </tr>\n",
       "    <tr>\n",
       "      <th>8327</th>\n",
       "      <td>Just a bad day So today has been a stressful day, almost couldn't pay rent, found out my mother has tumors in her lungs and they might be cancerous, my significant other got extremely pissed off at me because I forgot today was our anniversary because of the other stuff that piled on, ended up breaking my phone and now being constantly told by my other half that life would be better without me in it since all I do is make them miserable. I just want to end it all but because I have kids I don't want them to live with it. I am just at a loss.\\n\\nEdit: forgot to add my spouse thinks I am cheating on them while I am just crying.</td>\n",
       "      <td>suicidewatch</td>\n",
       "      <td>just a bad day so today has been a stressful day almost couldnt pay rent found out my mother has tumors in her lungs and they might be cancerous my significant other got extremely pissed off at me because i forgot today was our anniversary because of the other stuff that piled on ended up breaking my phone and now being constantly told by my other half that life would be better without me in it since all i do is make them miserable i just want to end it all but because i have kids i dont want them to live with it i am just at a loss    edit forgot to add my spouse thinks i am cheating on them while i am just crying</td>\n",
       "    </tr>\n",
       "    <tr>\n",
       "      <th>8328</th>\n",
       "      <td>When Im dead maybe the suffering will all come to an end. Sorry for poor grammar. I have a plan this plan is to hang myself in my wooded area of my property. I dont feel safe not even at my school, my parents locked all of the knives away and that doesnt matter. I found a new way glass. It cuts much deeper and I bleed more. \\n      \\n        For more background information I live with my parents and two other siblings Im the youngest and am a freshmen in school. I have been sad since 6th grade and suicidal since 7th grade. Ive tried taking my life once by suffocation with an extension cord and I lived. Ever since my depression and suicidal thoughts have gotten worse. I now know how to kill myself and will do before Christmas. I havent set a date but the next day when I get too low my parents and siblings wont see me. When they go searching in the woods all theyÃ¢â¬â¢ll see is my body hanging from a tree. Im sorry Im too late to fix and Im sorry.</td>\n",
       "      <td>suicidewatch</td>\n",
       "      <td>when im dead maybe the suffering will all come to an end sorry for poor grammar i have a plan this plan is to hang myself in my wooded area of my property i dont feel safe not even at my school my parents locked all of the knives away and that doesnt matter i found a new way glass it cuts much deeper and i bleed more                   for more background information i live with my parents and two other siblings im the youngest and am a freshmen in school i have been sad since 6th grade and suicidal since 7th grade ive tried taking my life once by suffocation with an extension cord and i lived ever since my depression and suicidal thoughts have gotten worse i now know how to kill myself and will do before christmas i havent set a date but the next day when i get too low my parents and siblings wont see me when they go searching in the woods all theyll see is my body hanging from a tree im sorry im too late to fix and im sorry</td>\n",
       "    </tr>\n",
       "    <tr>\n",
       "      <th>8329</th>\n",
       "      <td>Fuck I've been wanting to kill myself for about 20 years now.  Everything I do just makes me think about it more no matter how much I might be lying to myself about enjoying \"the moment\".  I trust no one when it comes to this as basically everyone I've ever opened up to about this has just called the police and the night ends w me naked in solitary confinement.  My plan has been for the last couple years to wait for my parents to die so they don't have to deal with it but I'm leaning closer and closer to saying fuck it to that.  I have a sister but she has a family and they would be essentially unaffected by my absence. I'm willing to hire someone to kill me at this point because I'm pretty sure I'm just too cowardly a piece of shit to do it myself.</td>\n",
       "      <td>suicidewatch</td>\n",
       "      <td>fuck ive been wanting to kill myself for about 20 years now  everything i do just makes me think about it more no matter how much i might be lying to myself about enjoying the moment  i trust no one when it comes to this as basically everyone ive ever opened up to about this has just called the police and the night ends w me naked in solitary confinement  my plan has been for the last couple years to wait for my parents to die so they dont have to deal with it but im leaning closer and closer to saying fuck it to that  i have a sister but she has a family and they would be essentially unaffected by my absence im willing to hire someone to kill me at this point because im pretty sure im just too cowardly a piece of shit to do it myself</td>\n",
       "    </tr>\n",
       "  </tbody>\n",
       "</table>\n",
       "<p>8315 rows × 3 columns</p>\n",
       "</div>"
      ],
      "text/plain": [
       "                                                                                                                                                                                                                                                                                                                                                                                                                                                                                                                                                                                                                                                                                                                                                                                                                                                                                                                                                                                                                                                                                                                                                                                                                                                                                                                                                                                                                                                                                                                                                                                                                                                                                                                                                                                                                                                                                                                                                                                                                                                                                                                                                                                                                                                                                                                                                                                                                                                                                                                                                                                                                                                                                                                                                                                                                                                                                                                                                                                                                                post  \\\n",
       "0     Does anyone else get anxious with working? im scared that im going to have to do repairs that cost of money.                                                                                                                                                                                                                                                                                                                                                                                                                                                                                                                                                                                                                                                                                                                                                                                                                                                                                                                                                                                                                                                                                                                                                                                                                                                                                                                                                                                                                                                                                                                                                                                                                                                                                                                                                                                                                                                                                                                                                                                                                                                                                                                                                                                                                                                                                                                                                                                                                                                                                                                                                                                                                                                                                                                                                                                                                                                                                                                     \n",
       "1     Help with anxiety-inducing fears about school caused by a health issue I'm 35 and planning to go back to grad school, but over the years I developed some eye floaters that I can mostly ignore. They are just out of my visible sight range when reading small books like novels, but I started studying for the GRE with a big textbook and realized how obvious these floaters were now, and they've left me with anxiety about how I'm going to cope with school if, on top of everything else like how I'm no longer used to student life, how grad school is likely the hardest form of school I've ever done etc, add to that this problem with distracting floaters in my eyes that distract and annoy me.\\n\\nI really don't know how to deal here. I am not confident in exposure therapy as I have had these floaters for a few years and really only learned to deal with them by changing my lifestyle such that I don't have to deal with them. It's not a big issue, and some junk in my eyes shouldn't be THAT much of a problem. But just now I just glanced at my book for a few minutes and now I'm dizzy with worry about it.\\n\\nWhat to do?                                                                                                                                                                                                                                                                                                                                                                                                                                                                                                                                                                                                                                                                                                                                                                                                                                                                                                                                                                                                                                                                                                                                                                                                                                                                                                                                                                                                                                                                                                                                                                                                                                                                                                                                                                                                                                                                  \n",
       "2     Use up what's left and throw the rest away I recently returned from 6 years working overseas.\\n\\nUnfortunately in the last few years my drinking and stimulant became worse and was detrimental to my mental and physical health.\\n\\nI'm doing fine now as far as that is concerned. Attended therapy, clean and sober since November last year.\\n\\nWhen I came back I heard a few of my \"friends\" use the following phrase,\\n\\n\"we'll just use up what's left of him and then throw the rest away\"\\n\\nI've never heard this before. I've always been a people pleasing personality type and I'm struggling hard to determine how to interpret it.\\n\\nMaybe I just don't want to face facts that it means exactly what it says... That by hanging around with these people I put myself in a weak position and they aren't real friends at all.\\n\\nAny thoughts?                                                                                                                                                                                                                                                                                                                                                                                                                                                                                                                                                                                                                                                                                                                                                                                                                                                                                                                                                                                                                                                                                                                                                                                                                                                                                                                                                                                                                                                                                                                                                                                                                                                                                                                                                                                                                                                                                                                                                                                                                                                                                                                                                                 \n",
       "3     My brain is driving me crazy! Im a perfectionist and think everyone hates me all the time. I literally always worried Ive done something wrong. \\n\\nIm at my first big professional conference in a major us city. I barely slept last night because of a backache and nerves. That and the jet lag is impairing  my functioning and I have blotchy skin and my dress is riding up on my legs and Ive had to pull it down. All I had to do today was register for the conference, but I was confused at every step and feel that everyone thinks Im stupid or hungover or unprofessional or something. Im walking around this city I do not know oblivious and feel embarrassed and stupid. My anxiety is killing me and men keep hitting on me. I havent been away from my husband since we moved in together and I feel so dumb and small. \\n\\nIm so scared for my presentation tomorrow. Can someone either console me or kindly put me out of my misery?                                                                                                                                                                                                                                                                                                                                                                                                                                                                                                                                                                                                                                                                                                                                                                                                                                                                                                                                                                                                                                                                                                                                                                                                                                                                                                                                                                                                                                                                                                                                                                                                                                                                                                                                                                                                                                                                                                                                                                                                                                                                     \n",
       "4     Does anyone else feel like the worst person ever if they annoy a friend? Hey Reddit. Basically, I have mild anxiety. But something that really messes with my head is when I have a fall out or get a blunt text from a friend to say I annoyed them when I did something. My first response is always I'm sorry (and trying not to say it a million times over) but my mind then goes through this turmoil where I have all these esteem lowering thoughts along the lines of, they'll hate me forever now, or I'm such a horrible person, as well as being filled with guilt for upsetting the person.\\nIt always turns out that whatever I did wrong only annoyed them for a short period of time and before I knew it life is back to normal, I just wish I could control the horrible negative wave that comes over me                                                                                                                                                                                                                                                                                                                                                                                                                                                                                                                                                                                                                                                                                                                                                                                                                                                                                                                                                                                                                                                                                                                                                                                                                                                                                                                                                                                                                                                                                                                                                                                                                                                                                                                                                                                                                                                                                                                                                                                                                                                                                                                                                                                                      \n",
       "...                                                                                                                                                                                                                                                                                                                                                                                                                                                                                                                                                                                                                                                                                                                                                                                                                           ...                                                                                                                                                                                                                                                                                                                                                                                                                                                                                                                                                                                                                                                                                                                                                                                                                                                                                                                                                                                                                                                                                                                                                                                                                                                                                                                                                                                                                                                                                                                                                                                                                                                                                                                                                                                                                                                                                                                                                                                                                                                                                                                                                                                                      \n",
       "8325  alone, useless and horribly guilty reaching out here because i have nothing else. no friends or family or anything. no money or hobbies or interests or a career or a future. not healthy in body or in the mind. i've been trying harder than i have ever tried and can't do it.                                                                                                                                                                                                                                                                                                                                                                                                                                                                                                                                                                                                                                                                                                                                                                                                                                                                                                                                                                                                                                                                                                                                                                                                                                                                                                                                                                                                                                                                                                                                                                                                                                                                                                                                                                                                                                                                                                                                                                                                                                                                                                                                                                                                                                                                                                                                                                                                                                                                                                                                                                                                                                                                                                                                                \n",
       "8326  Am I not understanding/seeing something? This is not a cry for help, this is not me asking for prayers and sympathy, Id like this to be more of an intellectual discussion.\\n\\nWhat Im about to say is coming from a point of view that Im aware may be negative and skewed due to events/observations that conditioned my subconscious to think this way. \\n\\nAnyway, I genuinely just dont see the point of this life. To me, it seems very high pain-low/mediocre reward. \\n\\nIn just about every situation, there are 4 things that usually happen with experiences you have, goals you have and just life in general that I have a problem with. That being:\\n\\n1) The necessary hard-ships/lessons you endure in life.\\n\\n2) The reward you get out of it.\\n\\n3) Was the reward even worth it?\\n\\n4) Why any of it at all?\\n\\nNumber 4 falls into more if a philosophical discussion, but still contributes to why I have suicidal thoughts. I think the 4 above points apply to literally everything, but Ill throw out a couple of examples in the format of those points to help illustrate my issue.\\n\\n1) A young kid gets his/her heart crushed in high school by a girl/boy. (maybe more than once)\\n\\n2) Kid gains a new understanding of what love really is, or at least what it isnt and maybe gains a better idea of what they want in a partner.\\n\\n3) This may happen a few more times into adulthood, but theyÃ¢â¬â¢re finally at a point where they may have found someone they choose to settle with. Cool, but of course no matter what, issues still occur, and recurr with any relationship.\\n\\n4) Why any of this at all?\\n\\nA different example:\\n\\n1) Guy grows up in poverty\\n\\n2) All of those years in poverty gave him this crazy drive to make tons of money and live a life he never had.\\n\\n3) He finally has a big house, nice car, and things hes always wanted. And in my mind, Im like Ã¢â¬ÅOk.. I just went through absolute hell to have these things.. what now?Ã¢â¬Â. Which leads me to number 4..\\n\\n4) Why any if that at all?\\n\\n\\nThe way I break down these experiences in my little 1-4 format may be flawed, 3 and 4 to me are related and can overlap, but anyway..\\n\\n4 is the main one for me, its just kind of the classic Ã¢â¬Åwhy are we even here?Ã¢â¬Â question. Ok so you learn these lessons in life and eventually find happiness. Ok, for what? Like ultimately what are we even doing here? Are we here just to experience things in these little fleshy suits we have on? Why? How does what we experience in our lives here tie into any signifigance into anything at all?\\n\\nSo the combination of the sometimes unbearable pain it takes to finally experience happiness, and not seeing the point of any of it in the first place, makes me not want to live anymore.\\n\\nIm not the best at writing/typing, Im also not the best at explaining things, but I tried my best to get this off my chest. Thanks to any that took the time to read.   \n",
       "8327  Just a bad day So today has been a stressful day, almost couldn't pay rent, found out my mother has tumors in her lungs and they might be cancerous, my significant other got extremely pissed off at me because I forgot today was our anniversary because of the other stuff that piled on, ended up breaking my phone and now being constantly told by my other half that life would be better without me in it since all I do is make them miserable. I just want to end it all but because I have kids I don't want them to live with it. I am just at a loss.\\n\\nEdit: forgot to add my spouse thinks I am cheating on them while I am just crying.                                                                                                                                                                                                                                                                                                                                                                                                                                                                                                                                                                                                                                                                                                                                                                                                                                                                                                                                                                                                                                                                                                                                                                                                                                                                                                                                                                                                                                                                                                                                                                                                                                                                                                                                                                                                                                                                                                                                                                                                                                                                                                                                                                                                                                                                                                                                                                        \n",
       "8328  When Im dead maybe the suffering will all come to an end. Sorry for poor grammar. I have a plan this plan is to hang myself in my wooded area of my property. I dont feel safe not even at my school, my parents locked all of the knives away and that doesnt matter. I found a new way glass. It cuts much deeper and I bleed more. \\n      \\n        For more background information I live with my parents and two other siblings Im the youngest and am a freshmen in school. I have been sad since 6th grade and suicidal since 7th grade. Ive tried taking my life once by suffocation with an extension cord and I lived. Ever since my depression and suicidal thoughts have gotten worse. I now know how to kill myself and will do before Christmas. I havent set a date but the next day when I get too low my parents and siblings wont see me. When they go searching in the woods all theyÃ¢â¬â¢ll see is my body hanging from a tree. Im sorry Im too late to fix and Im sorry.                                                                                                                                                                                                                                                                                                                                                                                                                                                                                                                                                                                                                                                                                                                                                                                                                                                                                                                                                                                                                                                                                                                                                                                                                                                                                                                                                                                                                                                                                                                                                                                                                                                                                                                                                                                                                                                                                                                                                                                                                                \n",
       "8329  Fuck I've been wanting to kill myself for about 20 years now.  Everything I do just makes me think about it more no matter how much I might be lying to myself about enjoying \"the moment\".  I trust no one when it comes to this as basically everyone I've ever opened up to about this has just called the police and the night ends w me naked in solitary confinement.  My plan has been for the last couple years to wait for my parents to die so they don't have to deal with it but I'm leaning closer and closer to saying fuck it to that.  I have a sister but she has a family and they would be essentially unaffected by my absence. I'm willing to hire someone to kill me at this point because I'm pretty sure I'm just too cowardly a piece of shit to do it myself.                                                                                                                                                                                                                                                                                                                                                                                                                                                                                                                                                                                                                                                                                                                                                                                                                                                                                                                                                                                                                                                                                                                                                                                                                                                                                                                                                                                                                                                                                                                                                                                                                                                                                                                                                                                                                                                                                                                                                                                                                                                                                                                                                                                                                                          \n",
       "\n",
       "            topics  \\\n",
       "0     anxiety        \n",
       "1     anxiety        \n",
       "2     anxiety        \n",
       "3     anxiety        \n",
       "4     anxiety        \n",
       "...       ...        \n",
       "8325  suicidewatch   \n",
       "8326  suicidewatch   \n",
       "8327  suicidewatch   \n",
       "8328  suicidewatch   \n",
       "8329  suicidewatch   \n",
       "\n",
       "                                                                                                                                                                                                                                                                                                                                                                                                                                                                                                                                                                                                                                                                                                                                                                                                                                                                                                                                                                                                                                                                                                                                                                                                                                                                                                                                                                                                                                                                                                                                                                                                                                                                                                                                                                                                                                                                                                                                                                                                                                                                                                                                                                                                                                                                                                                                                                                                                                                                                                                                                                                                                                                                                                                                                                                                                                                                                               clean_text  \n",
       "0     does anyone else get anxious with working im scared that im going to have to do repairs that cost of money                                                                                                                                                                                                                                                                                                                                                                                                                                                                                                                                                                                                                                                                                                                                                                                                                                                                                                                                                                                                                                                                                                                                                                                                                                                                                                                                                                                                                                                                                                                                                                                                                                                                                                                                                                                                                                                                                                                                                                                                                                                                                                                                                                                                                                                                                                                                                                                                                                                                                                                                                                                                                                                                                                                                                                                           \n",
       "1     help with anxietyinducing fears about school caused by a health issue im 35 and planning to go back to grad school but over the years i developed some eye floaters that i can mostly ignore they are just out of my visible sight range when reading small books like novels but i started studying for the gre with a big textbook and realized how obvious these floaters were now and theyve left me with anxiety about how im going to cope with school if on top of everything else like how im no longer used to student life how grad school is likely the hardest form of school ive ever done etc add to that this problem with distracting floaters in my eyes that distract and annoy me    i really dont know how to deal here i am not confident in exposure therapy as i have had these floaters for a few years and really only learned to deal with them by changing my lifestyle such that i dont have to deal with them its not a big issue and some junk in my eyes shouldnt be that much of a problem but just now i just glanced at my book for a few minutes and now im dizzy with worry about it    what to do                                                                                                                                                                                                                                                                                                                                                                                                                                                                                                                                                                                                                                                                                                                                                                                                                                                                                                                                                                                                                                                                                                                                                                                                                                                                                                                                                                                                                                                                                                                                                                                                                                                                                                                                                               \n",
       "2     use up whats left and throw the rest away i recently returned from 6 years working overseas    unfortunately in the last few years my drinking and stimulant became worse and was detrimental to my mental and physical health    im doing fine now as far as that is concerned attended therapy clean and sober since november last year    when i came back i heard a few of my friends use the following phrase    well just use up whats left of him and then throw the rest away    ive never heard this before ive always been a people pleasing personality type and im struggling hard to determine how to interpret it    maybe i just dont want to face facts that it means exactly what it says that by hanging around with these people i put myself in a weak position and they arent real friends at all    any thoughts                                                                                                                                                                                                                                                                                                                                                                                                                                                                                                                                                                                                                                                                                                                                                                                                                                                                                                                                                                                                                                                                                                                                                                                                                                                                                                                                                                                                                                                                                                                                                                                                                                                                                                                                                                                                                                                                                                                                                                                                                                                               \n",
       "3     my brain is driving me crazy im a perfectionist and think everyone hates me all the time i literally always worried ive done something wrong     im at my first big professional conference in a major us city i barely slept last night because of a backache and nerves that and the jet lag is impairing  my functioning and i have blotchy skin and my dress is riding up on my legs and ive had to pull it down all i had to do today was register for the conference but i was confused at every step and feel that everyone thinks im stupid or hungover or unprofessional or something im walking around this city i do not know oblivious and feel embarrassed and stupid my anxiety is killing me and men keep hitting on me i havent been away from my husband since we moved in together and i feel so dumb and small     im so scared for my presentation tomorrow can someone either console me or kindly put me out of my misery                                                                                                                                                                                                                                                                                                                                                                                                                                                                                                                                                                                                                                                                                                                                                                                                                                                                                                                                                                                                                                                                                                                                                                                                                                                                                                                                                                                                                                                                                                                                                                                                                                                                                                                                                                                                                                                                                                                                                      \n",
       "4     does anyone else feel like the worst person ever if they annoy a friend hey reddit basically i have mild anxiety but something that really messes with my head is when i have a fall out or get a blunt text from a friend to say i annoyed them when i did something my first response is always im sorry and trying not to say it a million times over but my mind then goes through this turmoil where i have all these esteem lowering thoughts along the lines of theyll hate me forever now or im such a horrible person as well as being filled with guilt for upsetting the person  it always turns out that whatever i did wrong only annoyed them for a short period of time and before i knew it life is back to normal i just wish i could control the horrible negative wave that comes over me                                                                                                                                                                                                                                                                                                                                                                                                                                                                                                                                                                                                                                                                                                                                                                                                                                                                                                                                                                                                                                                                                                                                                                                                                                                                                                                                                                                                                                                                                                                                                                                                                                                                                                                                                                                                                                                                                                                                                                                                                                                                                         \n",
       "...                                                                                                                                                                                                                                                                                                                                                                                                                                                                                                                                                                                                                                                                                                                                                                                                            ...                                                                                                                                                                                                                                                                                                                                                                                                                                                                                                                                                                                                                                                                                                                                                                                                                                                                                                                                                                                                                                                                                                                                                                                                                                                                                                                                                                                                                                                                                                                                                                                                                                                                                                                                                                                                                                                                                                                                                                                                                                                                                         \n",
       "8325  alone useless and horribly guilty reaching out here because i have nothing else no friends or family or anything no money or hobbies or interests or a career or a future not healthy in body or in the mind ive been trying harder than i have ever tried and cant do it                                                                                                                                                                                                                                                                                                                                                                                                                                                                                                                                                                                                                                                                                                                                                                                                                                                                                                                                                                                                                                                                                                                                                                                                                                                                                                                                                                                                                                                                                                                                                                                                                                                                                                                                                                                                                                                                                                                                                                                                                                                                                                                                                                                                                                                                                                                                                                                                                                                                                                                                                                                                                            \n",
       "8326  am i not understandingseeing something this is not a cry for help this is not me asking for prayers and sympathy id like this to be more of an intellectual discussion    what im about to say is coming from a point of view that im aware may be negative and skewed due to eventsobservations that conditioned my subconscious to think this way     anyway i genuinely just dont see the point of this life to me it seems very high painlowmediocre reward     in just about every situation there are 4 things that usually happen with experiences you have goals you have and just life in general that i have a problem with that being    1 the necessary hardshipslessons you endure in life    2 the reward you get out of it    3 was the reward even worth it    4 why any of it at all    number 4 falls into more if a philosophical discussion but still contributes to why i have suicidal thoughts i think the 4 above points apply to literally everything but ill throw out a couple of examples in the format of those points to help illustrate my issue    1 a young kid gets hisher heart crushed in high school by a girlboy maybe more than once    2 kid gains a new understanding of what love really is or at least what it isnt and maybe gains a better idea of what they want in a partner    3 this may happen a few more times into adulthood but theyre finally at a point where they may have found someone they choose to settle with cool but of course no matter what issues still occur and recurr with any relationship    4 why any of this at all    a different example    1 guy grows up in poverty    2 all of those years in poverty gave him this crazy drive to make tons of money and live a life he never had    3 he finally has a big house nice car and things hes always wanted and in my mind im like   ok i just went through absolute hell to have these things what now which leads me to number 4    4 why any if that at all      the way i break down these experiences in my little 14 format may be flawed 3 and 4 to me are related and can overlap but anyway    4 is the main one for me its just kind of the classic   why are we even here question ok so you learn these lessons in life and eventually find happiness ok for what like ultimately what are we even doing here are we here just to experience things in these little fleshy suits we have on why how does what we experience in our lives here tie into any signifigance into anything at all    so the combination of the sometimes unbearable pain it takes to finally experience happiness and not seeing the point of any of it in the first place makes me not want to live anymore    im not the best at writingtyping im also not the best at explaining things but i tried my best to get this off my chest thanks to any that took the time to read  \n",
       "8327  just a bad day so today has been a stressful day almost couldnt pay rent found out my mother has tumors in her lungs and they might be cancerous my significant other got extremely pissed off at me because i forgot today was our anniversary because of the other stuff that piled on ended up breaking my phone and now being constantly told by my other half that life would be better without me in it since all i do is make them miserable i just want to end it all but because i have kids i dont want them to live with it i am just at a loss    edit forgot to add my spouse thinks i am cheating on them while i am just crying                                                                                                                                                                                                                                                                                                                                                                                                                                                                                                                                                                                                                                                                                                                                                                                                                                                                                                                                                                                                                                                                                                                                                                                                                                                                                                                                                                                                                                                                                                                                                                                                                                                                                                                                                                                                                                                                                                                                                                                                                                                                                                                                                                                                                                                       \n",
       "8328  when im dead maybe the suffering will all come to an end sorry for poor grammar i have a plan this plan is to hang myself in my wooded area of my property i dont feel safe not even at my school my parents locked all of the knives away and that doesnt matter i found a new way glass it cuts much deeper and i bleed more                   for more background information i live with my parents and two other siblings im the youngest and am a freshmen in school i have been sad since 6th grade and suicidal since 7th grade ive tried taking my life once by suffocation with an extension cord and i lived ever since my depression and suicidal thoughts have gotten worse i now know how to kill myself and will do before christmas i havent set a date but the next day when i get too low my parents and siblings wont see me when they go searching in the woods all theyll see is my body hanging from a tree im sorry im too late to fix and im sorry                                                                                                                                                                                                                                                                                                                                                                                                                                                                                                                                                                                                                                                                                                                                                                                                                                                                                                                                                                                                                                                                                                                                                                                                                                                                                                                                                                                                                                                                                                                                                                                                                                                                                                                                                                                                                                                                                                                           \n",
       "8329  fuck ive been wanting to kill myself for about 20 years now  everything i do just makes me think about it more no matter how much i might be lying to myself about enjoying the moment  i trust no one when it comes to this as basically everyone ive ever opened up to about this has just called the police and the night ends w me naked in solitary confinement  my plan has been for the last couple years to wait for my parents to die so they dont have to deal with it but im leaning closer and closer to saying fuck it to that  i have a sister but she has a family and they would be essentially unaffected by my absence im willing to hire someone to kill me at this point because im pretty sure im just too cowardly a piece of shit to do it myself                                                                                                                                                                                                                                                                                                                                                                                                                                                                                                                                                                                                                                                                                                                                                                                                                                                                                                                                                                                                                                                                                                                                                                                                                                                                                                                                                                                                                                                                                                                                                                                                                                                                                                                                                                                                                                                                                                                                                                                                                                                                                                                             \n",
       "\n",
       "[8315 rows x 3 columns]"
      ]
     },
     "metadata": {},
     "output_type": "display_data"
    }
   ],
   "source": [
    "#Lowercase\n",
    "data['clean_text']= data['clean_text'].apply(lambda x: x.lower())\n",
    "display(data)  "
   ]
  },
  {
   "cell_type": "code",
   "execution_count": 25,
   "id": "e5bdab59",
   "metadata": {},
   "outputs": [
    {
     "name": "stderr",
     "output_type": "stream",
     "text": [
      "[nltk_data] Downloading package stopwords to\n",
      "[nltk_data]     C:\\Users\\Dell\\AppData\\Roaming\\nltk_data...\n",
      "[nltk_data]   Package stopwords is already up-to-date!\n"
     ]
    }
   ],
   "source": [
    "from nltk.corpus import stopwords\n",
    "nltk.download('stopwords')\n",
    "\n",
    "stop_words = stopwords.words('english')\n",
    "data['clean_text'] = data['clean_text'].apply(lambda x: ' '.join([word for word in x.split() if word not in (stop_words)]))"
   ]
  },
  {
   "cell_type": "code",
   "execution_count": 26,
   "id": "c8296632",
   "metadata": {},
   "outputs": [
    {
     "name": "stdout",
     "output_type": "stream",
     "text": [
      "['i', 'me', 'my', 'myself', 'we', 'our', 'ours', 'ourselves', 'you', \"you're\", \"you've\", \"you'll\", \"you'd\", 'your', 'yours', 'yourself', 'yourselves', 'he', 'him', 'his', 'himself', 'she', \"she's\", 'her', 'hers', 'herself', 'it', \"it's\", 'its', 'itself', 'they', 'them', 'their', 'theirs', 'themselves', 'what', 'which', 'who', 'whom', 'this', 'that', \"that'll\", 'these', 'those', 'am', 'is', 'are', 'was', 'were', 'be', 'been', 'being', 'have', 'has', 'had', 'having', 'do', 'does', 'did', 'doing', 'a', 'an', 'the', 'and', 'but', 'if', 'or', 'because', 'as', 'until', 'while', 'of', 'at', 'by', 'for', 'with', 'about', 'against', 'between', 'into', 'through', 'during', 'before', 'after', 'above', 'below', 'to', 'from', 'up', 'down', 'in', 'out', 'on', 'off', 'over', 'under', 'again', 'further', 'then', 'once', 'here', 'there', 'when', 'where', 'why', 'how', 'all', 'any', 'both', 'each', 'few', 'more', 'most', 'other', 'some', 'such', 'no', 'nor', 'not', 'only', 'own', 'same', 'so', 'than', 'too', 'very', 's', 't', 'can', 'will', 'just', 'don', \"don't\", 'should', \"should've\", 'now', 'd', 'll', 'm', 'o', 're', 've', 'y', 'ain', 'aren', \"aren't\", 'couldn', \"couldn't\", 'didn', \"didn't\", 'doesn', \"doesn't\", 'hadn', \"hadn't\", 'hasn', \"hasn't\", 'haven', \"haven't\", 'isn', \"isn't\", 'ma', 'mightn', \"mightn't\", 'mustn', \"mustn't\", 'needn', \"needn't\", 'shan', \"shan't\", 'shouldn', \"shouldn't\", 'wasn', \"wasn't\", 'weren', \"weren't\", 'won', \"won't\", 'wouldn', \"wouldn't\"]\n"
     ]
    }
   ],
   "source": [
    "print(stop_words)"
   ]
  },
  {
   "cell_type": "code",
   "execution_count": 27,
   "id": "59e0abb7",
   "metadata": {},
   "outputs": [
    {
     "data": {
      "text/html": [
       "<div>\n",
       "<style scoped>\n",
       "    .dataframe tbody tr th:only-of-type {\n",
       "        vertical-align: middle;\n",
       "    }\n",
       "\n",
       "    .dataframe tbody tr th {\n",
       "        vertical-align: top;\n",
       "    }\n",
       "\n",
       "    .dataframe thead th {\n",
       "        text-align: right;\n",
       "    }\n",
       "</style>\n",
       "<table border=\"1\" class=\"dataframe\">\n",
       "  <thead>\n",
       "    <tr style=\"text-align: right;\">\n",
       "      <th></th>\n",
       "      <th>post</th>\n",
       "      <th>topics</th>\n",
       "      <th>clean_text</th>\n",
       "    </tr>\n",
       "  </thead>\n",
       "  <tbody>\n",
       "    <tr>\n",
       "      <th>0</th>\n",
       "      <td>Does anyone else get anxious with working? im scared that im going to have to do repairs that cost of money.</td>\n",
       "      <td>anxiety</td>\n",
       "      <td>anyone else get anxious working im scared im going repairs cost money</td>\n",
       "    </tr>\n",
       "    <tr>\n",
       "      <th>1</th>\n",
       "      <td>Help with anxiety-inducing fears about school caused by a health issue I'm 35 and planning to go back to grad school, but over the years I developed some eye floaters that I can mostly ignore. They are just out of my visible sight range when reading small books like novels, but I started studying for the GRE with a big textbook and realized how obvious these floaters were now, and they've left me with anxiety about how I'm going to cope with school if, on top of everything else like how I'm no longer used to student life, how grad school is likely the hardest form of school I've ever done etc, add to that this problem with distracting floaters in my eyes that distract and annoy me.\\n\\nI really don't know how to deal here. I am not confident in exposure therapy as I have had these floaters for a few years and really only learned to deal with them by changing my lifestyle such that I don't have to deal with them. It's not a big issue, and some junk in my eyes shouldn't be THAT much of a problem. But just now I just glanced at my book for a few minutes and now I'm dizzy with worry about it.\\n\\nWhat to do?</td>\n",
       "      <td>anxiety</td>\n",
       "      <td>help anxietyinducing fears school caused health issue im 35 planning go back grad school years developed eye floaters mostly ignore visible sight range reading small books like novels started studying gre big textbook realized obvious floaters theyve left anxiety im going cope school top everything else like im longer used student life grad school likely hardest form school ive ever done etc add problem distracting floaters eyes distract annoy really dont know deal confident exposure therapy floaters years really learned deal changing lifestyle dont deal big issue junk eyes shouldnt much problem glanced book minutes im dizzy worry</td>\n",
       "    </tr>\n",
       "    <tr>\n",
       "      <th>2</th>\n",
       "      <td>Use up what's left and throw the rest away I recently returned from 6 years working overseas.\\n\\nUnfortunately in the last few years my drinking and stimulant became worse and was detrimental to my mental and physical health.\\n\\nI'm doing fine now as far as that is concerned. Attended therapy, clean and sober since November last year.\\n\\nWhen I came back I heard a few of my \"friends\" use the following phrase,\\n\\n\"we'll just use up what's left of him and then throw the rest away\"\\n\\nI've never heard this before. I've always been a people pleasing personality type and I'm struggling hard to determine how to interpret it.\\n\\nMaybe I just don't want to face facts that it means exactly what it says... That by hanging around with these people I put myself in a weak position and they aren't real friends at all.\\n\\nAny thoughts?</td>\n",
       "      <td>anxiety</td>\n",
       "      <td>use whats left throw rest away recently returned 6 years working overseas unfortunately last years drinking stimulant became worse detrimental mental physical health im fine far concerned attended therapy clean sober since november last year came back heard friends use following phrase well use whats left throw rest away ive never heard ive always people pleasing personality type im struggling hard determine interpret maybe dont want face facts means exactly says hanging around people put weak position arent real friends thoughts</td>\n",
       "    </tr>\n",
       "    <tr>\n",
       "      <th>3</th>\n",
       "      <td>My brain is driving me crazy! Im a perfectionist and think everyone hates me all the time. I literally always worried Ive done something wrong. \\n\\nIm at my first big professional conference in a major us city. I barely slept last night because of a backache and nerves. That and the jet lag is impairing  my functioning and I have blotchy skin and my dress is riding up on my legs and Ive had to pull it down. All I had to do today was register for the conference, but I was confused at every step and feel that everyone thinks Im stupid or hungover or unprofessional or something. Im walking around this city I do not know oblivious and feel embarrassed and stupid. My anxiety is killing me and men keep hitting on me. I havent been away from my husband since we moved in together and I feel so dumb and small. \\n\\nIm so scared for my presentation tomorrow. Can someone either console me or kindly put me out of my misery?</td>\n",
       "      <td>anxiety</td>\n",
       "      <td>brain driving crazy im perfectionist think everyone hates time literally always worried ive done something wrong im first big professional conference major us city barely slept last night backache nerves jet lag impairing functioning blotchy skin dress riding legs ive pull today register conference confused every step feel everyone thinks im stupid hungover unprofessional something im walking around city know oblivious feel embarrassed stupid anxiety killing men keep hitting havent away husband since moved together feel dumb small im scared presentation tomorrow someone either console kindly put misery</td>\n",
       "    </tr>\n",
       "    <tr>\n",
       "      <th>4</th>\n",
       "      <td>Does anyone else feel like the worst person ever if they annoy a friend? Hey Reddit. Basically, I have mild anxiety. But something that really messes with my head is when I have a fall out or get a blunt text from a friend to say I annoyed them when I did something. My first response is always I'm sorry (and trying not to say it a million times over) but my mind then goes through this turmoil where I have all these esteem lowering thoughts along the lines of, they'll hate me forever now, or I'm such a horrible person, as well as being filled with guilt for upsetting the person.\\nIt always turns out that whatever I did wrong only annoyed them for a short period of time and before I knew it life is back to normal, I just wish I could control the horrible negative wave that comes over me</td>\n",
       "      <td>anxiety</td>\n",
       "      <td>anyone else feel like worst person ever annoy friend hey reddit basically mild anxiety something really messes head fall get blunt text friend say annoyed something first response always im sorry trying say million times mind goes turmoil esteem lowering thoughts along lines theyll hate forever im horrible person well filled guilt upsetting person always turns whatever wrong annoyed short period time knew life back normal wish could control horrible negative wave comes</td>\n",
       "    </tr>\n",
       "  </tbody>\n",
       "</table>\n",
       "</div>"
      ],
      "text/plain": [
       "                                                                                                                                                                                                                                                                                                                                                                                                                                                                                                                                                                                                                                                                                                                                                                                                                                                                                                                                                                                                                                                                                                                                                              post  \\\n",
       "0  Does anyone else get anxious with working? im scared that im going to have to do repairs that cost of money.                                                                                                                                                                                                                                                                                                                                                                                                                                                                                                                                                                                                                                                                                                                                                                                                                                                                                                                                                                                                                                                      \n",
       "1  Help with anxiety-inducing fears about school caused by a health issue I'm 35 and planning to go back to grad school, but over the years I developed some eye floaters that I can mostly ignore. They are just out of my visible sight range when reading small books like novels, but I started studying for the GRE with a big textbook and realized how obvious these floaters were now, and they've left me with anxiety about how I'm going to cope with school if, on top of everything else like how I'm no longer used to student life, how grad school is likely the hardest form of school I've ever done etc, add to that this problem with distracting floaters in my eyes that distract and annoy me.\\n\\nI really don't know how to deal here. I am not confident in exposure therapy as I have had these floaters for a few years and really only learned to deal with them by changing my lifestyle such that I don't have to deal with them. It's not a big issue, and some junk in my eyes shouldn't be THAT much of a problem. But just now I just glanced at my book for a few minutes and now I'm dizzy with worry about it.\\n\\nWhat to do?   \n",
       "2  Use up what's left and throw the rest away I recently returned from 6 years working overseas.\\n\\nUnfortunately in the last few years my drinking and stimulant became worse and was detrimental to my mental and physical health.\\n\\nI'm doing fine now as far as that is concerned. Attended therapy, clean and sober since November last year.\\n\\nWhen I came back I heard a few of my \"friends\" use the following phrase,\\n\\n\"we'll just use up what's left of him and then throw the rest away\"\\n\\nI've never heard this before. I've always been a people pleasing personality type and I'm struggling hard to determine how to interpret it.\\n\\nMaybe I just don't want to face facts that it means exactly what it says... That by hanging around with these people I put myself in a weak position and they aren't real friends at all.\\n\\nAny thoughts?                                                                                                                                                                                                                                                                                                  \n",
       "3  My brain is driving me crazy! Im a perfectionist and think everyone hates me all the time. I literally always worried Ive done something wrong. \\n\\nIm at my first big professional conference in a major us city. I barely slept last night because of a backache and nerves. That and the jet lag is impairing  my functioning and I have blotchy skin and my dress is riding up on my legs and Ive had to pull it down. All I had to do today was register for the conference, but I was confused at every step and feel that everyone thinks Im stupid or hungover or unprofessional or something. Im walking around this city I do not know oblivious and feel embarrassed and stupid. My anxiety is killing me and men keep hitting on me. I havent been away from my husband since we moved in together and I feel so dumb and small. \\n\\nIm so scared for my presentation tomorrow. Can someone either console me or kindly put me out of my misery?                                                                                                                                                                                                      \n",
       "4  Does anyone else feel like the worst person ever if they annoy a friend? Hey Reddit. Basically, I have mild anxiety. But something that really messes with my head is when I have a fall out or get a blunt text from a friend to say I annoyed them when I did something. My first response is always I'm sorry (and trying not to say it a million times over) but my mind then goes through this turmoil where I have all these esteem lowering thoughts along the lines of, they'll hate me forever now, or I'm such a horrible person, as well as being filled with guilt for upsetting the person.\\nIt always turns out that whatever I did wrong only annoyed them for a short period of time and before I knew it life is back to normal, I just wish I could control the horrible negative wave that comes over me                                                                                                                                                                                                                                                                                                                                       \n",
       "\n",
       "    topics  \\\n",
       "0  anxiety   \n",
       "1  anxiety   \n",
       "2  anxiety   \n",
       "3  anxiety   \n",
       "4  anxiety   \n",
       "\n",
       "                                                                                                                                                                                                                                                                                                                                                                                                                                                                                                                                                                                                                                                       clean_text  \n",
       "0  anyone else get anxious working im scared im going repairs cost money                                                                                                                                                                                                                                                                                                                                                                                                                                                                                                                                                                                           \n",
       "1  help anxietyinducing fears school caused health issue im 35 planning go back grad school years developed eye floaters mostly ignore visible sight range reading small books like novels started studying gre big textbook realized obvious floaters theyve left anxiety im going cope school top everything else like im longer used student life grad school likely hardest form school ive ever done etc add problem distracting floaters eyes distract annoy really dont know deal confident exposure therapy floaters years really learned deal changing lifestyle dont deal big issue junk eyes shouldnt much problem glanced book minutes im dizzy worry  \n",
       "2  use whats left throw rest away recently returned 6 years working overseas unfortunately last years drinking stimulant became worse detrimental mental physical health im fine far concerned attended therapy clean sober since november last year came back heard friends use following phrase well use whats left throw rest away ive never heard ive always people pleasing personality type im struggling hard determine interpret maybe dont want face facts means exactly says hanging around people put weak position arent real friends thoughts                                                                                                         \n",
       "3  brain driving crazy im perfectionist think everyone hates time literally always worried ive done something wrong im first big professional conference major us city barely slept last night backache nerves jet lag impairing functioning blotchy skin dress riding legs ive pull today register conference confused every step feel everyone thinks im stupid hungover unprofessional something im walking around city know oblivious feel embarrassed stupid anxiety killing men keep hitting havent away husband since moved together feel dumb small im scared presentation tomorrow someone either console kindly put misery                               \n",
       "4  anyone else feel like worst person ever annoy friend hey reddit basically mild anxiety something really messes head fall get blunt text friend say annoyed something first response always im sorry trying say million times mind goes turmoil esteem lowering thoughts along lines theyll hate forever im horrible person well filled guilt upsetting person always turns whatever wrong annoyed short period time knew life back normal wish could control horrible negative wave comes                                                                                                                                                                       "
      ]
     },
     "execution_count": 27,
     "metadata": {},
     "output_type": "execute_result"
    }
   ],
   "source": [
    "data.head()"
   ]
  },
  {
   "cell_type": "code",
   "execution_count": 28,
   "id": "53ed747b",
   "metadata": {},
   "outputs": [
    {
     "data": {
      "text/plain": [
       "array([['Anxiety'],\n",
       "       ['Depression'],\n",
       "       ['PTSD'],\n",
       "       ['Social Anxiety'],\n",
       "       ['Suicidal thoughts']], dtype=object)"
      ]
     },
     "execution_count": 28,
     "metadata": {},
     "output_type": "execute_result"
    }
   ],
   "source": [
    "# Renaming categories\n",
    "data.replace({'topics':\n",
    "    {'anxiety':'Anxiety',\n",
    "    'depression':'Depression',\n",
    "    'ptsd':'PTSD',\n",
    "    'socialanxiety':'Social Anxiety',\n",
    "    'suicidewatch':'Suicidal thoughts',\n",
    "    }},\n",
    "             inplace=True)\n",
    "    \n",
    "pd.DataFrame(data.topics.unique()).values"
   ]
  },
  {
   "cell_type": "code",
   "execution_count": 29,
   "id": "c4a99999",
   "metadata": {},
   "outputs": [],
   "source": [
    "#Now, we will map each of these categories to a number, so that our model can understand it in a better way and we will save this in a new column named ‘category_id’. Where each of the 5 categories is represented in numerical.\n",
    "# Create a new column 'category_id' with encoded categories \n",
    "data['category_id'] = data['topics'].factorize()[0]\n",
    "category_id_df = data[['topics', 'category_id']].drop_duplicates()"
   ]
  },
  {
   "cell_type": "code",
   "execution_count": 30,
   "id": "d8c237d0",
   "metadata": {},
   "outputs": [
    {
     "data": {
      "text/html": [
       "<div>\n",
       "<style scoped>\n",
       "    .dataframe tbody tr th:only-of-type {\n",
       "        vertical-align: middle;\n",
       "    }\n",
       "\n",
       "    .dataframe tbody tr th {\n",
       "        vertical-align: top;\n",
       "    }\n",
       "\n",
       "    .dataframe thead th {\n",
       "        text-align: right;\n",
       "    }\n",
       "</style>\n",
       "<table border=\"1\" class=\"dataframe\">\n",
       "  <thead>\n",
       "    <tr style=\"text-align: right;\">\n",
       "      <th></th>\n",
       "      <th>topics</th>\n",
       "      <th>category_id</th>\n",
       "    </tr>\n",
       "  </thead>\n",
       "  <tbody>\n",
       "    <tr>\n",
       "      <th>0</th>\n",
       "      <td>Anxiety</td>\n",
       "      <td>0</td>\n",
       "    </tr>\n",
       "    <tr>\n",
       "      <th>1666</th>\n",
       "      <td>Depression</td>\n",
       "      <td>1</td>\n",
       "    </tr>\n",
       "    <tr>\n",
       "      <th>3332</th>\n",
       "      <td>PTSD</td>\n",
       "      <td>2</td>\n",
       "    </tr>\n",
       "    <tr>\n",
       "      <th>4998</th>\n",
       "      <td>Social Anxiety</td>\n",
       "      <td>3</td>\n",
       "    </tr>\n",
       "    <tr>\n",
       "      <th>6664</th>\n",
       "      <td>Suicidal thoughts</td>\n",
       "      <td>4</td>\n",
       "    </tr>\n",
       "  </tbody>\n",
       "</table>\n",
       "</div>"
      ],
      "text/plain": [
       "                 topics  category_id\n",
       "0     Anxiety            0          \n",
       "1666  Depression         1          \n",
       "3332  PTSD               2          \n",
       "4998  Social Anxiety     3          \n",
       "6664  Suicidal thoughts  4          "
      ]
     },
     "execution_count": 30,
     "metadata": {},
     "output_type": "execute_result"
    }
   ],
   "source": [
    "category_id_df"
   ]
  },
  {
   "cell_type": "code",
   "execution_count": 31,
   "id": "3ff76250",
   "metadata": {},
   "outputs": [
    {
     "data": {
      "text/html": [
       "<div>\n",
       "<style scoped>\n",
       "    .dataframe tbody tr th:only-of-type {\n",
       "        vertical-align: middle;\n",
       "    }\n",
       "\n",
       "    .dataframe tbody tr th {\n",
       "        vertical-align: top;\n",
       "    }\n",
       "\n",
       "    .dataframe thead th {\n",
       "        text-align: right;\n",
       "    }\n",
       "</style>\n",
       "<table border=\"1\" class=\"dataframe\">\n",
       "  <thead>\n",
       "    <tr style=\"text-align: right;\">\n",
       "      <th></th>\n",
       "      <th>post</th>\n",
       "      <th>topics</th>\n",
       "      <th>clean_text</th>\n",
       "      <th>category_id</th>\n",
       "    </tr>\n",
       "  </thead>\n",
       "  <tbody>\n",
       "    <tr>\n",
       "      <th>0</th>\n",
       "      <td>Does anyone else get anxious with working? im scared that im going to have to do repairs that cost of money.</td>\n",
       "      <td>Anxiety</td>\n",
       "      <td>anyone else get anxious working im scared im going repairs cost money</td>\n",
       "      <td>0</td>\n",
       "    </tr>\n",
       "    <tr>\n",
       "      <th>1</th>\n",
       "      <td>Help with anxiety-inducing fears about school caused by a health issue I'm 35 and planning to go back to grad school, but over the years I developed some eye floaters that I can mostly ignore. They are just out of my visible sight range when reading small books like novels, but I started studying for the GRE with a big textbook and realized how obvious these floaters were now, and they've left me with anxiety about how I'm going to cope with school if, on top of everything else like how I'm no longer used to student life, how grad school is likely the hardest form of school I've ever done etc, add to that this problem with distracting floaters in my eyes that distract and annoy me.\\n\\nI really don't know how to deal here. I am not confident in exposure therapy as I have had these floaters for a few years and really only learned to deal with them by changing my lifestyle such that I don't have to deal with them. It's not a big issue, and some junk in my eyes shouldn't be THAT much of a problem. But just now I just glanced at my book for a few minutes and now I'm dizzy with worry about it.\\n\\nWhat to do?</td>\n",
       "      <td>Anxiety</td>\n",
       "      <td>help anxietyinducing fears school caused health issue im 35 planning go back grad school years developed eye floaters mostly ignore visible sight range reading small books like novels started studying gre big textbook realized obvious floaters theyve left anxiety im going cope school top everything else like im longer used student life grad school likely hardest form school ive ever done etc add problem distracting floaters eyes distract annoy really dont know deal confident exposure therapy floaters years really learned deal changing lifestyle dont deal big issue junk eyes shouldnt much problem glanced book minutes im dizzy worry</td>\n",
       "      <td>0</td>\n",
       "    </tr>\n",
       "    <tr>\n",
       "      <th>2</th>\n",
       "      <td>Use up what's left and throw the rest away I recently returned from 6 years working overseas.\\n\\nUnfortunately in the last few years my drinking and stimulant became worse and was detrimental to my mental and physical health.\\n\\nI'm doing fine now as far as that is concerned. Attended therapy, clean and sober since November last year.\\n\\nWhen I came back I heard a few of my \"friends\" use the following phrase,\\n\\n\"we'll just use up what's left of him and then throw the rest away\"\\n\\nI've never heard this before. I've always been a people pleasing personality type and I'm struggling hard to determine how to interpret it.\\n\\nMaybe I just don't want to face facts that it means exactly what it says... That by hanging around with these people I put myself in a weak position and they aren't real friends at all.\\n\\nAny thoughts?</td>\n",
       "      <td>Anxiety</td>\n",
       "      <td>use whats left throw rest away recently returned 6 years working overseas unfortunately last years drinking stimulant became worse detrimental mental physical health im fine far concerned attended therapy clean sober since november last year came back heard friends use following phrase well use whats left throw rest away ive never heard ive always people pleasing personality type im struggling hard determine interpret maybe dont want face facts means exactly says hanging around people put weak position arent real friends thoughts</td>\n",
       "      <td>0</td>\n",
       "    </tr>\n",
       "    <tr>\n",
       "      <th>3</th>\n",
       "      <td>My brain is driving me crazy! Im a perfectionist and think everyone hates me all the time. I literally always worried Ive done something wrong. \\n\\nIm at my first big professional conference in a major us city. I barely slept last night because of a backache and nerves. That and the jet lag is impairing  my functioning and I have blotchy skin and my dress is riding up on my legs and Ive had to pull it down. All I had to do today was register for the conference, but I was confused at every step and feel that everyone thinks Im stupid or hungover or unprofessional or something. Im walking around this city I do not know oblivious and feel embarrassed and stupid. My anxiety is killing me and men keep hitting on me. I havent been away from my husband since we moved in together and I feel so dumb and small. \\n\\nIm so scared for my presentation tomorrow. Can someone either console me or kindly put me out of my misery?</td>\n",
       "      <td>Anxiety</td>\n",
       "      <td>brain driving crazy im perfectionist think everyone hates time literally always worried ive done something wrong im first big professional conference major us city barely slept last night backache nerves jet lag impairing functioning blotchy skin dress riding legs ive pull today register conference confused every step feel everyone thinks im stupid hungover unprofessional something im walking around city know oblivious feel embarrassed stupid anxiety killing men keep hitting havent away husband since moved together feel dumb small im scared presentation tomorrow someone either console kindly put misery</td>\n",
       "      <td>0</td>\n",
       "    </tr>\n",
       "    <tr>\n",
       "      <th>4</th>\n",
       "      <td>Does anyone else feel like the worst person ever if they annoy a friend? Hey Reddit. Basically, I have mild anxiety. But something that really messes with my head is when I have a fall out or get a blunt text from a friend to say I annoyed them when I did something. My first response is always I'm sorry (and trying not to say it a million times over) but my mind then goes through this turmoil where I have all these esteem lowering thoughts along the lines of, they'll hate me forever now, or I'm such a horrible person, as well as being filled with guilt for upsetting the person.\\nIt always turns out that whatever I did wrong only annoyed them for a short period of time and before I knew it life is back to normal, I just wish I could control the horrible negative wave that comes over me</td>\n",
       "      <td>Anxiety</td>\n",
       "      <td>anyone else feel like worst person ever annoy friend hey reddit basically mild anxiety something really messes head fall get blunt text friend say annoyed something first response always im sorry trying say million times mind goes turmoil esteem lowering thoughts along lines theyll hate forever im horrible person well filled guilt upsetting person always turns whatever wrong annoyed short period time knew life back normal wish could control horrible negative wave comes</td>\n",
       "      <td>0</td>\n",
       "    </tr>\n",
       "  </tbody>\n",
       "</table>\n",
       "</div>"
      ],
      "text/plain": [
       "                                                                                                                                                                                                                                                                                                                                                                                                                                                                                                                                                                                                                                                                                                                                                                                                                                                                                                                                                                                                                                                                                                                                                              post  \\\n",
       "0  Does anyone else get anxious with working? im scared that im going to have to do repairs that cost of money.                                                                                                                                                                                                                                                                                                                                                                                                                                                                                                                                                                                                                                                                                                                                                                                                                                                                                                                                                                                                                                                      \n",
       "1  Help with anxiety-inducing fears about school caused by a health issue I'm 35 and planning to go back to grad school, but over the years I developed some eye floaters that I can mostly ignore. They are just out of my visible sight range when reading small books like novels, but I started studying for the GRE with a big textbook and realized how obvious these floaters were now, and they've left me with anxiety about how I'm going to cope with school if, on top of everything else like how I'm no longer used to student life, how grad school is likely the hardest form of school I've ever done etc, add to that this problem with distracting floaters in my eyes that distract and annoy me.\\n\\nI really don't know how to deal here. I am not confident in exposure therapy as I have had these floaters for a few years and really only learned to deal with them by changing my lifestyle such that I don't have to deal with them. It's not a big issue, and some junk in my eyes shouldn't be THAT much of a problem. But just now I just glanced at my book for a few minutes and now I'm dizzy with worry about it.\\n\\nWhat to do?   \n",
       "2  Use up what's left and throw the rest away I recently returned from 6 years working overseas.\\n\\nUnfortunately in the last few years my drinking and stimulant became worse and was detrimental to my mental and physical health.\\n\\nI'm doing fine now as far as that is concerned. Attended therapy, clean and sober since November last year.\\n\\nWhen I came back I heard a few of my \"friends\" use the following phrase,\\n\\n\"we'll just use up what's left of him and then throw the rest away\"\\n\\nI've never heard this before. I've always been a people pleasing personality type and I'm struggling hard to determine how to interpret it.\\n\\nMaybe I just don't want to face facts that it means exactly what it says... That by hanging around with these people I put myself in a weak position and they aren't real friends at all.\\n\\nAny thoughts?                                                                                                                                                                                                                                                                                                  \n",
       "3  My brain is driving me crazy! Im a perfectionist and think everyone hates me all the time. I literally always worried Ive done something wrong. \\n\\nIm at my first big professional conference in a major us city. I barely slept last night because of a backache and nerves. That and the jet lag is impairing  my functioning and I have blotchy skin and my dress is riding up on my legs and Ive had to pull it down. All I had to do today was register for the conference, but I was confused at every step and feel that everyone thinks Im stupid or hungover or unprofessional or something. Im walking around this city I do not know oblivious and feel embarrassed and stupid. My anxiety is killing me and men keep hitting on me. I havent been away from my husband since we moved in together and I feel so dumb and small. \\n\\nIm so scared for my presentation tomorrow. Can someone either console me or kindly put me out of my misery?                                                                                                                                                                                                      \n",
       "4  Does anyone else feel like the worst person ever if they annoy a friend? Hey Reddit. Basically, I have mild anxiety. But something that really messes with my head is when I have a fall out or get a blunt text from a friend to say I annoyed them when I did something. My first response is always I'm sorry (and trying not to say it a million times over) but my mind then goes through this turmoil where I have all these esteem lowering thoughts along the lines of, they'll hate me forever now, or I'm such a horrible person, as well as being filled with guilt for upsetting the person.\\nIt always turns out that whatever I did wrong only annoyed them for a short period of time and before I knew it life is back to normal, I just wish I could control the horrible negative wave that comes over me                                                                                                                                                                                                                                                                                                                                       \n",
       "\n",
       "    topics  \\\n",
       "0  Anxiety   \n",
       "1  Anxiety   \n",
       "2  Anxiety   \n",
       "3  Anxiety   \n",
       "4  Anxiety   \n",
       "\n",
       "                                                                                                                                                                                                                                                                                                                                                                                                                                                                                                                                                                                                                                                       clean_text  \\\n",
       "0  anyone else get anxious working im scared im going repairs cost money                                                                                                                                                                                                                                                                                                                                                                                                                                                                                                                                                                                            \n",
       "1  help anxietyinducing fears school caused health issue im 35 planning go back grad school years developed eye floaters mostly ignore visible sight range reading small books like novels started studying gre big textbook realized obvious floaters theyve left anxiety im going cope school top everything else like im longer used student life grad school likely hardest form school ive ever done etc add problem distracting floaters eyes distract annoy really dont know deal confident exposure therapy floaters years really learned deal changing lifestyle dont deal big issue junk eyes shouldnt much problem glanced book minutes im dizzy worry   \n",
       "2  use whats left throw rest away recently returned 6 years working overseas unfortunately last years drinking stimulant became worse detrimental mental physical health im fine far concerned attended therapy clean sober since november last year came back heard friends use following phrase well use whats left throw rest away ive never heard ive always people pleasing personality type im struggling hard determine interpret maybe dont want face facts means exactly says hanging around people put weak position arent real friends thoughts                                                                                                          \n",
       "3  brain driving crazy im perfectionist think everyone hates time literally always worried ive done something wrong im first big professional conference major us city barely slept last night backache nerves jet lag impairing functioning blotchy skin dress riding legs ive pull today register conference confused every step feel everyone thinks im stupid hungover unprofessional something im walking around city know oblivious feel embarrassed stupid anxiety killing men keep hitting havent away husband since moved together feel dumb small im scared presentation tomorrow someone either console kindly put misery                                \n",
       "4  anyone else feel like worst person ever annoy friend hey reddit basically mild anxiety something really messes head fall get blunt text friend say annoyed something first response always im sorry trying say million times mind goes turmoil esteem lowering thoughts along lines theyll hate forever im horrible person well filled guilt upsetting person always turns whatever wrong annoyed short period time knew life back normal wish could control horrible negative wave comes                                                                                                                                                                        \n",
       "\n",
       "   category_id  \n",
       "0  0            \n",
       "1  0            \n",
       "2  0            \n",
       "3  0            \n",
       "4  0            "
      ]
     },
     "execution_count": 31,
     "metadata": {},
     "output_type": "execute_result"
    }
   ],
   "source": [
    "# Dictionaries for future use\n",
    "category_to_id = dict(category_id_df.values)\n",
    "id_to_category = dict(category_id_df[['category_id', 'topics']].values)\n",
    "# New dataframe\n",
    "data.head()"
   ]
  },
  {
   "cell_type": "code",
   "execution_count": 32,
   "id": "5ddf9737",
   "metadata": {},
   "outputs": [
    {
     "data": {
      "text/plain": [
       "{0: 'Anxiety',\n",
       " 1: 'Depression',\n",
       " 2: 'PTSD',\n",
       " 3: 'Social Anxiety',\n",
       " 4: 'Suicidal thoughts'}"
      ]
     },
     "execution_count": 32,
     "metadata": {},
     "output_type": "execute_result"
    }
   ],
   "source": [
    "category_to_id\n",
    "\n",
    "id_to_category"
   ]
  },
  {
   "cell_type": "code",
   "execution_count": 33,
   "id": "927b4602",
   "metadata": {},
   "outputs": [
    {
     "data": {
      "image/png": "[encoded data removed]",
      "text/plain": [
       "<Figure size 576x432 with 1 Axes>"
      ]
     },
     "metadata": {
      "needs_background": "light"
     },
     "output_type": "display_data"
    }
   ],
   "source": [
    "#number of posts per catagory\n",
    "import matplotlib.pyplot as plt\n",
    "fig = plt.figure(figsize=(8,6))\n",
    "data.groupby('topics').clean_text.count().plot.bar(ylim=0)\n",
    "plt.show()"
   ]
  },
  {
   "cell_type": "code",
   "execution_count": 34,
   "id": "ae94ed0e",
   "metadata": {},
   "outputs": [],
   "source": [
    "import numpy as np\n",
    "import seaborn as sns \n",
    "import matplotlib.pyplot as plt\n",
    "import os\n",
    "from scipy.stats import randint\n",
    "from io import StringIO\n",
    "from sklearn.feature_extraction.text import TfidfVectorizer\n",
    "from sklearn.feature_selection import chi2\n",
    "from IPython.display import display\n",
    "from sklearn.model_selection import train_test_split\n",
    "from sklearn.feature_extraction.text import TfidfTransformer\n",
    "from sklearn.naive_bayes import MultinomialNB\n",
    "from sklearn.linear_model import LogisticRegression\n",
    "from sklearn.ensemble import RandomForestClassifier\n",
    "from sklearn.svm import LinearSVC\n",
    "from sklearn.model_selection import cross_val_score\n",
    "from sklearn.metrics import confusion_matrix\n",
    "from sklearn import metrics\n"
   ]
  },
  {
   "cell_type": "code",
   "execution_count": 35,
   "id": "bde99b96",
   "metadata": {},
   "outputs": [
    {
     "name": "stdout",
     "output_type": "stream",
     "text": [
      "Each of the 8315 posts is represented by 18701 features (TF-IDF score of unigrams and bigrams)\n"
     ]
    }
   ],
   "source": [
    "#feature extraction,during the preprocessing step, the texts are converted to a more manageable representation\n",
    "#Term Frequency, Inverse Document Frequency,\n",
    "tfidf = TfidfVectorizer(sublinear_tf=True, min_df=5,norm='l2',# is set to True to use a logarithmic form for frequency.\n",
    "                        ngram_range=(1, 2), \n",
    "                        stop_words='english')\n",
    "# We transform each complaint into a vector\n",
    "features = tfidf.fit_transform(data.clean_text).toarray()\n",
    "labels = data.category_id\n",
    "print(\"Each of the %d posts is represented by %d features (TF-IDF score of unigrams and bigrams)\" %(features.shape))"
   ]
  },
  {
   "cell_type": "code",
   "execution_count": 36,
   "id": "2a70d3e0",
   "metadata": {},
   "outputs": [
    {
     "name": "stderr",
     "output_type": "stream",
     "text": [
      "C:\\Users\\Dell\\anaconda3\\lib\\site-packages\\sklearn\\utils\\deprecation.py:87: FutureWarning: Function get_feature_names is deprecated; get_feature_names is deprecated in 1.0 and will be removed in 1.2. Please use get_feature_names_out instead.\n",
      "  warnings.warn(msg, category=FutureWarning)\n"
     ]
    },
    {
     "name": "stdout",
     "output_type": "stream",
     "text": [
      "n==> Anxiety:\n",
      "  * Most Correlated Unigrams are: attack, panic, anxiety\n",
      "  * Most Correlated Bigrams are: anxiety attack, panic attack, panic attacks\n"
     ]
    },
    {
     "name": "stderr",
     "output_type": "stream",
     "text": [
      "C:\\Users\\Dell\\anaconda3\\lib\\site-packages\\sklearn\\utils\\deprecation.py:87: FutureWarning: Function get_feature_names is deprecated; get_feature_names is deprecated in 1.0 and will be removed in 1.2. Please use get_feature_names_out instead.\n",
      "  warnings.warn(msg, category=FutureWarning)\n"
     ]
    },
    {
     "name": "stdout",
     "output_type": "stream",
     "text": [
      "n==> Depression:\n",
      "  * Most Correlated Unigrams are: restlessness, nervous, restless\n",
      "  * Most Correlated Bigrams are: feeling restless, restless restless, im restless\n"
     ]
    },
    {
     "name": "stderr",
     "output_type": "stream",
     "text": [
      "C:\\Users\\Dell\\anaconda3\\lib\\site-packages\\sklearn\\utils\\deprecation.py:87: FutureWarning: Function get_feature_names is deprecated; get_feature_names is deprecated in 1.0 and will be removed in 1.2. Please use get_feature_names_out instead.\n",
      "  warnings.warn(msg, category=FutureWarning)\n"
     ]
    },
    {
     "name": "stdout",
     "output_type": "stream",
     "text": [
      "n==> PTSD:\n",
      "  * Most Correlated Unigrams are: flashbacks, trauma, ptsd\n",
      "  * Most Correlated Bigrams are: ptsd im, sexual abuse, diagnosed ptsd\n"
     ]
    },
    {
     "name": "stderr",
     "output_type": "stream",
     "text": [
      "C:\\Users\\Dell\\anaconda3\\lib\\site-packages\\sklearn\\utils\\deprecation.py:87: FutureWarning: Function get_feature_names is deprecated; get_feature_names is deprecated in 1.0 and will be removed in 1.2. Please use get_feature_names_out instead.\n",
      "  warnings.warn(msg, category=FutureWarning)\n"
     ]
    },
    {
     "name": "stdout",
     "output_type": "stream",
     "text": [
      "n==> Social Anxiety:\n",
      "  * Most Correlated Unigrams are: awkward, sa, social\n",
      "  * Most Correlated Bigrams are: eye contact, socially anxious, social anxiety\n",
      "n==> Suicidal thoughts:\n",
      "  * Most Correlated Unigrams are: die, kill, suicide\n",
      "  * Most Correlated Bigrams are: end life, want end, want die\n"
     ]
    },
    {
     "name": "stderr",
     "output_type": "stream",
     "text": [
      "C:\\Users\\Dell\\anaconda3\\lib\\site-packages\\sklearn\\utils\\deprecation.py:87: FutureWarning: Function get_feature_names is deprecated; get_feature_names is deprecated in 1.0 and will be removed in 1.2. Please use get_feature_names_out instead.\n",
      "  warnings.warn(msg, category=FutureWarning)\n"
     ]
    }
   ],
   "source": [
    "# Finding the three most correlated terms with each of the topic categories\n",
    "N = 3\n",
    "for topics, category_id in sorted(category_to_id.items()):\n",
    "  features_chi2 = chi2(features, labels == category_id)\n",
    "  indices = np.argsort(features_chi2[0])\n",
    "  feature_names = np.array(tfidf.get_feature_names())[indices]\n",
    "  unigrams = [v for v in feature_names if len(v.split(' ')) == 1]\n",
    "  bigrams = [v for v in feature_names if len(v.split(' ')) == 2]\n",
    "  print(\"n==> %s:\" %(topics))\n",
    "  print(\"  * Most Correlated Unigrams are: %s\" %(', '.join(unigrams[-N:])))\n",
    "  print(\"  * Most Correlated Bigrams are: %s\" %(', '.join(bigrams[-N:])))"
   ]
  },
  {
   "cell_type": "code",
   "execution_count": 37,
   "id": "d2203b9e",
   "metadata": {},
   "outputs": [],
   "source": [
    "X = data['clean_text'] # Collection of documents\n",
    "y = data['topics'] # Target or the labels we want to predict (i.e., the 5 different catagories of posts)\n",
    "X_train, X_test, y_train, y_test = train_test_split(X, y, \n",
    "                                                    test_size=0.20,\n",
    "                                                    random_state = 0)"
   ]
  },
  {
   "cell_type": "code",
   "execution_count": 38,
   "id": "f98e2116",
   "metadata": {},
   "outputs": [
    {
     "name": "stdout",
     "output_type": "stream",
     "text": [
      "(6652,) (1663,) (6652,) (1663,)\n"
     ]
    }
   ],
   "source": [
    "print(X_train.shape,X_test.shape,y_train.shape, y_test.shape)"
   ]
  },
  {
   "cell_type": "code",
   "execution_count": 39,
   "id": "665c1eb2",
   "metadata": {},
   "outputs": [
    {
     "name": "stdout",
     "output_type": "stream",
     "text": [
      "2309    ive never really personality honestly cant remember much personality remember compassionate empathetic person younger ive lost depression everything else always negative                                                                                                                                                                                                                                                                                                                                                                                                                                                                                                                                                                                                                                                                                                                                                                                                                                 \n",
      "5847    moving schools 4th time 4 years social anxiety getting worse hey first ever post im bit new name mary im 14 month ill moving schools fourth time four years every year time move social anxiety seems get worse school im currently ive friends nearly year still dont feel comfortable around move dad still works old work place hour away getting stressed sick works 14 hours day mum worried therefore moving back im stressed worried literally wont able speak anymore new school would fab someone could give advice dont think cope social anxiety gets worse thats even possible thanks x                                                                                                                                                                                                                                                                                                                                                                                                       \n",
      "2722    dont worry yet                                                                                                                                                                                                                                                                                                                                                                                                                                                                                                                                                                                                                                                                                                                                                                                                                                                                                                                                                                                            \n",
      "2167    social anxiety gone corona virus hi guysfighters pandemic clearly see us fighting one whole world called give fight staying home feel together win together feel really well knowing helping war among millions others dont feel alone anymore dont feel weak anymore people world learn many others live lives staying home day going everywhere moreover social anxiety gone country go sometimes day feel really good nothing stresses people around ones see dont scare ones dont see know fighting homes everyone believe every scenario advantages disadvantages matter good bad nightmare without something positive heaven without something scary believe time feel good part world less stressful anyone feeling way                                                                                                                                                                                                                                                                            \n",
      "2755    days dont think im well feel like im really crying scared anxious sad think cry fast break                                                                                                                                                                                                                                                                                                                                                                                                                                                                                                                                                                                                                                                                                                                                                                                                                                                                                                                \n",
      "                                                   ...                                                                                                                                                                                                                                                                                                                                                                                                                                                                                                                                                                                                                                                                                                                                                                                                                                                                                                                                                            \n",
      "4388    doc added seroquel meds help ptsd symptoms ptsd panic amp anxiety disorder depression narcolepsy w cataplexy ive taking effexor gabapentin lamotrigine ive worsening overarousal hypervigilance nightmares insomnia im currently intensive outpatient therapy program im medical leave first time life ive ever therapy really hard talking especially group setting triggers many painful memories emotions ive suppressed 15 years ive sleeping even worse normal worsened daytime sleepiness doctor recommended seroquel back refused read cause weight gain problems well finally surrendered felt like going psychotic episode didnt start getting sleep let tell took 25mg last night mellowed like somebody turned volume racing thoughts anxiety going sleep dead world im still quite groggy today dozing randomly forgot needed take earlier 10pm well see rest goes definitely need keep lot healthy snacks available already feel intense munchies making lol anyone else taking advice thanks\n",
      "7906    noone else believes know fuck dont care cant bring care much failure high achiever flew close sun friends left little family left rejection sucks thats dont want believe world better without keeps telling                                                                                                                                                                                                                                                                                                                                                                                                                                                                                                                                                                                                                                                                                                                                                                                              \n",
      "4874    hate life stupidity long ass time decided wanted go shopping something havent done long due bad anxiety went hampm tried clothes dressing room context dressing rooms curtains im rather tall went show guy friend joined turned walked wrong stall course closed eyes moment realized someone quickly closed curtains apologized much clearly upset understood molested raped lot childhood teenage years ive dealt much pain agony say violated tore shreds went stall episode began everything went hit felt wanted die stall felt like disgusting human even though never meant walk left mall im buring pain drugs next time ill crouch make sure empty stop shopping general                                                                                                                                                                                                                                                                                                                        \n",
      "3279    restless heart sleep difficult                                                                                                                                                                                                                                                                                                                                                                                                                                                                                                                                                                                                                                                                                                                                                                                                                                                                                                                                                                            \n",
      "2747    need adit stalking strange things started learn stalk im afraid mental disorders get worse even though still feel anxious afraid dont stalk hold adit doesnt feel disturbed                                                                                                                                                                                                                                                                                                                                                                                                                                                                                                                                                                                                                                                                                                                                                                                                                               \n",
      "Name: clean_text, Length: 6652, dtype: object\n"
     ]
    }
   ],
   "source": [
    "print(X_train)"
   ]
  },
  {
   "cell_type": "code",
   "execution_count": 40,
   "id": "c01077a4",
   "metadata": {},
   "outputs": [
    {
     "name": "stdout",
     "output_type": "stream",
     "text": [
      "2309    Depression       \n",
      "5847    Social Anxiety   \n",
      "2722    Depression       \n",
      "2167    Depression       \n",
      "2755    Depression       \n",
      "           ...           \n",
      "4388    PTSD             \n",
      "7906    Suicidal thoughts\n",
      "4874    PTSD             \n",
      "3279    Depression       \n",
      "2747    Depression       \n",
      "Name: topics, Length: 6652, dtype: object\n"
     ]
    }
   ],
   "source": [
    "print(y_train)"
   ]
  },
  {
   "cell_type": "code",
   "execution_count": 41,
   "id": "dccf5b6a",
   "metadata": {},
   "outputs": [
    {
     "data": {
      "text/plain": [
       "1364    worth asking dr temporary medication ww3 posts blow cant handle news everywhere tv left news station redditfbtwitter posts opening new tab seeing headlines im trying go things sometimes flash open see article work tvs colleagues talk always iran war certain targets around country drafted etc worth getting meds anxiety anti depression anything stop feeling dread burning stomach whenever see overhear                                                                                                                                                                                                                                                                                                                                                                                                                                                                                                                                           \n",
       "4317    didnt stop help eight months ago witnessed fatal car crash driver ejected internally decapitated random passerby first person scene provided cpr ran code ambulance got everything could died yesterday driving home saw car crash type car one provided cpr got triggered drove past without stopping help thought ambulances going way accident realized ambulance cop cars different accident mile ahead drove past car crash would first responder could possibly saved life feel awful like killed someone ive flashbacks massive anxiety since tried reach friends one answered drank lot restricted dont know sit feelings                                                                                                                                                                                                                                                                                                                           \n",
       "6469    im tired socially anxious moved college actively make friends first time years nights ago met really nice people one super nice welcomed social thing great time wandering around campus next day take bus camp super nice one came sat next great time group couldnt think anything say whole time occasionally responding got along people fine camp far talkative usual wasnt able muster courage step establish communication talk super nice friend much feel like absolute shit gone like 3 potentially good friends three probably meet new people feel like ive ignoring bunch im simply familiar wont see unless somehow works could initiate conversations without overthinking much id great apparently im yet ever tldr cant initiate conversation shit feel like ive missed great opportunity make friends screwed happened work already                                                                                                       \n",
       "6478    people talk social anxietyin public place anybody else ever example restaurant already nerving experience us sure social anxiety brought conversation proceed talk little intimate parts specifically knowing full well dont want talk everyone around hear people eavesdrop anyone tells dont denial sending us sorts overthinking maybe even panic attacks symptoms like sweating question smell sweat shocked quite lot time people us oblivious negatives come someone okay around people ie normal extroverted person touch people react situations unable detect people feeling uncomfortable symptoms social anxiety                                                                                                                                                                                                                                                                                                                                 \n",
       "2946    cm please calm friends say okay research taking long time okay havent written thesis yet okay graduation bit behind plan okay im starting get restless research already 5 months 2 months internship                                                                                                                                                                                                                                                                                                                                                                                                                                                                                                                                                                                                                                                                                                                                                        \n",
       "                                                                                                        ...                                                                                                                                                                                                                                                                                                                                                                                                                                                                                                                                                                                                                                                                                                                                                                                                                                                         \n",
       "1941    ive gotten good faking happiness dont think people would ever believe told depressed im someone people always seen relatively successful fun around able great things guess somewhere along way ive actually become things still feel awful ive created persona doesnt really exist everyone knows thinks thats really feel depressed time fake happiness im burden others around plus ive created good reputation feel maintain try best maintain faade whenever occasionally falter people ask im excited happy life events takes cave reveal really feel time get home everyday im exhausted pretending someone im energy left anything friends get mad enthusiastic wanting go dont think friends would take cry help seriously dont blame person know much different really im currently therapy look medication soon want discreetly improve condition things dont get better soon dont know much longer keep honest people tell truth emotional state\n",
       "3266    said trial could sleep peacefully hell dog still restless                                                                                                                                                                                                                                                                                                                                                                                                                                                                                                                                                                                                                                                                                                                                                                                                                                                                                                   \n",
       "2580    gf scared losing interest clearly problem problems keeps obsessing cant get anything even smallest shit recurring problem appears losing interest depression shes always scared although weve together one year half never gave reason think never get anything right apparently im always something wrong something fuck                                                                                                                                                                                                                                                                                                                                                                                                                                                                                                                                                                                                                                   \n",
       "6144    friends class talking people know better sitting quietly hour half everyone else happy people                                                                                                                                                                                                                                                                                                                                                                                                                                                                                                                                                                                                                                                                                                                                                                                                                                                               \n",
       "2810    oh god week youre nervous really bad aaa                                                                                                                                                                                                                                                                                                                                                                                                                                                                                                                                                                                                                                                                                                                                                                                                                                                                                                                    \n",
       "Name: clean_text, Length: 1663, dtype: object"
      ]
     },
     "execution_count": 41,
     "metadata": {},
     "output_type": "execute_result"
    }
   ],
   "source": [
    "X_test"
   ]
  },
  {
   "cell_type": "code",
   "execution_count": 359,
   "id": "762e86c9",
   "metadata": {},
   "outputs": [],
   "source": [
    "#We will keep all the using models in a list and loop through the list for each model to get a mean accuracy\n",
    "models = [\n",
    "    RandomForestClassifier(n_estimators=100, max_depth=5, random_state=0),\n",
    "    LinearSVC(),\n",
    "    MultinomialNB(),\n",
    "    LogisticRegression(random_state=0,solver='lbfgs', max_iter=1000 ),\n",
    "]"
   ]
  },
  {
   "cell_type": "code",
   "execution_count": 360,
   "id": "708c0aa4",
   "metadata": {},
   "outputs": [],
   "source": [
    "# 5 Cross-validation, that uses different portions of the data to test and train a model on different iterations\n",
    "CV = 5\n",
    "cv_df = pd.DataFrame(index=range(CV * len(models)))"
   ]
  },
  {
   "cell_type": "code",
   "execution_count": 361,
   "id": "30a6f4d4",
   "metadata": {},
   "outputs": [],
   "source": [
    "entries = []\n",
    "for model in models:\n",
    "  model_name = model.__class__.__name__\n",
    "  accuracies = cross_val_score(model, features, labels, scoring='accuracy', cv=CV)\n",
    "  for fold_idx, accuracy in enumerate(accuracies):\n",
    "    entries.append((model_name, fold_idx, accuracy))\n",
    "cv_df = pd.DataFrame(entries, columns=['model_name', 'fold_idx', 'accuracy'])"
   ]
  },
  {
   "cell_type": "code",
   "execution_count": 362,
   "id": "48425b27",
   "metadata": {},
   "outputs": [
    {
     "data": {
      "text/html": [
       "<div>\n",
       "<style scoped>\n",
       "    .dataframe tbody tr th:only-of-type {\n",
       "        vertical-align: middle;\n",
       "    }\n",
       "\n",
       "    .dataframe tbody tr th {\n",
       "        vertical-align: top;\n",
       "    }\n",
       "\n",
       "    .dataframe thead th {\n",
       "        text-align: right;\n",
       "    }\n",
       "</style>\n",
       "<table border=\"1\" class=\"dataframe\">\n",
       "  <thead>\n",
       "    <tr style=\"text-align: right;\">\n",
       "      <th></th>\n",
       "      <th>Mean Accuracy</th>\n",
       "      <th>Standard deviation</th>\n",
       "    </tr>\n",
       "    <tr>\n",
       "      <th>model_name</th>\n",
       "      <th></th>\n",
       "      <th></th>\n",
       "    </tr>\n",
       "  </thead>\n",
       "  <tbody>\n",
       "    <tr>\n",
       "      <th>LinearSVC</th>\n",
       "      <td>0.722670</td>\n",
       "      <td>0.049379</td>\n",
       "    </tr>\n",
       "    <tr>\n",
       "      <th>LogisticRegression</th>\n",
       "      <td>0.734576</td>\n",
       "      <td>0.050196</td>\n",
       "    </tr>\n",
       "    <tr>\n",
       "      <th>MultinomialNB</th>\n",
       "      <td>0.704871</td>\n",
       "      <td>0.078716</td>\n",
       "    </tr>\n",
       "    <tr>\n",
       "      <th>RandomForestClassifier</th>\n",
       "      <td>0.652916</td>\n",
       "      <td>0.078986</td>\n",
       "    </tr>\n",
       "  </tbody>\n",
       "</table>\n",
       "</div>"
      ],
      "text/plain": [
       "                        Mean Accuracy  Standard deviation\n",
       "model_name                                               \n",
       "LinearSVC               0.722670       0.049379          \n",
       "LogisticRegression      0.734576       0.050196          \n",
       "MultinomialNB           0.704871       0.078716          \n",
       "RandomForestClassifier  0.652916       0.078986          "
      ]
     },
     "execution_count": 362,
     "metadata": {},
     "output_type": "execute_result"
    }
   ],
   "source": [
    "mean_accuracy = cv_df.groupby('model_name').accuracy.mean()\n",
    "std_accuracy = cv_df.groupby('model_name').accuracy.std()\n",
    "\n",
    "acc = pd.concat([mean_accuracy, std_accuracy], axis= 1, \n",
    "          ignore_index=True)\n",
    "acc.columns = ['Mean Accuracy', 'Standard deviation']\n",
    "acc"
   ]
  },
  {
   "cell_type": "code",
   "execution_count": 363,
   "id": "85993537",
   "metadata": {},
   "outputs": [
    {
     "data": {
      "image/png": "[encoded data removed]",
      "text/plain": [
       "<Figure size 576x360 with 1 Axes>"
      ]
     },
     "metadata": {
      "needs_background": "light"
     },
     "output_type": "display_data"
    }
   ],
   "source": [
    "plt.figure(figsize=(8,5))\n",
    "sns.boxplot(x='model_name', y='accuracy', \n",
    "            data=cv_df, \n",
    "            color='lightblue', \n",
    "            showmeans=True)\n",
    "plt.title(\"MEAN ACCURACY (cv = 5)n\", size=14);"
   ]
  },
  {
   "cell_type": "code",
   "execution_count": 364,
   "id": "54792c2b",
   "metadata": {},
   "outputs": [],
   "source": [
    "X_train, X_test, y_train, y_test,indices_train,indices_test = train_test_split(features, \n",
    "                                                               labels, \n",
    "                                                               data.index, test_size=0.25, \n",
    "                                                               random_state=1)\n",
    "model = LogisticRegression( max_iter=1000)\n",
    "model.fit(X_train, y_train)\n",
    "y_pred = model.predict(X_test)"
   ]
  },
  {
   "cell_type": "code",
   "execution_count": 365,
   "id": "b462e190",
   "metadata": {},
   "outputs": [
    {
     "name": "stdout",
     "output_type": "stream",
     "text": [
      "CLASSIFICATIION METRICS\n",
      "                   precision    recall  f1-score   support\n",
      "\n",
      "          Anxiety       0.67      0.70      0.68       393\n",
      "       Depression       0.74      0.60      0.66       418\n",
      "             PTSD       0.91      0.82      0.86       433\n",
      "   Social Anxiety       0.78      0.79      0.79       430\n",
      "Suicidal thoughts       0.67      0.83      0.74       405\n",
      "\n",
      "         accuracy                           0.75      2079\n",
      "        macro avg       0.75      0.75      0.75      2079\n",
      "     weighted avg       0.76      0.75      0.75      2079\n",
      "\n"
     ]
    }
   ],
   "source": [
    "# Classification report\n",
    "print('CLASSIFICATIION METRICS')\n",
    "print(metrics.classification_report(y_test, y_pred, \n",
    "                                    target_names= data['topics'].unique()))"
   ]
  },
  {
   "cell_type": "code",
   "execution_count": 366,
   "id": "bbc87c22",
   "metadata": {},
   "outputs": [],
   "source": [
    "X_train, X_test, y_train, y_test = train_test_split(X, y, test_size=0.25, random_state = 0)\n",
    "                                                   \n",
    "                                                 \n"
   ]
  },
  {
   "cell_type": "code",
   "execution_count": 367,
   "id": "82adf84b",
   "metadata": {},
   "outputs": [],
   "source": [
    "from sklearn.feature_extraction.text import TfidfTransformer\n",
    "from sklearn.feature_extraction.text import TfidfVectorizer\n",
    "tfidf = TfidfVectorizer(sublinear_tf=True, min_df=5,\n",
    "                        ngram_range=(1, 2), \n",
    "                        stop_words='english')"
   ]
  },
  {
   "cell_type": "code",
   "execution_count": 368,
   "id": "6cccc915",
   "metadata": {},
   "outputs": [],
   "source": [
    "fitted_vectorizer = tfidf.fit(X_train)\n",
    "tfidf_vectorizer_vectors = fitted_vectorizer.transform(X_train)\n",
    "model = LogisticRegression(max_iter=1000).fit(tfidf_vectorizer_vectors, y_train)\n"
   ]
  },
  {
   "cell_type": "code",
   "execution_count": 369,
   "id": "481d6598",
   "metadata": {},
   "outputs": [
    {
     "name": "stdout",
     "output_type": "stream",
     "text": [
      "['Depression']\n"
     ]
    }
   ],
   "source": [
    "result = \"\"\"Does anyone else get depressive thoughts and immediately hate yourself for them after? Whenever I think depressive thoughts like \"your friends are all pulling away from you because they don't need you\" or \"Everyone is better off without you because you're such a burden\" or whatever else, those thoughts are immediately followed by thoughts about how I'm stupid and selfish and childish for wallowing in pity and I should just suck it up because I need to grow up and realize that it's not all about me. \n",
    "\n",
    "It feels like a cycle that only ever makes me feel worse, especially about trying to reach out and have to burden someone else with my shit when they have their own shit going on. \n",
    "\n",
    "I couldn't even go to a second therapy session because I felt guilty for taking up the time of those who have to drive me there, and for taking up time from the counselor that could be used for someone that needed it a lot more.\n",
    "\n",
    "Does anyone else get like this?\"\"\"\n",
    "print(model.predict(fitted_vectorizer.transform([result])))\n"
   ]
  },
  {
   "cell_type": "code",
   "execution_count": 370,
   "id": "667a4a68",
   "metadata": {},
   "outputs": [
    {
     "name": "stdout",
     "output_type": "stream",
     "text": [
      "['Depression']\n"
     ]
    }
   ],
   "source": [
    " result = \"\"\"mood disorder. It causes severe symptoms that affect how you feel, think, and handle daily activities,\n",
    " such as sleeping, eating, or working. To be diagnosed with depression, the symptoms must be present for at least two \n",
    " weeks.\"\"\"\n",
    "print(model.predict(fitted_vectorizer.transform([result])))\n"
   ]
  },
  {
   "cell_type": "code",
   "execution_count": 371,
   "id": "022fc5d4",
   "metadata": {},
   "outputs": [
    {
     "name": "stdout",
     "output_type": "stream",
     "text": [
      "['Depression']\n"
     ]
    }
   ],
   "source": [
    " result = \"\"\"Tiredness or low energy, even when rested\n",
    "Restlessness or difficulty concentrating\n",
    "Difficulty in carrying out daily activities\n",
    "Changes in appetite or sleep patterns\n",
    "Aches or pains that have no obvious cause.\"\"\"\n",
    "print(model.predict(fitted_vectorizer.transform([result])))\n"
   ]
  },
  {
   "cell_type": "code",
   "execution_count": 372,
   "id": "8e888787",
   "metadata": {},
   "outputs": [
    {
     "name": "stdout",
     "output_type": "stream",
     "text": [
      "['Depression']\n"
     ]
    }
   ],
   "source": [
    "result = \"\"\"Persistent sadness, anxiousness or irritability\n",
    "Loss of interest in friends and activities that they normally enjoy\n",
    "Withdrawal from others and loneliness\n",
    "Feelings of worthlessness, hopelessness or guilt\n",
    "Taking risks they wouldn’t normally take  \n",
    "\"\"\"\n",
    "print(model.predict(fitted_vectorizer.transform([result])))\n"
   ]
  },
  {
   "cell_type": "code",
   "execution_count": 373,
   "id": "ebf77fca",
   "metadata": {},
   "outputs": [
    {
     "name": "stdout",
     "output_type": "stream",
     "text": [
      "['Social Anxiety']\n"
     ]
    }
   ],
   "source": [
    "result = \"\"\"They try to avoid situations where they might have to speak\n",
    "\n",
    "They withdraw from their personal and professional relationships\n",
    "\n",
    "They usually avoid eye contact in social settings\"\"\"\n",
    "print(model.predict(fitted_vectorizer.transform([result])))"
   ]
  },
  {
   "cell_type": "code",
   "execution_count": 374,
   "id": "2e6c3fe9",
   "metadata": {},
   "outputs": [
    {
     "name": "stdout",
     "output_type": "stream",
     "text": [
      "['PTSD']\n"
     ]
    }
   ],
   "source": [
    "result = \"\"\"Sexual or physical abuse or assault\n",
    "Serious vehicle accidents\n",
    "Combat or war zone exposure\n",
    "Serious medical events\n",
    "Seeing death or dead bodies, including while at work\n",
    "Unexpected death of a loved one\n",
    "Natural disasters\n",
    "Arson or house fires\n",
    "Torture\n",
    "Domestic violence\n",
    "Witnessing or experiencing violence, such as a homicide or suicide\n",
    "Terrorism or mass violence\"\"\"\n",
    "print(model.predict(fitted_vectorizer.transform([result])))"
   ]
  },
  {
   "cell_type": "code",
   "execution_count": 375,
   "id": "397f29b3",
   "metadata": {},
   "outputs": [
    {
     "name": "stdout",
     "output_type": "stream",
     "text": [
      "['Social Anxiety']\n"
     ]
    }
   ],
   "source": [
    "result = \"\"\"They try to avoid situations where they might have to speak\n",
    "\n",
    "They withdraw from their personal and professional relationships\n",
    "\n",
    "They usually avoid eye contact in social settings\"\"\"\n",
    "print(model.predict(fitted_vectorizer.transform([result])))"
   ]
  },
  {
   "cell_type": "code",
   "execution_count": 376,
   "id": "814ef52b",
   "metadata": {},
   "outputs": [
    {
     "name": "stdout",
     "output_type": "stream",
     "text": [
      "['PTSD']\n"
     ]
    }
   ],
   "source": [
    "result = \"\"\" Recurrent, unwanted distressing memories of the traumatic event\n",
    "Reliving the traumatic event as if it were happening again (flashbacks)\n",
    "Upsetting dreams or nightmares about the traumatic event\n",
    "Severe emotional distress or physical reactions to something that reminds you of the traumatic event\"\"\"\n",
    "print(model.predict(fitted_vectorizer.transform([result])))"
   ]
  },
  {
   "cell_type": "code",
   "execution_count": 377,
   "id": "a3ee94a0",
   "metadata": {},
   "outputs": [
    {
     "name": "stdout",
     "output_type": "stream",
     "text": [
      "['Depression']\n"
     ]
    }
   ],
   "source": [
    "predicted_output=\"\"\"Feeling sad or down\n",
    "Confused thinking or reduced ability to concentrate\n",
    "Excessive fears or worries, or extreme feelings of guilt\n",
    "Extreme mood changes of highs and lows\n",
    "Withdrawal from friends and activities\n",
    "Significant tiredness, low energy or problems sleeping\n",
    "Detachment from reality (delusions), paranoia or hallucinations\n",
    "Inability to cope with daily problems or stress\n",
    "Trouble understanding and relating to situations and to people\n",
    "Problems with alcohol or drug use\n",
    "Major changes in eating habits\n",
    "Sex drive changes\n",
    "Excessive anger, hostility or violence\n",
    "Suicidal thinking\"\"\"\n",
    "print(model.predict(fitted_vectorizer.transform([predicted_output])))"
   ]
  },
  {
   "cell_type": "code",
   "execution_count": 378,
   "id": "7170e5d6",
   "metadata": {},
   "outputs": [
    {
     "name": "stdout",
     "output_type": "stream",
     "text": [
      "['Anxiety']\n"
     ]
    }
   ],
   "source": [
    "predicted_output1=\"\"\"feeling uneasy, fidgety, or anxious.\n",
    "feeling of worry, imminent peril, or catastrophe.\n",
    "experiencing an elevated heart rate.\n",
    "fast breathing .\n",
    "feeling drained or feeble..\"\"\"\n",
    "print(model.predict(fitted_vectorizer.transform([predicted_output1])))"
   ]
  },
  {
   "cell_type": "code",
   "execution_count": 379,
   "id": "1cf11292",
   "metadata": {},
   "outputs": [
    {
     "name": "stdout",
     "output_type": "stream",
     "text": [
      "['Social Anxiety']\n"
     ]
    }
   ],
   "source": [
    "predicted_output1=\"\"\" And if I had to do something a bit weirder (even like just carrying a large bag or some unusual items), I would be panicking the whole time. It got to the point where I became afraid I was breathing too loud, so I started focusing on my breathing, I could barely breathe because of the anxiety, and therefore I became even more anxious.\n",
    "\n",
    "So anyway, I thought maybe I could get used to situations like this if I started hanging out with people that don't care as much as I do. And he was actually a really fun and interesting guy, so sometimes my social anxiety around him was a bit better. But then I found out he probably thinks I'm into him, since I was always acting a bit nervous and trying to spend a lot of time with him. And I started freaking out, because I don't like him in that way, so I didn't want him to think anything. And suddenly I didn't know what to say, and it all became really awkward. And now I'm afraid he thinks it even more, so I'm more anxious and it's even more awkward... And now I feel like I kinda lost one of my very few friends and it makes me really sad...\n",
    "\n",
    "I.\"\"\"\n",
    "print(model.predict(fitted_vectorizer.transform([predicted_output1])))"
   ]
  },
  {
   "cell_type": "code",
   "execution_count": null,
   "id": "1b53c153",
   "metadata": {},
   "outputs": [],
   "source": []
  },
  {
   "cell_type": "code",
   "execution_count": null,
   "id": "1cedd1a8",
   "metadata": {},
   "outputs": [],
   "source": []
  },
  {
   "cell_type": "code",
   "execution_count": null,
   "id": "12ac2d34",
   "metadata": {},
   "outputs": [],
   "source": []
  },
  {
   "cell_type": "code",
   "execution_count": null,
   "id": "92b4144f",
   "metadata": {},
   "outputs": [],
   "source": []
  },
  {
   "cell_type": "code",
   "execution_count": null,
   "id": "ef2060dc",
   "metadata": {},
   "outputs": [],
   "source": []
  },
  {
   "cell_type": "code",
   "execution_count": null,
   "id": "db52655a",
   "metadata": {},
   "outputs": [],
   "source": []
  },
  {
   "cell_type": "code",
   "execution_count": 380,
   "id": "9137481f",
   "metadata": {},
   "outputs": [],
   "source": [
    "\n"
   ]
  },
  {
   "cell_type": "code",
   "execution_count": 381,
   "id": "7ad12447",
   "metadata": {},
   "outputs": [
    {
     "data": {
      "text/html": [
       "<div>\n",
       "<style scoped>\n",
       "    .dataframe tbody tr th:only-of-type {\n",
       "        vertical-align: middle;\n",
       "    }\n",
       "\n",
       "    .dataframe tbody tr th {\n",
       "        vertical-align: top;\n",
       "    }\n",
       "\n",
       "    .dataframe thead th {\n",
       "        text-align: right;\n",
       "    }\n",
       "</style>\n",
       "<table border=\"1\" class=\"dataframe\">\n",
       "  <thead>\n",
       "    <tr style=\"text-align: right;\">\n",
       "      <th></th>\n",
       "      <th>post</th>\n",
       "      <th>topics</th>\n",
       "      <th>clean_text</th>\n",
       "      <th>category_id</th>\n",
       "      <th>msg_tokenized</th>\n",
       "    </tr>\n",
       "  </thead>\n",
       "  <tbody>\n",
       "    <tr>\n",
       "      <th>0</th>\n",
       "      <td>Does anyone else get anxious with working? im scared that im going to have to do repairs that cost of money.</td>\n",
       "      <td>Anxiety</td>\n",
       "      <td>anyone else get anxious working im scared im going repairs cost money</td>\n",
       "      <td>0</td>\n",
       "      <td>[anyone, else, get, anxious, working, im, scared, im, going, repairs, cost, money]</td>\n",
       "    </tr>\n",
       "    <tr>\n",
       "      <th>1</th>\n",
       "      <td>Help with anxiety-inducing fears about school caused by a health issue I'm 35 and planning to go back to grad school, but over the years I developed some eye floaters that I can mostly ignore. They are just out of my visible sight range when reading small books like novels, but I started studying for the GRE with a big textbook and realized how obvious these floaters were now, and they've left me with anxiety about how I'm going to cope with school if, on top of everything else like how I'm no longer used to student life, how grad school is likely the hardest form of school I've ever done etc, add to that this problem with distracting floaters in my eyes that distract and annoy me.\\n\\nI really don't know how to deal here. I am not confident in exposure therapy as I have had these floaters for a few years and really only learned to deal with them by changing my lifestyle such that I don't have to deal with them. It's not a big issue, and some junk in my eyes shouldn't be THAT much of a problem. But just now I just glanced at my book for a few minutes and now I'm dizzy with worry about it.\\n\\nWhat to do?</td>\n",
       "      <td>Anxiety</td>\n",
       "      <td>help anxietyinducing fears school caused health issue im 35 planning go back grad school years developed eye floaters mostly ignore visible sight range reading small books like novels started studying gre big textbook realized obvious floaters theyve left anxiety im going cope school top everything else like im longer used student life grad school likely hardest form school ive ever done etc add problem distracting floaters eyes distract annoy really dont know deal confident exposure therapy floaters years really learned deal changing lifestyle dont deal big issue junk eyes shouldnt much problem glanced book minutes im dizzy worry</td>\n",
       "      <td>0</td>\n",
       "      <td>[help, anxietyinducing, fears, school, caused, health, issue, im, 35, planning, go, back, grad, school, years, developed, eye, floaters, mostly, ignore, visible, sight, range, reading, small, books, like, novels, started, studying, gre, big, textbook, realized, obvious, floaters, theyve, left, anxiety, im, going, cope, school, top, everything, else, like, im, longer, used, student, life, grad, school, likely, hardest, form, school, ive, ever, done, etc, add, problem, distracting, floaters, eyes, distract, annoy, really, dont, know, deal, confident, exposure, therapy, floaters, years, really, learned, deal, changing, lifestyle, dont, deal, big, issue, junk, eyes, shouldnt, much, problem, glanced, book, minutes, im, dizzy, worry]</td>\n",
       "    </tr>\n",
       "    <tr>\n",
       "      <th>2</th>\n",
       "      <td>Use up what's left and throw the rest away I recently returned from 6 years working overseas.\\n\\nUnfortunately in the last few years my drinking and stimulant became worse and was detrimental to my mental and physical health.\\n\\nI'm doing fine now as far as that is concerned. Attended therapy, clean and sober since November last year.\\n\\nWhen I came back I heard a few of my \"friends\" use the following phrase,\\n\\n\"we'll just use up what's left of him and then throw the rest away\"\\n\\nI've never heard this before. I've always been a people pleasing personality type and I'm struggling hard to determine how to interpret it.\\n\\nMaybe I just don't want to face facts that it means exactly what it says... That by hanging around with these people I put myself in a weak position and they aren't real friends at all.\\n\\nAny thoughts?</td>\n",
       "      <td>Anxiety</td>\n",
       "      <td>use whats left throw rest away recently returned 6 years working overseas unfortunately last years drinking stimulant became worse detrimental mental physical health im fine far concerned attended therapy clean sober since november last year came back heard friends use following phrase well use whats left throw rest away ive never heard ive always people pleasing personality type im struggling hard determine interpret maybe dont want face facts means exactly says hanging around people put weak position arent real friends thoughts</td>\n",
       "      <td>0</td>\n",
       "      <td>[use, whats, left, throw, rest, away, recently, returned, 6, years, working, overseas, unfortunately, last, years, drinking, stimulant, became, worse, detrimental, mental, physical, health, im, fine, far, concerned, attended, therapy, clean, sober, since, november, last, year, came, back, heard, friends, use, following, phrase, well, use, whats, left, throw, rest, away, ive, never, heard, ive, always, people, pleasing, personality, type, im, struggling, hard, determine, interpret, maybe, dont, want, face, facts, means, exactly, says, hanging, around, people, put, weak, position, arent, real, friends, thoughts]</td>\n",
       "    </tr>\n",
       "    <tr>\n",
       "      <th>3</th>\n",
       "      <td>My brain is driving me crazy! Im a perfectionist and think everyone hates me all the time. I literally always worried Ive done something wrong. \\n\\nIm at my first big professional conference in a major us city. I barely slept last night because of a backache and nerves. That and the jet lag is impairing  my functioning and I have blotchy skin and my dress is riding up on my legs and Ive had to pull it down. All I had to do today was register for the conference, but I was confused at every step and feel that everyone thinks Im stupid or hungover or unprofessional or something. Im walking around this city I do not know oblivious and feel embarrassed and stupid. My anxiety is killing me and men keep hitting on me. I havent been away from my husband since we moved in together and I feel so dumb and small. \\n\\nIm so scared for my presentation tomorrow. Can someone either console me or kindly put me out of my misery?</td>\n",
       "      <td>Anxiety</td>\n",
       "      <td>brain driving crazy im perfectionist think everyone hates time literally always worried ive done something wrong im first big professional conference major us city barely slept last night backache nerves jet lag impairing functioning blotchy skin dress riding legs ive pull today register conference confused every step feel everyone thinks im stupid hungover unprofessional something im walking around city know oblivious feel embarrassed stupid anxiety killing men keep hitting havent away husband since moved together feel dumb small im scared presentation tomorrow someone either console kindly put misery</td>\n",
       "      <td>0</td>\n",
       "      <td>[brain, driving, crazy, im, perfectionist, think, everyone, hates, time, literally, always, worried, ive, done, something, wrong, im, first, big, professional, conference, major, us, city, barely, slept, last, night, backache, nerves, jet, lag, impairing, functioning, blotchy, skin, dress, riding, legs, ive, pull, today, register, conference, confused, every, step, feel, everyone, thinks, im, stupid, hungover, unprofessional, something, im, walking, around, city, know, oblivious, feel, embarrassed, stupid, anxiety, killing, men, keep, hitting, havent, away, husband, since, moved, together, feel, dumb, small, im, scared, presentation, tomorrow, someone, either, console, kindly, put, misery]</td>\n",
       "    </tr>\n",
       "    <tr>\n",
       "      <th>4</th>\n",
       "      <td>Does anyone else feel like the worst person ever if they annoy a friend? Hey Reddit. Basically, I have mild anxiety. But something that really messes with my head is when I have a fall out or get a blunt text from a friend to say I annoyed them when I did something. My first response is always I'm sorry (and trying not to say it a million times over) but my mind then goes through this turmoil where I have all these esteem lowering thoughts along the lines of, they'll hate me forever now, or I'm such a horrible person, as well as being filled with guilt for upsetting the person.\\nIt always turns out that whatever I did wrong only annoyed them for a short period of time and before I knew it life is back to normal, I just wish I could control the horrible negative wave that comes over me</td>\n",
       "      <td>Anxiety</td>\n",
       "      <td>anyone else feel like worst person ever annoy friend hey reddit basically mild anxiety something really messes head fall get blunt text friend say annoyed something first response always im sorry trying say million times mind goes turmoil esteem lowering thoughts along lines theyll hate forever im horrible person well filled guilt upsetting person always turns whatever wrong annoyed short period time knew life back normal wish could control horrible negative wave comes</td>\n",
       "      <td>0</td>\n",
       "      <td>[anyone, else, feel, like, worst, person, ever, annoy, friend, hey, reddit, basically, mild, anxiety, something, really, messes, head, fall, get, blunt, text, friend, say, annoyed, something, first, response, always, im, sorry, trying, say, million, times, mind, goes, turmoil, esteem, lowering, thoughts, along, lines, theyll, hate, forever, im, horrible, person, well, filled, guilt, upsetting, person, always, turns, whatever, wrong, annoyed, short, period, time, knew, life, back, normal, wish, could, control, horrible, negative, wave, comes]</td>\n",
       "    </tr>\n",
       "  </tbody>\n",
       "</table>\n",
       "</div>"
      ],
      "text/plain": [
       "                                                                                                                                                                                                                                                                                                                                                                                                                                                                                                                                                                                                                                                                                                                                                                                                                                                                                                                                                                                                                                                                                                                                                              post  \\\n",
       "0  Does anyone else get anxious with working? im scared that im going to have to do repairs that cost of money.                                                                                                                                                                                                                                                                                                                                                                                                                                                                                                                                                                                                                                                                                                                                                                                                                                                                                                                                                                                                                                                      \n",
       "1  Help with anxiety-inducing fears about school caused by a health issue I'm 35 and planning to go back to grad school, but over the years I developed some eye floaters that I can mostly ignore. They are just out of my visible sight range when reading small books like novels, but I started studying for the GRE with a big textbook and realized how obvious these floaters were now, and they've left me with anxiety about how I'm going to cope with school if, on top of everything else like how I'm no longer used to student life, how grad school is likely the hardest form of school I've ever done etc, add to that this problem with distracting floaters in my eyes that distract and annoy me.\\n\\nI really don't know how to deal here. I am not confident in exposure therapy as I have had these floaters for a few years and really only learned to deal with them by changing my lifestyle such that I don't have to deal with them. It's not a big issue, and some junk in my eyes shouldn't be THAT much of a problem. But just now I just glanced at my book for a few minutes and now I'm dizzy with worry about it.\\n\\nWhat to do?   \n",
       "2  Use up what's left and throw the rest away I recently returned from 6 years working overseas.\\n\\nUnfortunately in the last few years my drinking and stimulant became worse and was detrimental to my mental and physical health.\\n\\nI'm doing fine now as far as that is concerned. Attended therapy, clean and sober since November last year.\\n\\nWhen I came back I heard a few of my \"friends\" use the following phrase,\\n\\n\"we'll just use up what's left of him and then throw the rest away\"\\n\\nI've never heard this before. I've always been a people pleasing personality type and I'm struggling hard to determine how to interpret it.\\n\\nMaybe I just don't want to face facts that it means exactly what it says... That by hanging around with these people I put myself in a weak position and they aren't real friends at all.\\n\\nAny thoughts?                                                                                                                                                                                                                                                                                                  \n",
       "3  My brain is driving me crazy! Im a perfectionist and think everyone hates me all the time. I literally always worried Ive done something wrong. \\n\\nIm at my first big professional conference in a major us city. I barely slept last night because of a backache and nerves. That and the jet lag is impairing  my functioning and I have blotchy skin and my dress is riding up on my legs and Ive had to pull it down. All I had to do today was register for the conference, but I was confused at every step and feel that everyone thinks Im stupid or hungover or unprofessional or something. Im walking around this city I do not know oblivious and feel embarrassed and stupid. My anxiety is killing me and men keep hitting on me. I havent been away from my husband since we moved in together and I feel so dumb and small. \\n\\nIm so scared for my presentation tomorrow. Can someone either console me or kindly put me out of my misery?                                                                                                                                                                                                      \n",
       "4  Does anyone else feel like the worst person ever if they annoy a friend? Hey Reddit. Basically, I have mild anxiety. But something that really messes with my head is when I have a fall out or get a blunt text from a friend to say I annoyed them when I did something. My first response is always I'm sorry (and trying not to say it a million times over) but my mind then goes through this turmoil where I have all these esteem lowering thoughts along the lines of, they'll hate me forever now, or I'm such a horrible person, as well as being filled with guilt for upsetting the person.\\nIt always turns out that whatever I did wrong only annoyed them for a short period of time and before I knew it life is back to normal, I just wish I could control the horrible negative wave that comes over me                                                                                                                                                                                                                                                                                                                                       \n",
       "\n",
       "    topics  \\\n",
       "0  Anxiety   \n",
       "1  Anxiety   \n",
       "2  Anxiety   \n",
       "3  Anxiety   \n",
       "4  Anxiety   \n",
       "\n",
       "                                                                                                                                                                                                                                                                                                                                                                                                                                                                                                                                                                                                                                                       clean_text  \\\n",
       "0  anyone else get anxious working im scared im going repairs cost money                                                                                                                                                                                                                                                                                                                                                                                                                                                                                                                                                                                            \n",
       "1  help anxietyinducing fears school caused health issue im 35 planning go back grad school years developed eye floaters mostly ignore visible sight range reading small books like novels started studying gre big textbook realized obvious floaters theyve left anxiety im going cope school top everything else like im longer used student life grad school likely hardest form school ive ever done etc add problem distracting floaters eyes distract annoy really dont know deal confident exposure therapy floaters years really learned deal changing lifestyle dont deal big issue junk eyes shouldnt much problem glanced book minutes im dizzy worry   \n",
       "2  use whats left throw rest away recently returned 6 years working overseas unfortunately last years drinking stimulant became worse detrimental mental physical health im fine far concerned attended therapy clean sober since november last year came back heard friends use following phrase well use whats left throw rest away ive never heard ive always people pleasing personality type im struggling hard determine interpret maybe dont want face facts means exactly says hanging around people put weak position arent real friends thoughts                                                                                                          \n",
       "3  brain driving crazy im perfectionist think everyone hates time literally always worried ive done something wrong im first big professional conference major us city barely slept last night backache nerves jet lag impairing functioning blotchy skin dress riding legs ive pull today register conference confused every step feel everyone thinks im stupid hungover unprofessional something im walking around city know oblivious feel embarrassed stupid anxiety killing men keep hitting havent away husband since moved together feel dumb small im scared presentation tomorrow someone either console kindly put misery                                \n",
       "4  anyone else feel like worst person ever annoy friend hey reddit basically mild anxiety something really messes head fall get blunt text friend say annoyed something first response always im sorry trying say million times mind goes turmoil esteem lowering thoughts along lines theyll hate forever im horrible person well filled guilt upsetting person always turns whatever wrong annoyed short period time knew life back normal wish could control horrible negative wave comes                                                                                                                                                                        \n",
       "\n",
       "   category_id  \\\n",
       "0  0             \n",
       "1  0             \n",
       "2  0             \n",
       "3  0             \n",
       "4  0             \n",
       "\n",
       "                                                                                                                                                                                                                                                                                                                                                                                                                                                                                                                                                                                                                                                                                                                                                       msg_tokenized  \n",
       "0  [anyone, else, get, anxious, working, im, scared, im, going, repairs, cost, money]                                                                                                                                                                                                                                                                                                                                                                                                                                                                                                                                                                                                                                                                                 \n",
       "1  [help, anxietyinducing, fears, school, caused, health, issue, im, 35, planning, go, back, grad, school, years, developed, eye, floaters, mostly, ignore, visible, sight, range, reading, small, books, like, novels, started, studying, gre, big, textbook, realized, obvious, floaters, theyve, left, anxiety, im, going, cope, school, top, everything, else, like, im, longer, used, student, life, grad, school, likely, hardest, form, school, ive, ever, done, etc, add, problem, distracting, floaters, eyes, distract, annoy, really, dont, know, deal, confident, exposure, therapy, floaters, years, really, learned, deal, changing, lifestyle, dont, deal, big, issue, junk, eyes, shouldnt, much, problem, glanced, book, minutes, im, dizzy, worry]  \n",
       "2  [use, whats, left, throw, rest, away, recently, returned, 6, years, working, overseas, unfortunately, last, years, drinking, stimulant, became, worse, detrimental, mental, physical, health, im, fine, far, concerned, attended, therapy, clean, sober, since, november, last, year, came, back, heard, friends, use, following, phrase, well, use, whats, left, throw, rest, away, ive, never, heard, ive, always, people, pleasing, personality, type, im, struggling, hard, determine, interpret, maybe, dont, want, face, facts, means, exactly, says, hanging, around, people, put, weak, position, arent, real, friends, thoughts]                                                                                                                          \n",
       "3  [brain, driving, crazy, im, perfectionist, think, everyone, hates, time, literally, always, worried, ive, done, something, wrong, im, first, big, professional, conference, major, us, city, barely, slept, last, night, backache, nerves, jet, lag, impairing, functioning, blotchy, skin, dress, riding, legs, ive, pull, today, register, conference, confused, every, step, feel, everyone, thinks, im, stupid, hungover, unprofessional, something, im, walking, around, city, know, oblivious, feel, embarrassed, stupid, anxiety, killing, men, keep, hitting, havent, away, husband, since, moved, together, feel, dumb, small, im, scared, presentation, tomorrow, someone, either, console, kindly, put, misery]                                         \n",
       "4  [anyone, else, feel, like, worst, person, ever, annoy, friend, hey, reddit, basically, mild, anxiety, something, really, messes, head, fall, get, blunt, text, friend, say, annoyed, something, first, response, always, im, sorry, trying, say, million, times, mind, goes, turmoil, esteem, lowering, thoughts, along, lines, theyll, hate, forever, im, horrible, person, well, filled, guilt, upsetting, person, always, turns, whatever, wrong, annoyed, short, period, time, knew, life, back, normal, wish, could, control, horrible, negative, wave, comes]                                                                                                                                                                                                "
      ]
     },
     "execution_count": 381,
     "metadata": {},
     "output_type": "execute_result"
    }
   ],
   "source": []
  },
  {
   "cell_type": "code",
   "execution_count": null,
   "id": "d947de8b",
   "metadata": {},
   "outputs": [],
   "source": []
  },
  {
   "cell_type": "code",
   "execution_count": null,
   "id": "654d94f0",
   "metadata": {},
   "outputs": [],
   "source": []
  },
  {
   "cell_type": "code",
   "execution_count": null,
   "id": "0c7303fb",
   "metadata": {},
   "outputs": [],
   "source": []
  }
 ],
 "metadata": {
  "kernelspec": {
   "display_name": "Python 3 (ipykernel)",
   "language": "python",
   "name": "python3"
  },
  "language_info": {
   "codemirror_mode": {
    "name": "ipython",
    "version": 3
   },
   "file_extension": ".py",
   "mimetype": "text/x-python",
   "name": "python",
   "nbconvert_exporter": "python",
   "pygments_lexer": "ipython3",
   "version": "3.9.12"
  }
 },
 "nbformat": 4,
 "nbformat_minor": 5
}
